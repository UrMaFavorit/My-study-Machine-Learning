{
 "cells": [
  {
   "cell_type": "code",
   "execution_count": 1,
   "metadata": {},
   "outputs": [],
   "source": [
    "import pandas as pd\n",
    "import numpy as np\n",
    "import matplotlib.pyplot as plt \n",
    "\n",
    "import warnings\n",
    "warnings.filterwarnings(\"ignore\")  # 경고를 무시함"
   ]
  },
  {
   "cell_type": "code",
   "execution_count": 2,
   "metadata": {},
   "outputs": [],
   "source": [
    "train = pd.read_csv(\"./smhrd/train.csv\")\n",
    "test = pd.read_csv(\"./smhrd/test.csv\")\n",
    "\n",
    "train.drop(\"ID\",axis=1,inplace=True)\n",
    "test.drop(\"ID\",axis=1,inplace=True)"
   ]
  },
  {
   "cell_type": "code",
   "execution_count": 3,
   "metadata": {},
   "outputs": [
    {
     "data": {
      "text/html": [
       "<div>\n",
       "<style scoped>\n",
       "    .dataframe tbody tr th:only-of-type {\n",
       "        vertical-align: middle;\n",
       "    }\n",
       "\n",
       "    .dataframe tbody tr th {\n",
       "        vertical-align: top;\n",
       "    }\n",
       "\n",
       "    .dataframe thead th {\n",
       "        text-align: right;\n",
       "    }\n",
       "</style>\n",
       "<table border=\"1\" class=\"dataframe\">\n",
       "  <thead>\n",
       "    <tr style=\"text-align: right;\">\n",
       "      <th></th>\n",
       "      <th>Customer_care_calls</th>\n",
       "      <th>Customer_rating</th>\n",
       "      <th>Cost_of_the_Product</th>\n",
       "      <th>Prior_purchases</th>\n",
       "      <th>Discount_offered</th>\n",
       "      <th>Reached.on.Time_Y.N</th>\n",
       "    </tr>\n",
       "  </thead>\n",
       "  <tbody>\n",
       "    <tr>\n",
       "      <th>Customer_care_calls</th>\n",
       "      <td>1.000000</td>\n",
       "      <td>0.013420</td>\n",
       "      <td>0.047041</td>\n",
       "      <td>0.173709</td>\n",
       "      <td>-0.158465</td>\n",
       "      <td>-0.070266</td>\n",
       "    </tr>\n",
       "    <tr>\n",
       "      <th>Customer_rating</th>\n",
       "      <td>0.013420</td>\n",
       "      <td>1.000000</td>\n",
       "      <td>-0.001961</td>\n",
       "      <td>0.008217</td>\n",
       "      <td>-0.016456</td>\n",
       "      <td>0.011275</td>\n",
       "    </tr>\n",
       "    <tr>\n",
       "      <th>Cost_of_the_Product</th>\n",
       "      <td>0.047041</td>\n",
       "      <td>-0.001961</td>\n",
       "      <td>1.000000</td>\n",
       "      <td>0.028947</td>\n",
       "      <td>-0.139349</td>\n",
       "      <td>-0.012811</td>\n",
       "    </tr>\n",
       "    <tr>\n",
       "      <th>Prior_purchases</th>\n",
       "      <td>0.173709</td>\n",
       "      <td>0.008217</td>\n",
       "      <td>0.028947</td>\n",
       "      <td>1.000000</td>\n",
       "      <td>-0.081868</td>\n",
       "      <td>-0.065160</td>\n",
       "    </tr>\n",
       "    <tr>\n",
       "      <th>Discount_offered</th>\n",
       "      <td>-0.158465</td>\n",
       "      <td>-0.016456</td>\n",
       "      <td>-0.139349</td>\n",
       "      <td>-0.081868</td>\n",
       "      <td>1.000000</td>\n",
       "      <td>0.397393</td>\n",
       "    </tr>\n",
       "    <tr>\n",
       "      <th>Reached.on.Time_Y.N</th>\n",
       "      <td>-0.070266</td>\n",
       "      <td>0.011275</td>\n",
       "      <td>-0.012811</td>\n",
       "      <td>-0.065160</td>\n",
       "      <td>0.397393</td>\n",
       "      <td>1.000000</td>\n",
       "    </tr>\n",
       "  </tbody>\n",
       "</table>\n",
       "</div>"
      ],
      "text/plain": [
       "                     Customer_care_calls  Customer_rating  \\\n",
       "Customer_care_calls             1.000000         0.013420   \n",
       "Customer_rating                 0.013420         1.000000   \n",
       "Cost_of_the_Product             0.047041        -0.001961   \n",
       "Prior_purchases                 0.173709         0.008217   \n",
       "Discount_offered               -0.158465        -0.016456   \n",
       "Reached.on.Time_Y.N            -0.070266         0.011275   \n",
       "\n",
       "                     Cost_of_the_Product  Prior_purchases  Discount_offered  \\\n",
       "Customer_care_calls             0.047041         0.173709         -0.158465   \n",
       "Customer_rating                -0.001961         0.008217         -0.016456   \n",
       "Cost_of_the_Product             1.000000         0.028947         -0.139349   \n",
       "Prior_purchases                 0.028947         1.000000         -0.081868   \n",
       "Discount_offered               -0.139349        -0.081868          1.000000   \n",
       "Reached.on.Time_Y.N            -0.012811        -0.065160          0.397393   \n",
       "\n",
       "                     Reached.on.Time_Y.N  \n",
       "Customer_care_calls            -0.070266  \n",
       "Customer_rating                 0.011275  \n",
       "Cost_of_the_Product            -0.012811  \n",
       "Prior_purchases                -0.065160  \n",
       "Discount_offered                0.397393  \n",
       "Reached.on.Time_Y.N             1.000000  "
      ]
     },
     "execution_count": 3,
     "metadata": {},
     "output_type": "execute_result"
    }
   ],
   "source": [
    "train.corr()"
   ]
  },
  {
   "cell_type": "code",
   "execution_count": 4,
   "metadata": {
    "scrolled": true
   },
   "outputs": [
    {
     "name": "stdout",
     "output_type": "stream",
     "text": [
      "<class 'pandas.core.frame.DataFrame'>\n",
      "RangeIndex: 6999 entries, 0 to 6998\n",
      "Data columns (total 11 columns):\n",
      " #   Column               Non-Null Count  Dtype  \n",
      "---  ------               --------------  -----  \n",
      " 0   Warehouse_block      6999 non-null   object \n",
      " 1   Mode_of_Shipment     6999 non-null   object \n",
      " 2   Customer_care_calls  5423 non-null   float64\n",
      " 3   Customer_rating      6999 non-null   int64  \n",
      " 4   Cost_of_the_Product  6999 non-null   int64  \n",
      " 5   Prior_purchases      6049 non-null   float64\n",
      " 6   Product_importance   6999 non-null   object \n",
      " 7   Gender               6999 non-null   object \n",
      " 8   Discount_offered     3468 non-null   float64\n",
      " 9   Weight_in_gms        6999 non-null   object \n",
      " 10  Reached.on.Time_Y.N  6999 non-null   int64  \n",
      "dtypes: float64(3), int64(3), object(5)\n",
      "memory usage: 601.6+ KB\n"
     ]
    }
   ],
   "source": [
    "train.info()"
   ]
  },
  {
   "cell_type": "code",
   "execution_count": 5,
   "metadata": {},
   "outputs": [
    {
     "name": "stdout",
     "output_type": "stream",
     "text": [
      "<class 'pandas.core.frame.DataFrame'>\n",
      "RangeIndex: 4000 entries, 0 to 3999\n",
      "Data columns (total 10 columns):\n",
      " #   Column               Non-Null Count  Dtype  \n",
      "---  ------               --------------  -----  \n",
      " 0   Warehouse_block      4000 non-null   object \n",
      " 1   Mode_of_Shipment     4000 non-null   object \n",
      " 2   Customer_care_calls  3144 non-null   float64\n",
      " 3   Customer_rating      4000 non-null   int64  \n",
      " 4   Cost_of_the_Product  4000 non-null   int64  \n",
      " 5   Prior_purchases      3633 non-null   float64\n",
      " 6   Product_importance   4000 non-null   object \n",
      " 7   Gender               4000 non-null   object \n",
      " 8   Discount_offered     2085 non-null   float64\n",
      " 9   Weight_in_gms        4000 non-null   object \n",
      "dtypes: float64(3), int64(2), object(5)\n",
      "memory usage: 312.6+ KB\n"
     ]
    }
   ],
   "source": [
    "test.info()"
   ]
  },
  {
   "cell_type": "code",
   "execution_count": 6,
   "metadata": {},
   "outputs": [
    {
     "data": {
      "text/plain": [
       "Index(['Warehouse_block ', 'Mode_of_Shipment', 'Customer_care_calls',\n",
       "       'Customer_rating', 'Cost_of_the_Product', 'Prior_purchases',\n",
       "       'Product_importance', 'Gender', 'Discount_offered', 'Weight_in_gms',\n",
       "       'Reached.on.Time_Y.N'],\n",
       "      dtype='object')"
      ]
     },
     "execution_count": 6,
     "metadata": {},
     "output_type": "execute_result"
    }
   ],
   "source": [
    "train.columns"
   ]
  },
  {
   "cell_type": "code",
   "execution_count": 7,
   "metadata": {},
   "outputs": [
    {
     "data": {
      "text/plain": [
       "Index(['Warehouse_block ', 'Mode_of_Shipment', 'Customer_care_calls',\n",
       "       'Customer_rating', 'Cost_of_the_Product', 'Prior_purchases',\n",
       "       'Product_importance', 'Gender', 'Discount_offered', 'Weight_in_gms'],\n",
       "      dtype='object')"
      ]
     },
     "execution_count": 7,
     "metadata": {},
     "output_type": "execute_result"
    }
   ],
   "source": [
    "test.columns"
   ]
  },
  {
   "cell_type": "markdown",
   "metadata": {},
   "source": [
    "# 결측치 채우기"
   ]
  },
  {
   "cell_type": "markdown",
   "metadata": {},
   "source": [
    "# Customer_care_calls"
   ]
  },
  {
   "cell_type": "code",
   "execution_count": 8,
   "metadata": {},
   "outputs": [
    {
     "data": {
      "text/html": [
       "<div>\n",
       "<style scoped>\n",
       "    .dataframe tbody tr th:only-of-type {\n",
       "        vertical-align: middle;\n",
       "    }\n",
       "\n",
       "    .dataframe tbody tr th {\n",
       "        vertical-align: top;\n",
       "    }\n",
       "\n",
       "    .dataframe thead th {\n",
       "        text-align: right;\n",
       "    }\n",
       "</style>\n",
       "<table border=\"1\" class=\"dataframe\">\n",
       "  <thead>\n",
       "    <tr style=\"text-align: right;\">\n",
       "      <th></th>\n",
       "      <th>Warehouse_block</th>\n",
       "      <th>Mode_of_Shipment</th>\n",
       "      <th>Customer_care_calls</th>\n",
       "      <th>Customer_rating</th>\n",
       "      <th>Cost_of_the_Product</th>\n",
       "      <th>Prior_purchases</th>\n",
       "      <th>Product_importance</th>\n",
       "      <th>Gender</th>\n",
       "      <th>Discount_offered</th>\n",
       "      <th>Weight_in_gms</th>\n",
       "      <th>Reached.on.Time_Y.N</th>\n",
       "    </tr>\n",
       "  </thead>\n",
       "  <tbody>\n",
       "    <tr>\n",
       "      <th>4</th>\n",
       "      <td>D</td>\n",
       "      <td>Flight</td>\n",
       "      <td>NaN</td>\n",
       "      <td>1</td>\n",
       "      <td>195</td>\n",
       "      <td>6.0</td>\n",
       "      <td>high</td>\n",
       "      <td>F</td>\n",
       "      <td>NaN</td>\n",
       "      <td>4944</td>\n",
       "      <td>1</td>\n",
       "    </tr>\n",
       "    <tr>\n",
       "      <th>8</th>\n",
       "      <td>F</td>\n",
       "      <td>Ship</td>\n",
       "      <td>NaN</td>\n",
       "      <td>1</td>\n",
       "      <td>274</td>\n",
       "      <td>4.0</td>\n",
       "      <td>low</td>\n",
       "      <td>M</td>\n",
       "      <td>3.0</td>\n",
       "      <td>5979</td>\n",
       "      <td>0</td>\n",
       "    </tr>\n",
       "    <tr>\n",
       "      <th>14</th>\n",
       "      <td>F</td>\n",
       "      <td>Ship</td>\n",
       "      <td>NaN</td>\n",
       "      <td>3</td>\n",
       "      <td>194</td>\n",
       "      <td>3.0</td>\n",
       "      <td>low</td>\n",
       "      <td>F</td>\n",
       "      <td>NaN</td>\n",
       "      <td>4331</td>\n",
       "      <td>0</td>\n",
       "    </tr>\n",
       "    <tr>\n",
       "      <th>17</th>\n",
       "      <td>B</td>\n",
       "      <td>Ship</td>\n",
       "      <td>NaN</td>\n",
       "      <td>1</td>\n",
       "      <td>228</td>\n",
       "      <td>2.0</td>\n",
       "      <td>low</td>\n",
       "      <td>F</td>\n",
       "      <td>2.0</td>\n",
       "      <td>5435</td>\n",
       "      <td>0</td>\n",
       "    </tr>\n",
       "    <tr>\n",
       "      <th>21</th>\n",
       "      <td>C</td>\n",
       "      <td>Flight</td>\n",
       "      <td>NaN</td>\n",
       "      <td>3</td>\n",
       "      <td>254</td>\n",
       "      <td>2.0</td>\n",
       "      <td>low</td>\n",
       "      <td>M</td>\n",
       "      <td>NaN</td>\n",
       "      <td>5546</td>\n",
       "      <td>0</td>\n",
       "    </tr>\n",
       "    <tr>\n",
       "      <th>...</th>\n",
       "      <td>...</td>\n",
       "      <td>...</td>\n",
       "      <td>...</td>\n",
       "      <td>...</td>\n",
       "      <td>...</td>\n",
       "      <td>...</td>\n",
       "      <td>...</td>\n",
       "      <td>...</td>\n",
       "      <td>...</td>\n",
       "      <td>...</td>\n",
       "      <td>...</td>\n",
       "    </tr>\n",
       "    <tr>\n",
       "      <th>6976</th>\n",
       "      <td>F</td>\n",
       "      <td>Flight</td>\n",
       "      <td>NaN</td>\n",
       "      <td>5</td>\n",
       "      <td>183</td>\n",
       "      <td>2.0</td>\n",
       "      <td>medium</td>\n",
       "      <td>F</td>\n",
       "      <td>2.0</td>\n",
       "      <td>4533</td>\n",
       "      <td>1</td>\n",
       "    </tr>\n",
       "    <tr>\n",
       "      <th>6977</th>\n",
       "      <td>F</td>\n",
       "      <td>Ship</td>\n",
       "      <td>NaN</td>\n",
       "      <td>1</td>\n",
       "      <td>222</td>\n",
       "      <td>NaN</td>\n",
       "      <td>medium</td>\n",
       "      <td>M</td>\n",
       "      <td>25.0</td>\n",
       "      <td>2582</td>\n",
       "      <td>1</td>\n",
       "    </tr>\n",
       "    <tr>\n",
       "      <th>6990</th>\n",
       "      <td>A</td>\n",
       "      <td>Flight</td>\n",
       "      <td>NaN</td>\n",
       "      <td>2</td>\n",
       "      <td>253</td>\n",
       "      <td>4.0</td>\n",
       "      <td>low</td>\n",
       "      <td>M</td>\n",
       "      <td>1.0</td>\n",
       "      <td>1294</td>\n",
       "      <td>1</td>\n",
       "    </tr>\n",
       "    <tr>\n",
       "      <th>6991</th>\n",
       "      <td>F</td>\n",
       "      <td>Ship</td>\n",
       "      <td>NaN</td>\n",
       "      <td>5</td>\n",
       "      <td>236</td>\n",
       "      <td>2.0</td>\n",
       "      <td>medium</td>\n",
       "      <td>M</td>\n",
       "      <td>2.0</td>\n",
       "      <td>5210</td>\n",
       "      <td>0</td>\n",
       "    </tr>\n",
       "    <tr>\n",
       "      <th>6996</th>\n",
       "      <td>D</td>\n",
       "      <td>Ship</td>\n",
       "      <td>NaN</td>\n",
       "      <td>1</td>\n",
       "      <td>300</td>\n",
       "      <td>5.0</td>\n",
       "      <td>low</td>\n",
       "      <td>F</td>\n",
       "      <td>10.0</td>\n",
       "      <td>1787</td>\n",
       "      <td>0</td>\n",
       "    </tr>\n",
       "  </tbody>\n",
       "</table>\n",
       "<p>1576 rows × 11 columns</p>\n",
       "</div>"
      ],
      "text/plain": [
       "     Warehouse_block  Mode_of_Shipment  Customer_care_calls  Customer_rating  \\\n",
       "4                   D           Flight                  NaN                1   \n",
       "8                   F             Ship                  NaN                1   \n",
       "14                  F             Ship                  NaN                3   \n",
       "17                  B             Ship                  NaN                1   \n",
       "21                  C           Flight                  NaN                3   \n",
       "...               ...              ...                  ...              ...   \n",
       "6976                F           Flight                  NaN                5   \n",
       "6977                F             Ship                  NaN                1   \n",
       "6990                A           Flight                  NaN                2   \n",
       "6991                F             Ship                  NaN                5   \n",
       "6996                D             Ship                  NaN                1   \n",
       "\n",
       "      Cost_of_the_Product  Prior_purchases Product_importance Gender  \\\n",
       "4                     195              6.0               high      F   \n",
       "8                     274              4.0                low      M   \n",
       "14                    194              3.0                low      F   \n",
       "17                    228              2.0                low      F   \n",
       "21                    254              2.0                low      M   \n",
       "...                   ...              ...                ...    ...   \n",
       "6976                  183              2.0             medium      F   \n",
       "6977                  222              NaN             medium      M   \n",
       "6990                  253              4.0                low      M   \n",
       "6991                  236              2.0             medium      M   \n",
       "6996                  300              5.0                low      F   \n",
       "\n",
       "      Discount_offered Weight_in_gms  Reached.on.Time_Y.N  \n",
       "4                  NaN          4944                    1  \n",
       "8                  3.0          5979                    0  \n",
       "14                 NaN          4331                    0  \n",
       "17                 2.0          5435                    0  \n",
       "21                 NaN          5546                    0  \n",
       "...                ...           ...                  ...  \n",
       "6976               2.0          4533                    1  \n",
       "6977              25.0          2582                    1  \n",
       "6990               1.0          1294                    1  \n",
       "6991               2.0          5210                    0  \n",
       "6996              10.0          1787                    0  \n",
       "\n",
       "[1576 rows x 11 columns]"
      ]
     },
     "execution_count": 8,
     "metadata": {},
     "output_type": "execute_result"
    }
   ],
   "source": [
    "train[train['Customer_care_calls'].isnull()]"
   ]
  },
  {
   "cell_type": "code",
   "execution_count": 9,
   "metadata": {
    "scrolled": false
   },
   "outputs": [
    {
     "data": {
      "text/plain": [
       "Index(['Warehouse_block ', 'Mode_of_Shipment', 'Customer_care_calls',\n",
       "       'Customer_rating', 'Cost_of_the_Product', 'Prior_purchases',\n",
       "       'Product_importance', 'Gender', 'Discount_offered', 'Weight_in_gms',\n",
       "       'Reached.on.Time_Y.N'],\n",
       "      dtype='object')"
      ]
     },
     "execution_count": 9,
     "metadata": {},
     "output_type": "execute_result"
    }
   ],
   "source": [
    "train.columns"
   ]
  },
  {
   "cell_type": "code",
   "execution_count": 10,
   "metadata": {},
   "outputs": [
    {
     "data": {
      "text/plain": [
       "array(['C', 'F', 'D', 'B', 'A'], dtype=object)"
      ]
     },
     "execution_count": 10,
     "metadata": {},
     "output_type": "execute_result"
    }
   ],
   "source": [
    "train['Warehouse_block '].unique()"
   ]
  },
  {
   "cell_type": "code",
   "execution_count": 11,
   "metadata": {},
   "outputs": [
    {
     "data": {
      "text/html": [
       "<div>\n",
       "<style scoped>\n",
       "    .dataframe tbody tr th:only-of-type {\n",
       "        vertical-align: middle;\n",
       "    }\n",
       "\n",
       "    .dataframe tbody tr th {\n",
       "        vertical-align: top;\n",
       "    }\n",
       "\n",
       "    .dataframe thead tr th {\n",
       "        text-align: left;\n",
       "    }\n",
       "\n",
       "    .dataframe thead tr:last-of-type th {\n",
       "        text-align: right;\n",
       "    }\n",
       "</style>\n",
       "<table border=\"1\" class=\"dataframe\">\n",
       "  <thead>\n",
       "    <tr>\n",
       "      <th></th>\n",
       "      <th>mean</th>\n",
       "      <th>count</th>\n",
       "      <th>max</th>\n",
       "      <th>min</th>\n",
       "    </tr>\n",
       "    <tr>\n",
       "      <th></th>\n",
       "      <th>Customer_care_calls</th>\n",
       "      <th>Customer_care_calls</th>\n",
       "      <th>Customer_care_calls</th>\n",
       "      <th>Customer_care_calls</th>\n",
       "    </tr>\n",
       "    <tr>\n",
       "      <th>Warehouse_block</th>\n",
       "      <th></th>\n",
       "      <th></th>\n",
       "      <th></th>\n",
       "      <th></th>\n",
       "    </tr>\n",
       "  </thead>\n",
       "  <tbody>\n",
       "    <tr>\n",
       "      <th>A</th>\n",
       "      <td>4.056338</td>\n",
       "      <td>923</td>\n",
       "      <td>7.0</td>\n",
       "      <td>2.0</td>\n",
       "    </tr>\n",
       "    <tr>\n",
       "      <th>B</th>\n",
       "      <td>3.989899</td>\n",
       "      <td>891</td>\n",
       "      <td>7.0</td>\n",
       "      <td>2.0</td>\n",
       "    </tr>\n",
       "    <tr>\n",
       "      <th>C</th>\n",
       "      <td>4.059718</td>\n",
       "      <td>921</td>\n",
       "      <td>7.0</td>\n",
       "      <td>2.0</td>\n",
       "    </tr>\n",
       "    <tr>\n",
       "      <th>D</th>\n",
       "      <td>4.046409</td>\n",
       "      <td>905</td>\n",
       "      <td>7.0</td>\n",
       "      <td>2.0</td>\n",
       "    </tr>\n",
       "    <tr>\n",
       "      <th>F</th>\n",
       "      <td>4.087493</td>\n",
       "      <td>1783</td>\n",
       "      <td>7.0</td>\n",
       "      <td>2.0</td>\n",
       "    </tr>\n",
       "  </tbody>\n",
       "</table>\n",
       "</div>"
      ],
      "text/plain": [
       "                                mean               count                 max  \\\n",
       "                 Customer_care_calls Customer_care_calls Customer_care_calls   \n",
       "Warehouse_block                                                                \n",
       "A                           4.056338                 923                 7.0   \n",
       "B                           3.989899                 891                 7.0   \n",
       "C                           4.059718                 921                 7.0   \n",
       "D                           4.046409                 905                 7.0   \n",
       "F                           4.087493                1783                 7.0   \n",
       "\n",
       "                                 min  \n",
       "                 Customer_care_calls  \n",
       "Warehouse_block                       \n",
       "A                                2.0  \n",
       "B                                2.0  \n",
       "C                                2.0  \n",
       "D                                2.0  \n",
       "F                                2.0  "
      ]
     },
     "execution_count": 11,
     "metadata": {},
     "output_type": "execute_result"
    }
   ],
   "source": [
    "train.pivot_table(\n",
    "    values='Customer_care_calls',\n",
    "    index=['Warehouse_block '],\n",
    "    aggfunc=['mean','count','max','min']\n",
    ")   "
   ]
  },
  {
   "cell_type": "code",
   "execution_count": 12,
   "metadata": {
    "scrolled": true
   },
   "outputs": [
    {
     "data": {
      "text/plain": [
       "4.0    1756\n",
       "3.0    1620\n",
       "5.0    1147\n",
       "6.0     496\n",
       "2.0     287\n",
       "7.0     117\n",
       "Name: Customer_care_calls, dtype: int64"
      ]
     },
     "execution_count": 12,
     "metadata": {},
     "output_type": "execute_result"
    }
   ],
   "source": [
    "# 평균 값으로 대체 하였다\n",
    "# 평균 값은 약 4.05 이므로 4.0 으로 통합\n",
    "# 데이터가 편중된 느낌이 있으나 추후 상관분포를 통해 분석 후 수정할 예정\n",
    "train['Customer_care_calls'].value_counts()"
   ]
  },
  {
   "cell_type": "code",
   "execution_count": 13,
   "metadata": {},
   "outputs": [
    {
     "data": {
      "text/html": [
       "<div>\n",
       "<style scoped>\n",
       "    .dataframe tbody tr th:only-of-type {\n",
       "        vertical-align: middle;\n",
       "    }\n",
       "\n",
       "    .dataframe tbody tr th {\n",
       "        vertical-align: top;\n",
       "    }\n",
       "\n",
       "    .dataframe thead tr th {\n",
       "        text-align: left;\n",
       "    }\n",
       "\n",
       "    .dataframe thead tr:last-of-type th {\n",
       "        text-align: right;\n",
       "    }\n",
       "</style>\n",
       "<table border=\"1\" class=\"dataframe\">\n",
       "  <thead>\n",
       "    <tr>\n",
       "      <th></th>\n",
       "      <th>mean</th>\n",
       "      <th>count</th>\n",
       "      <th>max</th>\n",
       "      <th>min</th>\n",
       "    </tr>\n",
       "    <tr>\n",
       "      <th></th>\n",
       "      <th>Customer_care_calls</th>\n",
       "      <th>Customer_care_calls</th>\n",
       "      <th>Customer_care_calls</th>\n",
       "      <th>Customer_care_calls</th>\n",
       "    </tr>\n",
       "    <tr>\n",
       "      <th>Warehouse_block</th>\n",
       "      <th></th>\n",
       "      <th></th>\n",
       "      <th></th>\n",
       "      <th></th>\n",
       "    </tr>\n",
       "  </thead>\n",
       "  <tbody>\n",
       "    <tr>\n",
       "      <th>A</th>\n",
       "      <td>3.994118</td>\n",
       "      <td>510</td>\n",
       "      <td>7.0</td>\n",
       "      <td>2.0</td>\n",
       "    </tr>\n",
       "    <tr>\n",
       "      <th>B</th>\n",
       "      <td>4.063315</td>\n",
       "      <td>537</td>\n",
       "      <td>7.0</td>\n",
       "      <td>2.0</td>\n",
       "    </tr>\n",
       "    <tr>\n",
       "      <th>C</th>\n",
       "      <td>4.047151</td>\n",
       "      <td>509</td>\n",
       "      <td>7.0</td>\n",
       "      <td>2.0</td>\n",
       "    </tr>\n",
       "    <tr>\n",
       "      <th>D</th>\n",
       "      <td>4.074856</td>\n",
       "      <td>521</td>\n",
       "      <td>7.0</td>\n",
       "      <td>2.0</td>\n",
       "    </tr>\n",
       "    <tr>\n",
       "      <th>F</th>\n",
       "      <td>4.074039</td>\n",
       "      <td>1067</td>\n",
       "      <td>7.0</td>\n",
       "      <td>2.0</td>\n",
       "    </tr>\n",
       "  </tbody>\n",
       "</table>\n",
       "</div>"
      ],
      "text/plain": [
       "                                mean               count                 max  \\\n",
       "                 Customer_care_calls Customer_care_calls Customer_care_calls   \n",
       "Warehouse_block                                                                \n",
       "A                           3.994118                 510                 7.0   \n",
       "B                           4.063315                 537                 7.0   \n",
       "C                           4.047151                 509                 7.0   \n",
       "D                           4.074856                 521                 7.0   \n",
       "F                           4.074039                1067                 7.0   \n",
       "\n",
       "                                 min  \n",
       "                 Customer_care_calls  \n",
       "Warehouse_block                       \n",
       "A                                2.0  \n",
       "B                                2.0  \n",
       "C                                2.0  \n",
       "D                                2.0  \n",
       "F                                2.0  "
      ]
     },
     "execution_count": 13,
     "metadata": {},
     "output_type": "execute_result"
    }
   ],
   "source": [
    "test.pivot_table(\n",
    "    values='Customer_care_calls',\n",
    "    index=['Warehouse_block '],\n",
    "    aggfunc=['mean','count','max','min']\n",
    ")   "
   ]
  },
  {
   "cell_type": "code",
   "execution_count": 14,
   "metadata": {},
   "outputs": [
    {
     "data": {
      "text/plain": [
       "4.0    990\n",
       "3.0    901\n",
       "5.0    667\n",
       "6.0    311\n",
       "2.0    208\n",
       "7.0     67\n",
       "Name: Customer_care_calls, dtype: int64"
      ]
     },
     "execution_count": 14,
     "metadata": {},
     "output_type": "execute_result"
    }
   ],
   "source": [
    "test['Customer_care_calls'].value_counts()"
   ]
  },
  {
   "cell_type": "code",
   "execution_count": 15,
   "metadata": {},
   "outputs": [],
   "source": [
    "train['Customer_care_calls'] = train['Customer_care_calls'].fillna(4)\n",
    "test['Customer_care_calls'] = test['Customer_care_calls'].fillna(4)"
   ]
  },
  {
   "cell_type": "markdown",
   "metadata": {},
   "source": [
    "# Prior_purchases"
   ]
  },
  {
   "cell_type": "code",
   "execution_count": 16,
   "metadata": {
    "scrolled": true
   },
   "outputs": [
    {
     "data": {
      "text/html": [
       "<div>\n",
       "<style scoped>\n",
       "    .dataframe tbody tr th:only-of-type {\n",
       "        vertical-align: middle;\n",
       "    }\n",
       "\n",
       "    .dataframe tbody tr th {\n",
       "        vertical-align: top;\n",
       "    }\n",
       "\n",
       "    .dataframe thead th {\n",
       "        text-align: right;\n",
       "    }\n",
       "</style>\n",
       "<table border=\"1\" class=\"dataframe\">\n",
       "  <thead>\n",
       "    <tr style=\"text-align: right;\">\n",
       "      <th></th>\n",
       "      <th>Warehouse_block</th>\n",
       "      <th>Mode_of_Shipment</th>\n",
       "      <th>Customer_care_calls</th>\n",
       "      <th>Customer_rating</th>\n",
       "      <th>Cost_of_the_Product</th>\n",
       "      <th>Prior_purchases</th>\n",
       "      <th>Product_importance</th>\n",
       "      <th>Gender</th>\n",
       "      <th>Discount_offered</th>\n",
       "      <th>Weight_in_gms</th>\n",
       "      <th>Reached.on.Time_Y.N</th>\n",
       "    </tr>\n",
       "  </thead>\n",
       "  <tbody>\n",
       "    <tr>\n",
       "      <th>3</th>\n",
       "      <td>F</td>\n",
       "      <td>Ship</td>\n",
       "      <td>3.0</td>\n",
       "      <td>2</td>\n",
       "      <td>228</td>\n",
       "      <td>NaN</td>\n",
       "      <td>medium</td>\n",
       "      <td>M</td>\n",
       "      <td>2.0</td>\n",
       "      <td>5640</td>\n",
       "      <td>0</td>\n",
       "    </tr>\n",
       "    <tr>\n",
       "      <th>11</th>\n",
       "      <td>F</td>\n",
       "      <td>Ship</td>\n",
       "      <td>4.0</td>\n",
       "      <td>1</td>\n",
       "      <td>196</td>\n",
       "      <td>NaN</td>\n",
       "      <td>low</td>\n",
       "      <td>F</td>\n",
       "      <td>3.0</td>\n",
       "      <td>5496</td>\n",
       "      <td>0</td>\n",
       "    </tr>\n",
       "    <tr>\n",
       "      <th>12</th>\n",
       "      <td>F</td>\n",
       "      <td>Ship</td>\n",
       "      <td>4.0</td>\n",
       "      <td>2</td>\n",
       "      <td>232</td>\n",
       "      <td>NaN</td>\n",
       "      <td>high</td>\n",
       "      <td>M</td>\n",
       "      <td>NaN</td>\n",
       "      <td>2835</td>\n",
       "      <td>1</td>\n",
       "    </tr>\n",
       "    <tr>\n",
       "      <th>16</th>\n",
       "      <td>B</td>\n",
       "      <td>Flight</td>\n",
       "      <td>5.0</td>\n",
       "      <td>1</td>\n",
       "      <td>207</td>\n",
       "      <td>NaN</td>\n",
       "      <td>low</td>\n",
       "      <td>F</td>\n",
       "      <td>NaN</td>\n",
       "      <td>4112</td>\n",
       "      <td>0</td>\n",
       "    </tr>\n",
       "    <tr>\n",
       "      <th>22</th>\n",
       "      <td>F</td>\n",
       "      <td>Ship</td>\n",
       "      <td>3.0</td>\n",
       "      <td>5</td>\n",
       "      <td>160</td>\n",
       "      <td>NaN</td>\n",
       "      <td>low</td>\n",
       "      <td>F</td>\n",
       "      <td>NaN</td>\n",
       "      <td>4106</td>\n",
       "      <td>0</td>\n",
       "    </tr>\n",
       "    <tr>\n",
       "      <th>...</th>\n",
       "      <td>...</td>\n",
       "      <td>...</td>\n",
       "      <td>...</td>\n",
       "      <td>...</td>\n",
       "      <td>...</td>\n",
       "      <td>...</td>\n",
       "      <td>...</td>\n",
       "      <td>...</td>\n",
       "      <td>...</td>\n",
       "      <td>...</td>\n",
       "      <td>...</td>\n",
       "    </tr>\n",
       "    <tr>\n",
       "      <th>6963</th>\n",
       "      <td>F</td>\n",
       "      <td>Road</td>\n",
       "      <td>3.0</td>\n",
       "      <td>3</td>\n",
       "      <td>250</td>\n",
       "      <td>NaN</td>\n",
       "      <td>medium</td>\n",
       "      <td>M</td>\n",
       "      <td>1.0</td>\n",
       "      <td>4717</td>\n",
       "      <td>0</td>\n",
       "    </tr>\n",
       "    <tr>\n",
       "      <th>6975</th>\n",
       "      <td>F</td>\n",
       "      <td>Ship</td>\n",
       "      <td>4.0</td>\n",
       "      <td>3</td>\n",
       "      <td>151</td>\n",
       "      <td>NaN</td>\n",
       "      <td>medium</td>\n",
       "      <td>F</td>\n",
       "      <td>NaN</td>\n",
       "      <td>?</td>\n",
       "      <td>0</td>\n",
       "    </tr>\n",
       "    <tr>\n",
       "      <th>6977</th>\n",
       "      <td>F</td>\n",
       "      <td>Ship</td>\n",
       "      <td>4.0</td>\n",
       "      <td>1</td>\n",
       "      <td>222</td>\n",
       "      <td>NaN</td>\n",
       "      <td>medium</td>\n",
       "      <td>M</td>\n",
       "      <td>25.0</td>\n",
       "      <td>2582</td>\n",
       "      <td>1</td>\n",
       "    </tr>\n",
       "    <tr>\n",
       "      <th>6986</th>\n",
       "      <td>C</td>\n",
       "      <td>Road</td>\n",
       "      <td>5.0</td>\n",
       "      <td>1</td>\n",
       "      <td>253</td>\n",
       "      <td>NaN</td>\n",
       "      <td>medium</td>\n",
       "      <td>M</td>\n",
       "      <td>12.0</td>\n",
       "      <td>2486</td>\n",
       "      <td>1</td>\n",
       "    </tr>\n",
       "    <tr>\n",
       "      <th>6988</th>\n",
       "      <td>F</td>\n",
       "      <td>Ship</td>\n",
       "      <td>6.0</td>\n",
       "      <td>5</td>\n",
       "      <td>167</td>\n",
       "      <td>NaN</td>\n",
       "      <td>low</td>\n",
       "      <td>M</td>\n",
       "      <td>NaN</td>\n",
       "      <td>4013</td>\n",
       "      <td>1</td>\n",
       "    </tr>\n",
       "  </tbody>\n",
       "</table>\n",
       "<p>950 rows × 11 columns</p>\n",
       "</div>"
      ],
      "text/plain": [
       "     Warehouse_block  Mode_of_Shipment  Customer_care_calls  Customer_rating  \\\n",
       "3                   F             Ship                  3.0                2   \n",
       "11                  F             Ship                  4.0                1   \n",
       "12                  F             Ship                  4.0                2   \n",
       "16                  B           Flight                  5.0                1   \n",
       "22                  F             Ship                  3.0                5   \n",
       "...               ...              ...                  ...              ...   \n",
       "6963                F             Road                  3.0                3   \n",
       "6975                F             Ship                  4.0                3   \n",
       "6977                F             Ship                  4.0                1   \n",
       "6986                C             Road                  5.0                1   \n",
       "6988                F             Ship                  6.0                5   \n",
       "\n",
       "      Cost_of_the_Product  Prior_purchases Product_importance Gender  \\\n",
       "3                     228              NaN             medium      M   \n",
       "11                    196              NaN                low      F   \n",
       "12                    232              NaN               high      M   \n",
       "16                    207              NaN                low      F   \n",
       "22                    160              NaN                low      F   \n",
       "...                   ...              ...                ...    ...   \n",
       "6963                  250              NaN             medium      M   \n",
       "6975                  151              NaN             medium      F   \n",
       "6977                  222              NaN             medium      M   \n",
       "6986                  253              NaN             medium      M   \n",
       "6988                  167              NaN                low      M   \n",
       "\n",
       "      Discount_offered Weight_in_gms  Reached.on.Time_Y.N  \n",
       "3                  2.0          5640                    0  \n",
       "11                 3.0          5496                    0  \n",
       "12                 NaN          2835                    1  \n",
       "16                 NaN          4112                    0  \n",
       "22                 NaN          4106                    0  \n",
       "...                ...           ...                  ...  \n",
       "6963               1.0          4717                    0  \n",
       "6975               NaN             ?                    0  \n",
       "6977              25.0          2582                    1  \n",
       "6986              12.0          2486                    1  \n",
       "6988               NaN          4013                    1  \n",
       "\n",
       "[950 rows x 11 columns]"
      ]
     },
     "execution_count": 16,
     "metadata": {},
     "output_type": "execute_result"
    }
   ],
   "source": [
    "train[train['Prior_purchases'].isnull()]"
   ]
  },
  {
   "cell_type": "code",
   "execution_count": 17,
   "metadata": {},
   "outputs": [
    {
     "data": {
      "text/html": [
       "<div>\n",
       "<style scoped>\n",
       "    .dataframe tbody tr th:only-of-type {\n",
       "        vertical-align: middle;\n",
       "    }\n",
       "\n",
       "    .dataframe tbody tr th {\n",
       "        vertical-align: top;\n",
       "    }\n",
       "\n",
       "    .dataframe thead th {\n",
       "        text-align: right;\n",
       "    }\n",
       "</style>\n",
       "<table border=\"1\" class=\"dataframe\">\n",
       "  <thead>\n",
       "    <tr style=\"text-align: right;\">\n",
       "      <th></th>\n",
       "      <th>Warehouse_block</th>\n",
       "      <th>Mode_of_Shipment</th>\n",
       "      <th>Customer_care_calls</th>\n",
       "      <th>Customer_rating</th>\n",
       "      <th>Cost_of_the_Product</th>\n",
       "      <th>Prior_purchases</th>\n",
       "      <th>Product_importance</th>\n",
       "      <th>Gender</th>\n",
       "      <th>Discount_offered</th>\n",
       "      <th>Weight_in_gms</th>\n",
       "    </tr>\n",
       "  </thead>\n",
       "  <tbody>\n",
       "    <tr>\n",
       "      <th>0</th>\n",
       "      <td>F</td>\n",
       "      <td>Ship</td>\n",
       "      <td>3.0</td>\n",
       "      <td>1</td>\n",
       "      <td>274</td>\n",
       "      <td>NaN</td>\n",
       "      <td>high</td>\n",
       "      <td>M</td>\n",
       "      <td>NaN</td>\n",
       "      <td>4352</td>\n",
       "    </tr>\n",
       "    <tr>\n",
       "      <th>5</th>\n",
       "      <td>D</td>\n",
       "      <td>Ship</td>\n",
       "      <td>4.0</td>\n",
       "      <td>1</td>\n",
       "      <td>221</td>\n",
       "      <td>NaN</td>\n",
       "      <td>low</td>\n",
       "      <td>F</td>\n",
       "      <td>64.0</td>\n",
       "      <td>?</td>\n",
       "    </tr>\n",
       "    <tr>\n",
       "      <th>14</th>\n",
       "      <td>B</td>\n",
       "      <td>Ship</td>\n",
       "      <td>7.0</td>\n",
       "      <td>1</td>\n",
       "      <td>258</td>\n",
       "      <td>NaN</td>\n",
       "      <td>low</td>\n",
       "      <td>F</td>\n",
       "      <td>NaN</td>\n",
       "      <td>1482</td>\n",
       "    </tr>\n",
       "    <tr>\n",
       "      <th>18</th>\n",
       "      <td>A</td>\n",
       "      <td>Road</td>\n",
       "      <td>4.0</td>\n",
       "      <td>4</td>\n",
       "      <td>148</td>\n",
       "      <td>NaN</td>\n",
       "      <td>medium</td>\n",
       "      <td>F</td>\n",
       "      <td>NaN</td>\n",
       "      <td>4892</td>\n",
       "    </tr>\n",
       "    <tr>\n",
       "      <th>30</th>\n",
       "      <td>F</td>\n",
       "      <td>Ship</td>\n",
       "      <td>5.0</td>\n",
       "      <td>2</td>\n",
       "      <td>133</td>\n",
       "      <td>NaN</td>\n",
       "      <td>medium</td>\n",
       "      <td>M</td>\n",
       "      <td>53.0</td>\n",
       "      <td>1674</td>\n",
       "    </tr>\n",
       "    <tr>\n",
       "      <th>...</th>\n",
       "      <td>...</td>\n",
       "      <td>...</td>\n",
       "      <td>...</td>\n",
       "      <td>...</td>\n",
       "      <td>...</td>\n",
       "      <td>...</td>\n",
       "      <td>...</td>\n",
       "      <td>...</td>\n",
       "      <td>...</td>\n",
       "      <td>...</td>\n",
       "    </tr>\n",
       "    <tr>\n",
       "      <th>3954</th>\n",
       "      <td>C</td>\n",
       "      <td>Ship</td>\n",
       "      <td>3.0</td>\n",
       "      <td>2</td>\n",
       "      <td>183</td>\n",
       "      <td>NaN</td>\n",
       "      <td>medium</td>\n",
       "      <td>F</td>\n",
       "      <td>6.0</td>\n",
       "      <td>4313</td>\n",
       "    </tr>\n",
       "    <tr>\n",
       "      <th>3961</th>\n",
       "      <td>A</td>\n",
       "      <td>Flight</td>\n",
       "      <td>5.0</td>\n",
       "      <td>5</td>\n",
       "      <td>272</td>\n",
       "      <td>NaN</td>\n",
       "      <td>low</td>\n",
       "      <td>M</td>\n",
       "      <td>1.0</td>\n",
       "      <td>4883</td>\n",
       "    </tr>\n",
       "    <tr>\n",
       "      <th>3963</th>\n",
       "      <td>C</td>\n",
       "      <td>Flight</td>\n",
       "      <td>2.0</td>\n",
       "      <td>2</td>\n",
       "      <td>184</td>\n",
       "      <td>NaN</td>\n",
       "      <td>?</td>\n",
       "      <td>F</td>\n",
       "      <td>46.0</td>\n",
       "      <td>2484</td>\n",
       "    </tr>\n",
       "    <tr>\n",
       "      <th>3967</th>\n",
       "      <td>C</td>\n",
       "      <td>Flight</td>\n",
       "      <td>3.0</td>\n",
       "      <td>2</td>\n",
       "      <td>274</td>\n",
       "      <td>NaN</td>\n",
       "      <td>medium</td>\n",
       "      <td>M</td>\n",
       "      <td>5.0</td>\n",
       "      <td>5161</td>\n",
       "    </tr>\n",
       "    <tr>\n",
       "      <th>3982</th>\n",
       "      <td>B</td>\n",
       "      <td>Ship</td>\n",
       "      <td>3.0</td>\n",
       "      <td>4</td>\n",
       "      <td>257</td>\n",
       "      <td>NaN</td>\n",
       "      <td>medium</td>\n",
       "      <td>M</td>\n",
       "      <td>10.0</td>\n",
       "      <td>4670</td>\n",
       "    </tr>\n",
       "  </tbody>\n",
       "</table>\n",
       "<p>367 rows × 10 columns</p>\n",
       "</div>"
      ],
      "text/plain": [
       "     Warehouse_block  Mode_of_Shipment  Customer_care_calls  Customer_rating  \\\n",
       "0                   F             Ship                  3.0                1   \n",
       "5                   D             Ship                  4.0                1   \n",
       "14                  B             Ship                  7.0                1   \n",
       "18                  A             Road                  4.0                4   \n",
       "30                  F             Ship                  5.0                2   \n",
       "...               ...              ...                  ...              ...   \n",
       "3954                C             Ship                  3.0                2   \n",
       "3961                A           Flight                  5.0                5   \n",
       "3963                C           Flight                  2.0                2   \n",
       "3967                C           Flight                  3.0                2   \n",
       "3982                B             Ship                  3.0                4   \n",
       "\n",
       "      Cost_of_the_Product  Prior_purchases Product_importance Gender  \\\n",
       "0                     274              NaN               high      M   \n",
       "5                     221              NaN                low      F   \n",
       "14                    258              NaN                low      F   \n",
       "18                    148              NaN             medium      F   \n",
       "30                    133              NaN             medium      M   \n",
       "...                   ...              ...                ...    ...   \n",
       "3954                  183              NaN             medium      F   \n",
       "3961                  272              NaN                low      M   \n",
       "3963                  184              NaN                  ?      F   \n",
       "3967                  274              NaN             medium      M   \n",
       "3982                  257              NaN             medium      M   \n",
       "\n",
       "      Discount_offered Weight_in_gms  \n",
       "0                  NaN          4352  \n",
       "5                 64.0             ?  \n",
       "14                 NaN          1482  \n",
       "18                 NaN          4892  \n",
       "30                53.0          1674  \n",
       "...                ...           ...  \n",
       "3954               6.0          4313  \n",
       "3961               1.0          4883  \n",
       "3963              46.0          2484  \n",
       "3967               5.0          5161  \n",
       "3982              10.0          4670  \n",
       "\n",
       "[367 rows x 10 columns]"
      ]
     },
     "execution_count": 17,
     "metadata": {},
     "output_type": "execute_result"
    }
   ],
   "source": [
    "test[test['Prior_purchases'].isnull()]"
   ]
  },
  {
   "cell_type": "code",
   "execution_count": 18,
   "metadata": {
    "scrolled": true
   },
   "outputs": [
    {
     "name": "stdout",
     "output_type": "stream",
     "text": [
      "[ 3.  5. nan  6.  4. 10.  2.  7.  8.]\n",
      "3.0     2176\n",
      "2.0     1423\n",
      "4.0     1162\n",
      "5.0      735\n",
      "6.0      310\n",
      "10.0     101\n",
      "8.0       72\n",
      "7.0       70\n",
      "Name: Prior_purchases, dtype: int64\n",
      "False    6049\n",
      "True      950\n",
      "Name: Prior_purchases, dtype: int64\n",
      "3.5762936022483056\n"
     ]
    }
   ],
   "source": [
    "print(train['Prior_purchases'].unique())\n",
    "\n",
    "print(train['Prior_purchases'].value_counts())\n",
    "\n",
    "print(train['Prior_purchases'].isnull().value_counts())\n",
    "\n",
    "print(train['Prior_purchases'].mean())\n",
    "\n",
    "# 결측치의 양이 많지 많고 평균값은 3.57이므로 4로 대체\n",
    "\n",
    "train['Prior_purchases'] = train['Prior_purchases'].fillna(4)"
   ]
  },
  {
   "cell_type": "code",
   "execution_count": 19,
   "metadata": {
    "scrolled": true
   },
   "outputs": [
    {
     "name": "stdout",
     "output_type": "stream",
     "text": [
      "[nan  2.  3.  4.  6.  8.  5.  7. 10.]\n",
      "3.0     1293\n",
      "2.0      866\n",
      "4.0      723\n",
      "5.0      414\n",
      "6.0      184\n",
      "10.0      56\n",
      "7.0       53\n",
      "8.0       44\n",
      "Name: Prior_purchases, dtype: int64\n",
      "False    3633\n",
      "True      367\n",
      "Name: Prior_purchases, dtype: int64\n",
      "3.5672997522708507\n"
     ]
    }
   ],
   "source": [
    "print(test['Prior_purchases'].unique())\n",
    "\n",
    "print(test['Prior_purchases'].value_counts())\n",
    "\n",
    "print(test['Prior_purchases'].isnull().value_counts())\n",
    "\n",
    "print(test['Prior_purchases'].mean())\n",
    "\n",
    "# 결측치의 양이 많지 많고 평균값은 3.57이므로 4로 대체\n",
    "\n",
    "test['Prior_purchases'] = test['Prior_purchases'].fillna(4)"
   ]
  },
  {
   "cell_type": "markdown",
   "metadata": {},
   "source": [
    "# Product_importance"
   ]
  },
  {
   "cell_type": "code",
   "execution_count": 20,
   "metadata": {},
   "outputs": [
    {
     "data": {
      "text/plain": [
       "Warehouse_block            D\n",
       "Mode_of_Shipment        Ship\n",
       "Customer_care_calls        4\n",
       "Customer_rating            2\n",
       "Cost_of_the_Product      222\n",
       "Prior_purchases            3\n",
       "Product_importance       low\n",
       "Gender                     F\n",
       "Discount_offered         NaN\n",
       "Weight_in_gms           5130\n",
       "Reached.on.Time_Y.N        0\n",
       "Name: 1309, dtype: object"
      ]
     },
     "execution_count": 20,
     "metadata": {},
     "output_type": "execute_result"
    }
   ],
   "source": [
    "train.loc[(train[\"Discount_offered\"].isnull()) & (train[\"Product_importance\"]=='loww')]\n",
    "train.loc[(train[\"Discount_offered\"].isnull()) & (train[\"Product_importance\"]=='loww'),'Product_importance']='low'\n",
    "train.iloc[1309,:]"
   ]
  },
  {
   "cell_type": "code",
   "execution_count": 21,
   "metadata": {},
   "outputs": [
    {
     "data": {
      "text/plain": [
       "Warehouse_block              B\n",
       "Mode_of_Shipment        Flight\n",
       "Customer_care_calls          3\n",
       "Customer_rating              4\n",
       "Cost_of_the_Product        176\n",
       "Prior_purchases              3\n",
       "Product_importance      medium\n",
       "Gender                       F\n",
       "Discount_offered           NaN\n",
       "Weight_in_gms             1567\n",
       "Reached.on.Time_Y.N          1\n",
       "Name: 919, dtype: object"
      ]
     },
     "execution_count": 21,
     "metadata": {},
     "output_type": "execute_result"
    }
   ],
   "source": [
    "train.loc[(train[\"Discount_offered\"].isnull()) & (train[\"Product_importance\"]=='mediumm')]\n",
    "train.loc[(train[\"Discount_offered\"].isnull()) & (train[\"Product_importance\"]=='mediumm'),'Product_importance']='medium'\n",
    "train.iloc[919,:]"
   ]
  },
  {
   "cell_type": "code",
   "execution_count": 22,
   "metadata": {},
   "outputs": [],
   "source": [
    "test.loc[(test[\"Discount_offered\"].isnull()) & (test[\"Product_importance\"]=='mediumm')]\n",
    "test.loc[(test[\"Discount_offered\"].isnull()) & (test[\"Product_importance\"]=='mediumm'),'Product_importance']='medium'"
   ]
  },
  {
   "cell_type": "code",
   "execution_count": 23,
   "metadata": {},
   "outputs": [],
   "source": [
    "test.loc[test[\"Product_importance\"]=='mediumm','Product_importance']='medium'\n",
    "test.loc[test[\"Product_importance\"]=='?','Product_importance']='low'"
   ]
  },
  {
   "cell_type": "code",
   "execution_count": 24,
   "metadata": {},
   "outputs": [
    {
     "data": {
      "text/plain": [
       "low       1953\n",
       "medium    1686\n",
       "high       361\n",
       "Name: Product_importance, dtype: int64"
      ]
     },
     "execution_count": 24,
     "metadata": {},
     "output_type": "execute_result"
    }
   ],
   "source": [
    "test[\"Product_importance\"].value_counts()"
   ]
  },
  {
   "cell_type": "code",
   "execution_count": 25,
   "metadata": {
    "scrolled": false
   },
   "outputs": [
    {
     "data": {
      "text/plain": [
       "Warehouse_block            F\n",
       "Mode_of_Shipment        Ship\n",
       "Customer_care_calls        3\n",
       "Customer_rating            4\n",
       "Cost_of_the_Product      266\n",
       "Prior_purchases            2\n",
       "Product_importance      high\n",
       "Gender                     M\n",
       "Discount_offered          49\n",
       "Weight_in_gms           2643\n",
       "Reached.on.Time_Y.N        1\n",
       "Name: 4224, dtype: object"
      ]
     },
     "execution_count": 25,
     "metadata": {},
     "output_type": "execute_result"
    }
   ],
   "source": [
    "train.loc[(train[\"Product_importance\"] == \"highh\")]\n",
    "train.loc[(train[\"Product_importance\"] == \"highh\"),'Product_importance'] = \"high\"\n",
    "train.iloc[4224,:]"
   ]
  },
  {
   "cell_type": "code",
   "execution_count": 26,
   "metadata": {},
   "outputs": [],
   "source": [
    "train.loc[(train[\"Product_importance\"] == \"?\")]\n",
    "train.loc[(train[\"Product_importance\"] == \"?\"),'Product_importance'] = \"low\""
   ]
  },
  {
   "cell_type": "code",
   "execution_count": 27,
   "metadata": {
    "scrolled": true
   },
   "outputs": [
    {
     "data": {
      "text/plain": [
       "low       3442\n",
       "medium    2983\n",
       "high       574\n",
       "Name: Product_importance, dtype: int64"
      ]
     },
     "execution_count": 27,
     "metadata": {},
     "output_type": "execute_result"
    }
   ],
   "source": [
    "train[\"Product_importance\"].value_counts()"
   ]
  },
  {
   "cell_type": "code",
   "execution_count": 28,
   "metadata": {},
   "outputs": [],
   "source": [
    "# 0 - Ship 1 - Flight 2 - Road\n",
    "train[\"Product_importance\"].replace(['low','medium','high'],[0,1,2],inplace=True)\n",
    "test[\"Product_importance\"].replace(['low','medium','high'],[0,1,2],inplace=True)"
   ]
  },
  {
   "cell_type": "markdown",
   "metadata": {},
   "source": [
    "# Discount_offered"
   ]
  },
  {
   "cell_type": "code",
   "execution_count": 29,
   "metadata": {},
   "outputs": [
    {
     "data": {
      "text/html": [
       "<div>\n",
       "<style scoped>\n",
       "    .dataframe tbody tr th:only-of-type {\n",
       "        vertical-align: middle;\n",
       "    }\n",
       "\n",
       "    .dataframe tbody tr th {\n",
       "        vertical-align: top;\n",
       "    }\n",
       "\n",
       "    .dataframe thead th {\n",
       "        text-align: right;\n",
       "    }\n",
       "</style>\n",
       "<table border=\"1\" class=\"dataframe\">\n",
       "  <thead>\n",
       "    <tr style=\"text-align: right;\">\n",
       "      <th></th>\n",
       "      <th>Warehouse_block</th>\n",
       "      <th>Mode_of_Shipment</th>\n",
       "      <th>Customer_care_calls</th>\n",
       "      <th>Customer_rating</th>\n",
       "      <th>Cost_of_the_Product</th>\n",
       "      <th>Prior_purchases</th>\n",
       "      <th>Product_importance</th>\n",
       "      <th>Gender</th>\n",
       "      <th>Discount_offered</th>\n",
       "      <th>Weight_in_gms</th>\n",
       "      <th>Reached.on.Time_Y.N</th>\n",
       "    </tr>\n",
       "  </thead>\n",
       "  <tbody>\n",
       "    <tr>\n",
       "      <th>0</th>\n",
       "      <td>C</td>\n",
       "      <td>Ship</td>\n",
       "      <td>2.0</td>\n",
       "      <td>2</td>\n",
       "      <td>135</td>\n",
       "      <td>3.0</td>\n",
       "      <td>0</td>\n",
       "      <td>M</td>\n",
       "      <td>NaN</td>\n",
       "      <td>1339</td>\n",
       "      <td>1</td>\n",
       "    </tr>\n",
       "    <tr>\n",
       "      <th>2</th>\n",
       "      <td>F</td>\n",
       "      <td>Ship</td>\n",
       "      <td>3.0</td>\n",
       "      <td>1</td>\n",
       "      <td>229</td>\n",
       "      <td>3.0</td>\n",
       "      <td>0</td>\n",
       "      <td>M</td>\n",
       "      <td>NaN</td>\n",
       "      <td>4971</td>\n",
       "      <td>1</td>\n",
       "    </tr>\n",
       "    <tr>\n",
       "      <th>4</th>\n",
       "      <td>D</td>\n",
       "      <td>Flight</td>\n",
       "      <td>4.0</td>\n",
       "      <td>1</td>\n",
       "      <td>195</td>\n",
       "      <td>6.0</td>\n",
       "      <td>2</td>\n",
       "      <td>F</td>\n",
       "      <td>NaN</td>\n",
       "      <td>4944</td>\n",
       "      <td>1</td>\n",
       "    </tr>\n",
       "    <tr>\n",
       "      <th>5</th>\n",
       "      <td>B</td>\n",
       "      <td>Ship</td>\n",
       "      <td>4.0</td>\n",
       "      <td>5</td>\n",
       "      <td>171</td>\n",
       "      <td>3.0</td>\n",
       "      <td>0</td>\n",
       "      <td>F</td>\n",
       "      <td>NaN</td>\n",
       "      <td>1683</td>\n",
       "      <td>1</td>\n",
       "    </tr>\n",
       "    <tr>\n",
       "      <th>7</th>\n",
       "      <td>F</td>\n",
       "      <td>Flight</td>\n",
       "      <td>5.0</td>\n",
       "      <td>2</td>\n",
       "      <td>161</td>\n",
       "      <td>3.0</td>\n",
       "      <td>0</td>\n",
       "      <td>M</td>\n",
       "      <td>NaN</td>\n",
       "      <td>5804</td>\n",
       "      <td>1</td>\n",
       "    </tr>\n",
       "  </tbody>\n",
       "</table>\n",
       "</div>"
      ],
      "text/plain": [
       "  Warehouse_block  Mode_of_Shipment  Customer_care_calls  Customer_rating  \\\n",
       "0                C             Ship                  2.0                2   \n",
       "2                F             Ship                  3.0                1   \n",
       "4                D           Flight                  4.0                1   \n",
       "5                B             Ship                  4.0                5   \n",
       "7                F           Flight                  5.0                2   \n",
       "\n",
       "   Cost_of_the_Product  Prior_purchases  Product_importance Gender  \\\n",
       "0                  135              3.0                   0      M   \n",
       "2                  229              3.0                   0      M   \n",
       "4                  195              6.0                   2      F   \n",
       "5                  171              3.0                   0      F   \n",
       "7                  161              3.0                   0      M   \n",
       "\n",
       "   Discount_offered Weight_in_gms  Reached.on.Time_Y.N  \n",
       "0               NaN          1339                    1  \n",
       "2               NaN          4971                    1  \n",
       "4               NaN          4944                    1  \n",
       "5               NaN          1683                    1  \n",
       "7               NaN          5804                    1  "
      ]
     },
     "execution_count": 29,
     "metadata": {},
     "output_type": "execute_result"
    }
   ],
   "source": [
    "train[train['Discount_offered'].isnull()].head()"
   ]
  },
  {
   "cell_type": "code",
   "execution_count": 30,
   "metadata": {
    "scrolled": true
   },
   "outputs": [
    {
     "name": "stdout",
     "output_type": "stream",
     "text": [
      "[nan  6.  2.  9.  3. 34.  7.  1. 53.  8. 63.  4. 43. 60. 51.  5. 10. 55.\n",
      " 17. 62. 15. 23. 38. 32. 39. 29. 45. 14. 52. 41. 58. 11. 50. 35. 28. 31.\n",
      " 24. 64. 61. 48. 65. 40. 18. 22. 56. 49. 21. 27. 20. 13. 30. 26. 54. 16.\n",
      " 57. 47. 42. 36. 37. 46. 19. 12. 25. 44. 33. 59.]\n",
      "9.0     287\n",
      "10.0    278\n",
      "2.0     278\n",
      "3.0     277\n",
      "1.0     272\n",
      "       ... \n",
      "50.0     10\n",
      "18.0     10\n",
      "42.0      9\n",
      "26.0      8\n",
      "43.0      7\n",
      "Name: Discount_offered, Length: 65, dtype: int64\n",
      "True     3531\n",
      "False    3468\n",
      "Name: Discount_offered, dtype: int64\n",
      "13.269031141868512\n"
     ]
    }
   ],
   "source": [
    "print(train['Discount_offered'].unique())\n",
    "\n",
    "print(train['Discount_offered'].value_counts())\n",
    "\n",
    "print(train['Discount_offered'].isnull().value_counts())\n",
    "\n",
    "print(train['Discount_offered'].mean())"
   ]
  },
  {
   "cell_type": "code",
   "execution_count": 31,
   "metadata": {},
   "outputs": [
    {
     "name": "stdout",
     "output_type": "stream",
     "text": [
      "[nan  7.  5. 64.  4. 29. 10.  8. 31. 53.  1. 22. 49.  3. 52.  6.  9. 20.\n",
      " 61.  2. 39. 43. 48. 54. 26. 42. 46. 41. 16. 13. 15. 35. 28. 34. 33. 37.\n",
      " 27. 36. 63. 40. 62. 38. 25. 51. 45. 32. 50. 21. 58. 65. 57. 17. 24. 12.\n",
      " 47. 56. 60. 59. 30. 18. 55. 19. 11. 23. 44. 14.]\n",
      "3.0     171\n",
      "7.0     170\n",
      "5.0     169\n",
      "6.0     166\n",
      "8.0     161\n",
      "       ... \n",
      "58.0      4\n",
      "30.0      4\n",
      "55.0      4\n",
      "34.0      3\n",
      "65.0      2\n",
      "Name: Discount_offered, Length: 65, dtype: int64\n",
      "False    2085\n",
      "True     1915\n",
      "Name: Discount_offered, dtype: int64\n",
      "13.282014388489209\n"
     ]
    }
   ],
   "source": [
    "print(test['Discount_offered'].unique())\n",
    "\n",
    "print(test['Discount_offered'].value_counts())\n",
    "\n",
    "print(test['Discount_offered'].isnull().value_counts())\n",
    "\n",
    "print(test['Discount_offered'].mean())"
   ]
  },
  {
   "cell_type": "code",
   "execution_count": 32,
   "metadata": {},
   "outputs": [
    {
     "data": {
      "text/plain": [
       "array([nan,  6.,  2.,  9.,  3., 34.,  7.,  1., 53.,  8., 63.,  4., 43.,\n",
       "       60., 51.,  5., 10., 55., 17., 62., 15., 23., 38., 32., 39., 29.,\n",
       "       45., 14., 52., 41., 58., 11., 50., 35., 28., 31., 24., 64., 61.,\n",
       "       48., 65., 40., 18., 22., 56., 49., 21., 27., 20., 13., 30., 26.,\n",
       "       54., 16., 57., 47., 42., 36., 37., 46., 19., 12., 25., 44., 33.,\n",
       "       59.])"
      ]
     },
     "execution_count": 32,
     "metadata": {},
     "output_type": "execute_result"
    }
   ],
   "source": [
    "train[\"Discount_offered\"].unique()"
   ]
  },
  {
   "cell_type": "code",
   "execution_count": 33,
   "metadata": {
    "scrolled": false
   },
   "outputs": [
    {
     "data": {
      "text/html": [
       "<div>\n",
       "<style scoped>\n",
       "    .dataframe tbody tr th:only-of-type {\n",
       "        vertical-align: middle;\n",
       "    }\n",
       "\n",
       "    .dataframe tbody tr th {\n",
       "        vertical-align: top;\n",
       "    }\n",
       "\n",
       "    .dataframe thead tr th {\n",
       "        text-align: left;\n",
       "    }\n",
       "\n",
       "    .dataframe thead tr:last-of-type th {\n",
       "        text-align: right;\n",
       "    }\n",
       "</style>\n",
       "<table border=\"1\" class=\"dataframe\">\n",
       "  <thead>\n",
       "    <tr>\n",
       "      <th></th>\n",
       "      <th>mean</th>\n",
       "      <th>count</th>\n",
       "      <th>max</th>\n",
       "      <th>min</th>\n",
       "    </tr>\n",
       "    <tr>\n",
       "      <th></th>\n",
       "      <th>Discount_offered</th>\n",
       "      <th>Discount_offered</th>\n",
       "      <th>Discount_offered</th>\n",
       "      <th>Discount_offered</th>\n",
       "    </tr>\n",
       "    <tr>\n",
       "      <th>Prior_purchases</th>\n",
       "      <th></th>\n",
       "      <th></th>\n",
       "      <th></th>\n",
       "      <th></th>\n",
       "    </tr>\n",
       "  </thead>\n",
       "  <tbody>\n",
       "    <tr>\n",
       "      <th>2.0</th>\n",
       "      <td>14.889855</td>\n",
       "      <td>690</td>\n",
       "      <td>65.0</td>\n",
       "      <td>1.0</td>\n",
       "    </tr>\n",
       "    <tr>\n",
       "      <th>3.0</th>\n",
       "      <td>15.493188</td>\n",
       "      <td>1101</td>\n",
       "      <td>65.0</td>\n",
       "      <td>1.0</td>\n",
       "    </tr>\n",
       "    <tr>\n",
       "      <th>4.0</th>\n",
       "      <td>11.373814</td>\n",
       "      <td>1054</td>\n",
       "      <td>65.0</td>\n",
       "      <td>1.0</td>\n",
       "    </tr>\n",
       "    <tr>\n",
       "      <th>5.0</th>\n",
       "      <td>9.011799</td>\n",
       "      <td>339</td>\n",
       "      <td>64.0</td>\n",
       "      <td>1.0</td>\n",
       "    </tr>\n",
       "    <tr>\n",
       "      <th>6.0</th>\n",
       "      <td>11.166667</td>\n",
       "      <td>168</td>\n",
       "      <td>65.0</td>\n",
       "      <td>1.0</td>\n",
       "    </tr>\n",
       "    <tr>\n",
       "      <th>7.0</th>\n",
       "      <td>20.178571</td>\n",
       "      <td>28</td>\n",
       "      <td>62.0</td>\n",
       "      <td>1.0</td>\n",
       "    </tr>\n",
       "    <tr>\n",
       "      <th>8.0</th>\n",
       "      <td>12.756098</td>\n",
       "      <td>41</td>\n",
       "      <td>61.0</td>\n",
       "      <td>1.0</td>\n",
       "    </tr>\n",
       "    <tr>\n",
       "      <th>10.0</th>\n",
       "      <td>14.425532</td>\n",
       "      <td>47</td>\n",
       "      <td>64.0</td>\n",
       "      <td>1.0</td>\n",
       "    </tr>\n",
       "  </tbody>\n",
       "</table>\n",
       "</div>"
      ],
      "text/plain": [
       "                            mean            count              max  \\\n",
       "                Discount_offered Discount_offered Discount_offered   \n",
       "Prior_purchases                                                      \n",
       "2.0                    14.889855              690             65.0   \n",
       "3.0                    15.493188             1101             65.0   \n",
       "4.0                    11.373814             1054             65.0   \n",
       "5.0                     9.011799              339             64.0   \n",
       "6.0                    11.166667              168             65.0   \n",
       "7.0                    20.178571               28             62.0   \n",
       "8.0                    12.756098               41             61.0   \n",
       "10.0                   14.425532               47             64.0   \n",
       "\n",
       "                             min  \n",
       "                Discount_offered  \n",
       "Prior_purchases                   \n",
       "2.0                          1.0  \n",
       "3.0                          1.0  \n",
       "4.0                          1.0  \n",
       "5.0                          1.0  \n",
       "6.0                          1.0  \n",
       "7.0                          1.0  \n",
       "8.0                          1.0  \n",
       "10.0                         1.0  "
      ]
     },
     "execution_count": 33,
     "metadata": {},
     "output_type": "execute_result"
    }
   ],
   "source": [
    "train.pivot_table(\n",
    "    values='Discount_offered',\n",
    "    index='Prior_purchases',\n",
    "    aggfunc=['mean','count','max','min']\n",
    ")   "
   ]
  },
  {
   "cell_type": "code",
   "execution_count": 34,
   "metadata": {},
   "outputs": [
    {
     "data": {
      "text/html": [
       "<div>\n",
       "<style scoped>\n",
       "    .dataframe tbody tr th:only-of-type {\n",
       "        vertical-align: middle;\n",
       "    }\n",
       "\n",
       "    .dataframe tbody tr th {\n",
       "        vertical-align: top;\n",
       "    }\n",
       "\n",
       "    .dataframe thead tr th {\n",
       "        text-align: left;\n",
       "    }\n",
       "\n",
       "    .dataframe thead tr:last-of-type th {\n",
       "        text-align: right;\n",
       "    }\n",
       "</style>\n",
       "<table border=\"1\" class=\"dataframe\">\n",
       "  <thead>\n",
       "    <tr>\n",
       "      <th></th>\n",
       "      <th>mean</th>\n",
       "      <th>count</th>\n",
       "      <th>max</th>\n",
       "      <th>min</th>\n",
       "    </tr>\n",
       "    <tr>\n",
       "      <th></th>\n",
       "      <th>Discount_offered</th>\n",
       "      <th>Discount_offered</th>\n",
       "      <th>Discount_offered</th>\n",
       "      <th>Discount_offered</th>\n",
       "    </tr>\n",
       "    <tr>\n",
       "      <th>Prior_purchases</th>\n",
       "      <th></th>\n",
       "      <th></th>\n",
       "      <th></th>\n",
       "      <th></th>\n",
       "    </tr>\n",
       "  </thead>\n",
       "  <tbody>\n",
       "    <tr>\n",
       "      <th>2.0</th>\n",
       "      <td>14.977578</td>\n",
       "      <td>446</td>\n",
       "      <td>65.0</td>\n",
       "      <td>1.0</td>\n",
       "    </tr>\n",
       "    <tr>\n",
       "      <th>3.0</th>\n",
       "      <td>14.705202</td>\n",
       "      <td>692</td>\n",
       "      <td>64.0</td>\n",
       "      <td>1.0</td>\n",
       "    </tr>\n",
       "    <tr>\n",
       "      <th>4.0</th>\n",
       "      <td>11.393773</td>\n",
       "      <td>546</td>\n",
       "      <td>64.0</td>\n",
       "      <td>1.0</td>\n",
       "    </tr>\n",
       "    <tr>\n",
       "      <th>5.0</th>\n",
       "      <td>9.364865</td>\n",
       "      <td>222</td>\n",
       "      <td>61.0</td>\n",
       "      <td>1.0</td>\n",
       "    </tr>\n",
       "    <tr>\n",
       "      <th>6.0</th>\n",
       "      <td>12.303030</td>\n",
       "      <td>99</td>\n",
       "      <td>63.0</td>\n",
       "      <td>1.0</td>\n",
       "    </tr>\n",
       "    <tr>\n",
       "      <th>7.0</th>\n",
       "      <td>15.560000</td>\n",
       "      <td>25</td>\n",
       "      <td>56.0</td>\n",
       "      <td>1.0</td>\n",
       "    </tr>\n",
       "    <tr>\n",
       "      <th>8.0</th>\n",
       "      <td>16.523810</td>\n",
       "      <td>21</td>\n",
       "      <td>56.0</td>\n",
       "      <td>2.0</td>\n",
       "    </tr>\n",
       "    <tr>\n",
       "      <th>10.0</th>\n",
       "      <td>17.147059</td>\n",
       "      <td>34</td>\n",
       "      <td>59.0</td>\n",
       "      <td>1.0</td>\n",
       "    </tr>\n",
       "  </tbody>\n",
       "</table>\n",
       "</div>"
      ],
      "text/plain": [
       "                            mean            count              max  \\\n",
       "                Discount_offered Discount_offered Discount_offered   \n",
       "Prior_purchases                                                      \n",
       "2.0                    14.977578              446             65.0   \n",
       "3.0                    14.705202              692             64.0   \n",
       "4.0                    11.393773              546             64.0   \n",
       "5.0                     9.364865              222             61.0   \n",
       "6.0                    12.303030               99             63.0   \n",
       "7.0                    15.560000               25             56.0   \n",
       "8.0                    16.523810               21             56.0   \n",
       "10.0                   17.147059               34             59.0   \n",
       "\n",
       "                             min  \n",
       "                Discount_offered  \n",
       "Prior_purchases                   \n",
       "2.0                          1.0  \n",
       "3.0                          1.0  \n",
       "4.0                          1.0  \n",
       "5.0                          1.0  \n",
       "6.0                          1.0  \n",
       "7.0                          1.0  \n",
       "8.0                          2.0  \n",
       "10.0                         1.0  "
      ]
     },
     "execution_count": 34,
     "metadata": {},
     "output_type": "execute_result"
    }
   ],
   "source": [
    "test.pivot_table(\n",
    "    values='Discount_offered',\n",
    "    index='Prior_purchases',\n",
    "    aggfunc=['mean','count','max','min']\n",
    ")   "
   ]
  },
  {
   "cell_type": "code",
   "execution_count": 35,
   "metadata": {
    "scrolled": true
   },
   "outputs": [],
   "source": [
    "train[\"Discount_offered\"] = train[\"Discount_offered\"].fillna(2)\n",
    "test[\"Discount_offered\"] = test[\"Discount_offered\"].fillna(2)"
   ]
  },
  {
   "cell_type": "code",
   "execution_count": 36,
   "metadata": {},
   "outputs": [],
   "source": [
    "#train['Discount_offered'] = pd.cut(train.Discount_offered, bins=[-1,10,20,30,40,50,60,70,90],\n",
    "#                        labels=['0','1','2','3','4','5','6','7'])"
   ]
  },
  {
   "cell_type": "markdown",
   "metadata": {},
   "source": [
    "# shipment"
   ]
  },
  {
   "cell_type": "code",
   "execution_count": 37,
   "metadata": {},
   "outputs": [
    {
     "data": {
      "text/plain": [
       "array([' Ship', ' Flight', ' Road', '?', ' Shipzk', ' Flightzk',\n",
       "       ' Roadzk'], dtype=object)"
      ]
     },
     "execution_count": 37,
     "metadata": {},
     "output_type": "execute_result"
    }
   ],
   "source": [
    "train[\"Mode_of_Shipment\"].unique()"
   ]
  },
  {
   "cell_type": "code",
   "execution_count": 38,
   "metadata": {},
   "outputs": [
    {
     "data": {
      "text/plain": [
       "array([' Ship', ' Flight', '?', ' Road', ' Shipzk', ' Roadzk'],\n",
       "      dtype=object)"
      ]
     },
     "execution_count": 38,
     "metadata": {},
     "output_type": "execute_result"
    }
   ],
   "source": [
    "test[\"Mode_of_Shipment\"].unique()"
   ]
  },
  {
   "cell_type": "code",
   "execution_count": 39,
   "metadata": {},
   "outputs": [],
   "source": [
    "train.loc[(train[\"Mode_of_Shipment\"] == \"?\")]\n",
    "train.loc[(train[\"Mode_of_Shipment\"] == \"?\"),'Mode_of_Shipment'] = \" Ship\"\n",
    "\n",
    "test.loc[(test[\"Mode_of_Shipment\"] == \"?\")]\n",
    "test.loc[(test[\"Mode_of_Shipment\"] == \"?\"),'Mode_of_Shipment'] = \" Ship\""
   ]
  },
  {
   "cell_type": "code",
   "execution_count": 40,
   "metadata": {},
   "outputs": [],
   "source": [
    "train.loc[(train[\"Mode_of_Shipment\"] == \" Shipzk\")]\n",
    "train.loc[(train[\"Mode_of_Shipment\"] == \" Shipzk\"),'Mode_of_Shipment'] = \" Ship\"\n",
    "train.loc[(train[\"Mode_of_Shipment\"] == \" Ship\"),'Mode_of_Shipment'] = \"Ship\"\n",
    "\n",
    "test.loc[(test[\"Mode_of_Shipment\"] == \" Shipzk\")]\n",
    "test.loc[(test[\"Mode_of_Shipment\"] == \" Shipzk\"),'Mode_of_Shipment'] = \" Ship\"\n",
    "test.loc[(test[\"Mode_of_Shipment\"] == \" Ship\"),'Mode_of_Shipment'] = \"Ship\""
   ]
  },
  {
   "cell_type": "code",
   "execution_count": 41,
   "metadata": {},
   "outputs": [],
   "source": [
    "train.loc[(train[\"Mode_of_Shipment\"] == \" Flightzk\")]\n",
    "train.loc[(train[\"Mode_of_Shipment\"] == \" Flightzk\"),'Mode_of_Shipment'] = \" Flight\"\n",
    "train.loc[(train[\"Mode_of_Shipment\"] == \" Flight\"),'Mode_of_Shipment'] = \"Flight\"\n",
    "\n",
    "test.loc[(test[\"Mode_of_Shipment\"] == \" Flightzk\")]\n",
    "test.loc[(test[\"Mode_of_Shipment\"] == \" Flightzk\"),'Mode_of_Shipment'] = \" Flight\"\n",
    "test.loc[(test[\"Mode_of_Shipment\"] == \" Flight\"),'Mode_of_Shipment'] = \"Flight\""
   ]
  },
  {
   "cell_type": "code",
   "execution_count": 42,
   "metadata": {},
   "outputs": [],
   "source": [
    "train.loc[(train[\"Mode_of_Shipment\"] == \" Roadzk\")]\n",
    "train.loc[(train[\"Mode_of_Shipment\"] == \" Roadzk\"),'Mode_of_Shipment'] = \" Road\"\n",
    "train.loc[(train[\"Mode_of_Shipment\"] == \" Road\"),'Mode_of_Shipment'] = \"Road\"\n",
    "\n",
    "test.loc[(test[\"Mode_of_Shipment\"] == \" Roadzk\")]\n",
    "test.loc[(test[\"Mode_of_Shipment\"] == \" Roadzk\"),'Mode_of_Shipment'] = \" Road\"\n",
    "test.loc[(test[\"Mode_of_Shipment\"] == \" Road\"),'Mode_of_Shipment'] = \"Road\""
   ]
  },
  {
   "cell_type": "code",
   "execution_count": 43,
   "metadata": {},
   "outputs": [
    {
     "name": "stdout",
     "output_type": "stream",
     "text": [
      "['Ship' 'Flight' 'Road']\n",
      "['Ship' 'Flight' 'Road']\n"
     ]
    }
   ],
   "source": [
    "print(train[\"Mode_of_Shipment\"].unique())\n",
    "print(test[\"Mode_of_Shipment\"].unique())"
   ]
  },
  {
   "cell_type": "code",
   "execution_count": 44,
   "metadata": {
    "scrolled": true
   },
   "outputs": [],
   "source": [
    "# 0 - Ship 1 - Flight 2 - Road\n",
    "train[\"Mode_of_Shipment\"].replace(['Ship','Flight','Road'],[0,1,2],inplace=True)\n",
    "test[\"Mode_of_Shipment\"].replace(['Ship','Flight','Road'],[0,1,2],inplace=True)"
   ]
  },
  {
   "cell_type": "markdown",
   "metadata": {},
   "source": [
    "# Warehouse block"
   ]
  },
  {
   "cell_type": "code",
   "execution_count": 45,
   "metadata": {},
   "outputs": [
    {
     "data": {
      "text/plain": [
       "array(['C', 'F', 'D', 'B', 'A'], dtype=object)"
      ]
     },
     "execution_count": 45,
     "metadata": {},
     "output_type": "execute_result"
    }
   ],
   "source": [
    "train['Warehouse_block '].unique()"
   ]
  },
  {
   "cell_type": "code",
   "execution_count": 46,
   "metadata": {},
   "outputs": [],
   "source": [
    "train[\"Warehouse_block \"].replace(['A','B','C','D','F'],[0,1,2,3,4],inplace=True)\n",
    "test[\"Warehouse_block \"].replace(['A','B','C','D','F'],[0,1,2,3,4],inplace=True)"
   ]
  },
  {
   "cell_type": "code",
   "execution_count": 47,
   "metadata": {
    "scrolled": true
   },
   "outputs": [
    {
     "data": {
      "text/html": [
       "<div>\n",
       "<style scoped>\n",
       "    .dataframe tbody tr th:only-of-type {\n",
       "        vertical-align: middle;\n",
       "    }\n",
       "\n",
       "    .dataframe tbody tr th {\n",
       "        vertical-align: top;\n",
       "    }\n",
       "\n",
       "    .dataframe thead th {\n",
       "        text-align: right;\n",
       "    }\n",
       "</style>\n",
       "<table border=\"1\" class=\"dataframe\">\n",
       "  <thead>\n",
       "    <tr style=\"text-align: right;\">\n",
       "      <th></th>\n",
       "      <th>Warehouse_block</th>\n",
       "      <th>Mode_of_Shipment</th>\n",
       "      <th>Customer_care_calls</th>\n",
       "      <th>Customer_rating</th>\n",
       "      <th>Cost_of_the_Product</th>\n",
       "      <th>Prior_purchases</th>\n",
       "      <th>Product_importance</th>\n",
       "      <th>Discount_offered</th>\n",
       "      <th>Reached.on.Time_Y.N</th>\n",
       "    </tr>\n",
       "  </thead>\n",
       "  <tbody>\n",
       "    <tr>\n",
       "      <th>Warehouse_block</th>\n",
       "      <td>1.000000</td>\n",
       "      <td>-0.002938</td>\n",
       "      <td>0.015662</td>\n",
       "      <td>0.001960</td>\n",
       "      <td>-0.000729</td>\n",
       "      <td>-0.007717</td>\n",
       "      <td>0.000344</td>\n",
       "      <td>-0.003136</td>\n",
       "      <td>-0.003872</td>\n",
       "    </tr>\n",
       "    <tr>\n",
       "      <th>Mode_of_Shipment</th>\n",
       "      <td>-0.002938</td>\n",
       "      <td>1.000000</td>\n",
       "      <td>0.023873</td>\n",
       "      <td>-0.003095</td>\n",
       "      <td>-0.000791</td>\n",
       "      <td>0.020354</td>\n",
       "      <td>0.014742</td>\n",
       "      <td>0.003967</td>\n",
       "      <td>0.005801</td>\n",
       "    </tr>\n",
       "    <tr>\n",
       "      <th>Customer_care_calls</th>\n",
       "      <td>0.015662</td>\n",
       "      <td>0.023873</td>\n",
       "      <td>1.000000</td>\n",
       "      <td>0.012948</td>\n",
       "      <td>0.046959</td>\n",
       "      <td>0.141471</td>\n",
       "      <td>-0.056691</td>\n",
       "      <td>-0.095792</td>\n",
       "      <td>-0.062842</td>\n",
       "    </tr>\n",
       "    <tr>\n",
       "      <th>Customer_rating</th>\n",
       "      <td>0.001960</td>\n",
       "      <td>-0.003095</td>\n",
       "      <td>0.012948</td>\n",
       "      <td>1.000000</td>\n",
       "      <td>-0.001961</td>\n",
       "      <td>0.007749</td>\n",
       "      <td>0.009600</td>\n",
       "      <td>-0.012765</td>\n",
       "      <td>0.011275</td>\n",
       "    </tr>\n",
       "    <tr>\n",
       "      <th>Cost_of_the_Product</th>\n",
       "      <td>-0.000729</td>\n",
       "      <td>-0.000791</td>\n",
       "      <td>0.046959</td>\n",
       "      <td>-0.001961</td>\n",
       "      <td>1.000000</td>\n",
       "      <td>0.027686</td>\n",
       "      <td>0.001771</td>\n",
       "      <td>-0.028309</td>\n",
       "      <td>-0.012811</td>\n",
       "    </tr>\n",
       "    <tr>\n",
       "      <th>Prior_purchases</th>\n",
       "      <td>-0.007717</td>\n",
       "      <td>0.020354</td>\n",
       "      <td>0.141471</td>\n",
       "      <td>0.007749</td>\n",
       "      <td>0.027686</td>\n",
       "      <td>1.000000</td>\n",
       "      <td>0.017363</td>\n",
       "      <td>-0.048063</td>\n",
       "      <td>-0.062230</td>\n",
       "    </tr>\n",
       "    <tr>\n",
       "      <th>Product_importance</th>\n",
       "      <td>0.000344</td>\n",
       "      <td>0.014742</td>\n",
       "      <td>-0.056691</td>\n",
       "      <td>0.009600</td>\n",
       "      <td>0.001771</td>\n",
       "      <td>0.017363</td>\n",
       "      <td>1.000000</td>\n",
       "      <td>0.024338</td>\n",
       "      <td>0.020316</td>\n",
       "    </tr>\n",
       "    <tr>\n",
       "      <th>Discount_offered</th>\n",
       "      <td>-0.003136</td>\n",
       "      <td>0.003967</td>\n",
       "      <td>-0.095792</td>\n",
       "      <td>-0.012765</td>\n",
       "      <td>-0.028309</td>\n",
       "      <td>-0.048063</td>\n",
       "      <td>0.024338</td>\n",
       "      <td>1.000000</td>\n",
       "      <td>0.251016</td>\n",
       "    </tr>\n",
       "    <tr>\n",
       "      <th>Reached.on.Time_Y.N</th>\n",
       "      <td>-0.003872</td>\n",
       "      <td>0.005801</td>\n",
       "      <td>-0.062842</td>\n",
       "      <td>0.011275</td>\n",
       "      <td>-0.012811</td>\n",
       "      <td>-0.062230</td>\n",
       "      <td>0.020316</td>\n",
       "      <td>0.251016</td>\n",
       "      <td>1.000000</td>\n",
       "    </tr>\n",
       "  </tbody>\n",
       "</table>\n",
       "</div>"
      ],
      "text/plain": [
       "                     Warehouse_block   Mode_of_Shipment  Customer_care_calls  \\\n",
       "Warehouse_block              1.000000         -0.002938             0.015662   \n",
       "Mode_of_Shipment            -0.002938          1.000000             0.023873   \n",
       "Customer_care_calls          0.015662          0.023873             1.000000   \n",
       "Customer_rating              0.001960         -0.003095             0.012948   \n",
       "Cost_of_the_Product         -0.000729         -0.000791             0.046959   \n",
       "Prior_purchases             -0.007717          0.020354             0.141471   \n",
       "Product_importance           0.000344          0.014742            -0.056691   \n",
       "Discount_offered            -0.003136          0.003967            -0.095792   \n",
       "Reached.on.Time_Y.N         -0.003872          0.005801            -0.062842   \n",
       "\n",
       "                     Customer_rating  Cost_of_the_Product  Prior_purchases  \\\n",
       "Warehouse_block             0.001960            -0.000729        -0.007717   \n",
       "Mode_of_Shipment           -0.003095            -0.000791         0.020354   \n",
       "Customer_care_calls         0.012948             0.046959         0.141471   \n",
       "Customer_rating             1.000000            -0.001961         0.007749   \n",
       "Cost_of_the_Product        -0.001961             1.000000         0.027686   \n",
       "Prior_purchases             0.007749             0.027686         1.000000   \n",
       "Product_importance          0.009600             0.001771         0.017363   \n",
       "Discount_offered           -0.012765            -0.028309        -0.048063   \n",
       "Reached.on.Time_Y.N         0.011275            -0.012811        -0.062230   \n",
       "\n",
       "                     Product_importance  Discount_offered  Reached.on.Time_Y.N  \n",
       "Warehouse_block                0.000344         -0.003136            -0.003872  \n",
       "Mode_of_Shipment               0.014742          0.003967             0.005801  \n",
       "Customer_care_calls           -0.056691         -0.095792            -0.062842  \n",
       "Customer_rating                0.009600         -0.012765             0.011275  \n",
       "Cost_of_the_Product            0.001771         -0.028309            -0.012811  \n",
       "Prior_purchases                0.017363         -0.048063            -0.062230  \n",
       "Product_importance             1.000000          0.024338             0.020316  \n",
       "Discount_offered               0.024338          1.000000             0.251016  \n",
       "Reached.on.Time_Y.N            0.020316          0.251016             1.000000  "
      ]
     },
     "execution_count": 47,
     "metadata": {},
     "output_type": "execute_result"
    }
   ],
   "source": [
    "train.corr()"
   ]
  },
  {
   "cell_type": "markdown",
   "metadata": {},
   "source": [
    "# Gender"
   ]
  },
  {
   "cell_type": "code",
   "execution_count": 48,
   "metadata": {},
   "outputs": [
    {
     "data": {
      "text/plain": [
       "array(['M', 'F'], dtype=object)"
      ]
     },
     "execution_count": 48,
     "metadata": {},
     "output_type": "execute_result"
    }
   ],
   "source": [
    "train['Gender'].unique()"
   ]
  },
  {
   "cell_type": "code",
   "execution_count": 49,
   "metadata": {},
   "outputs": [],
   "source": [
    "train['Gender'].replace(['M','F'],[0,1],inplace=True)\n",
    "test['Gender'].replace(['M','F'],[0,1],inplace=True)"
   ]
  },
  {
   "cell_type": "markdown",
   "metadata": {},
   "source": [
    "# Weight_in_gms"
   ]
  },
  {
   "cell_type": "code",
   "execution_count": 50,
   "metadata": {
    "scrolled": true
   },
   "outputs": [
    {
     "data": {
      "text/html": [
       "<div>\n",
       "<style scoped>\n",
       "    .dataframe tbody tr th:only-of-type {\n",
       "        vertical-align: middle;\n",
       "    }\n",
       "\n",
       "    .dataframe tbody tr th {\n",
       "        vertical-align: top;\n",
       "    }\n",
       "\n",
       "    .dataframe thead th {\n",
       "        text-align: right;\n",
       "    }\n",
       "</style>\n",
       "<table border=\"1\" class=\"dataframe\">\n",
       "  <thead>\n",
       "    <tr style=\"text-align: right;\">\n",
       "      <th></th>\n",
       "      <th>Warehouse_block</th>\n",
       "      <th>Mode_of_Shipment</th>\n",
       "      <th>Customer_care_calls</th>\n",
       "      <th>Customer_rating</th>\n",
       "      <th>Cost_of_the_Product</th>\n",
       "      <th>Prior_purchases</th>\n",
       "      <th>Product_importance</th>\n",
       "      <th>Gender</th>\n",
       "      <th>Discount_offered</th>\n",
       "      <th>Weight_in_gms</th>\n",
       "      <th>Reached.on.Time_Y.N</th>\n",
       "    </tr>\n",
       "  </thead>\n",
       "  <tbody>\n",
       "    <tr>\n",
       "      <th>47</th>\n",
       "      <td>3</td>\n",
       "      <td>0</td>\n",
       "      <td>4.0</td>\n",
       "      <td>2</td>\n",
       "      <td>281</td>\n",
       "      <td>4.0</td>\n",
       "      <td>2</td>\n",
       "      <td>1</td>\n",
       "      <td>5.0</td>\n",
       "      <td>?</td>\n",
       "      <td>1</td>\n",
       "    </tr>\n",
       "    <tr>\n",
       "      <th>65</th>\n",
       "      <td>3</td>\n",
       "      <td>0</td>\n",
       "      <td>4.0</td>\n",
       "      <td>1</td>\n",
       "      <td>249</td>\n",
       "      <td>6.0</td>\n",
       "      <td>1</td>\n",
       "      <td>0</td>\n",
       "      <td>2.0</td>\n",
       "      <td>?</td>\n",
       "      <td>1</td>\n",
       "    </tr>\n",
       "    <tr>\n",
       "      <th>67</th>\n",
       "      <td>0</td>\n",
       "      <td>0</td>\n",
       "      <td>3.0</td>\n",
       "      <td>2</td>\n",
       "      <td>213</td>\n",
       "      <td>6.0</td>\n",
       "      <td>1</td>\n",
       "      <td>0</td>\n",
       "      <td>2.0</td>\n",
       "      <td>?</td>\n",
       "      <td>1</td>\n",
       "    </tr>\n",
       "    <tr>\n",
       "      <th>82</th>\n",
       "      <td>0</td>\n",
       "      <td>0</td>\n",
       "      <td>4.0</td>\n",
       "      <td>1</td>\n",
       "      <td>105</td>\n",
       "      <td>6.0</td>\n",
       "      <td>1</td>\n",
       "      <td>0</td>\n",
       "      <td>62.0</td>\n",
       "      <td>?</td>\n",
       "      <td>1</td>\n",
       "    </tr>\n",
       "    <tr>\n",
       "      <th>90</th>\n",
       "      <td>2</td>\n",
       "      <td>0</td>\n",
       "      <td>4.0</td>\n",
       "      <td>2</td>\n",
       "      <td>189</td>\n",
       "      <td>6.0</td>\n",
       "      <td>0</td>\n",
       "      <td>0</td>\n",
       "      <td>2.0</td>\n",
       "      <td>?</td>\n",
       "      <td>0</td>\n",
       "    </tr>\n",
       "    <tr>\n",
       "      <th>...</th>\n",
       "      <td>...</td>\n",
       "      <td>...</td>\n",
       "      <td>...</td>\n",
       "      <td>...</td>\n",
       "      <td>...</td>\n",
       "      <td>...</td>\n",
       "      <td>...</td>\n",
       "      <td>...</td>\n",
       "      <td>...</td>\n",
       "      <td>...</td>\n",
       "      <td>...</td>\n",
       "    </tr>\n",
       "    <tr>\n",
       "      <th>6889</th>\n",
       "      <td>3</td>\n",
       "      <td>0</td>\n",
       "      <td>7.0</td>\n",
       "      <td>5</td>\n",
       "      <td>282</td>\n",
       "      <td>5.0</td>\n",
       "      <td>0</td>\n",
       "      <td>0</td>\n",
       "      <td>2.0</td>\n",
       "      <td>?</td>\n",
       "      <td>1</td>\n",
       "    </tr>\n",
       "    <tr>\n",
       "      <th>6914</th>\n",
       "      <td>0</td>\n",
       "      <td>0</td>\n",
       "      <td>5.0</td>\n",
       "      <td>4</td>\n",
       "      <td>157</td>\n",
       "      <td>4.0</td>\n",
       "      <td>0</td>\n",
       "      <td>0</td>\n",
       "      <td>2.0</td>\n",
       "      <td>?</td>\n",
       "      <td>1</td>\n",
       "    </tr>\n",
       "    <tr>\n",
       "      <th>6945</th>\n",
       "      <td>3</td>\n",
       "      <td>0</td>\n",
       "      <td>2.0</td>\n",
       "      <td>2</td>\n",
       "      <td>219</td>\n",
       "      <td>3.0</td>\n",
       "      <td>0</td>\n",
       "      <td>1</td>\n",
       "      <td>2.0</td>\n",
       "      <td>?</td>\n",
       "      <td>1</td>\n",
       "    </tr>\n",
       "    <tr>\n",
       "      <th>6972</th>\n",
       "      <td>4</td>\n",
       "      <td>2</td>\n",
       "      <td>4.0</td>\n",
       "      <td>2</td>\n",
       "      <td>257</td>\n",
       "      <td>3.0</td>\n",
       "      <td>0</td>\n",
       "      <td>1</td>\n",
       "      <td>25.0</td>\n",
       "      <td>?</td>\n",
       "      <td>1</td>\n",
       "    </tr>\n",
       "    <tr>\n",
       "      <th>6975</th>\n",
       "      <td>4</td>\n",
       "      <td>0</td>\n",
       "      <td>4.0</td>\n",
       "      <td>3</td>\n",
       "      <td>151</td>\n",
       "      <td>4.0</td>\n",
       "      <td>1</td>\n",
       "      <td>1</td>\n",
       "      <td>2.0</td>\n",
       "      <td>?</td>\n",
       "      <td>0</td>\n",
       "    </tr>\n",
       "  </tbody>\n",
       "</table>\n",
       "<p>446 rows × 11 columns</p>\n",
       "</div>"
      ],
      "text/plain": [
       "      Warehouse_block   Mode_of_Shipment  Customer_care_calls  \\\n",
       "47                   3                 0                  4.0   \n",
       "65                   3                 0                  4.0   \n",
       "67                   0                 0                  3.0   \n",
       "82                   0                 0                  4.0   \n",
       "90                   2                 0                  4.0   \n",
       "...                ...               ...                  ...   \n",
       "6889                 3                 0                  7.0   \n",
       "6914                 0                 0                  5.0   \n",
       "6945                 3                 0                  2.0   \n",
       "6972                 4                 2                  4.0   \n",
       "6975                 4                 0                  4.0   \n",
       "\n",
       "      Customer_rating  Cost_of_the_Product  Prior_purchases  \\\n",
       "47                  2                  281              4.0   \n",
       "65                  1                  249              6.0   \n",
       "67                  2                  213              6.0   \n",
       "82                  1                  105              6.0   \n",
       "90                  2                  189              6.0   \n",
       "...               ...                  ...              ...   \n",
       "6889                5                  282              5.0   \n",
       "6914                4                  157              4.0   \n",
       "6945                2                  219              3.0   \n",
       "6972                2                  257              3.0   \n",
       "6975                3                  151              4.0   \n",
       "\n",
       "      Product_importance  Gender  Discount_offered Weight_in_gms  \\\n",
       "47                     2       1               5.0             ?   \n",
       "65                     1       0               2.0             ?   \n",
       "67                     1       0               2.0             ?   \n",
       "82                     1       0              62.0             ?   \n",
       "90                     0       0               2.0             ?   \n",
       "...                  ...     ...               ...           ...   \n",
       "6889                   0       0               2.0             ?   \n",
       "6914                   0       0               2.0             ?   \n",
       "6945                   0       1               2.0             ?   \n",
       "6972                   0       1              25.0             ?   \n",
       "6975                   1       1               2.0             ?   \n",
       "\n",
       "      Reached.on.Time_Y.N  \n",
       "47                      1  \n",
       "65                      1  \n",
       "67                      1  \n",
       "82                      1  \n",
       "90                      0  \n",
       "...                   ...  \n",
       "6889                    1  \n",
       "6914                    1  \n",
       "6945                    1  \n",
       "6972                    1  \n",
       "6975                    0  \n",
       "\n",
       "[446 rows x 11 columns]"
      ]
     },
     "execution_count": 50,
     "metadata": {},
     "output_type": "execute_result"
    }
   ],
   "source": [
    "train[train[\"Weight_in_gms\"]==\"?\"]"
   ]
  },
  {
   "cell_type": "code",
   "execution_count": 51,
   "metadata": {
    "scrolled": true
   },
   "outputs": [],
   "source": [
    "train = train.drop(\"Weight_in_gms\",axis=1)\n",
    "test = test.drop(\"Weight_in_gms\",axis=1)"
   ]
  },
  {
   "cell_type": "code",
   "execution_count": 52,
   "metadata": {},
   "outputs": [
    {
     "name": "stdout",
     "output_type": "stream",
     "text": [
      "4    2311\n",
      "2    1184\n",
      "0    1174\n",
      "3    1168\n",
      "1    1162\n",
      "Name: Warehouse_block , dtype: int64\n"
     ]
    }
   ],
   "source": [
    "print(train[\"Warehouse_block \"].value_counts())"
   ]
  },
  {
   "cell_type": "code",
   "execution_count": 53,
   "metadata": {},
   "outputs": [
    {
     "name": "stdout",
     "output_type": "stream",
     "text": [
      "0    4883\n",
      "2    1076\n",
      "1    1040\n",
      "Name: Mode_of_Shipment, dtype: int64\n"
     ]
    }
   ],
   "source": [
    "print(train[\"Mode_of_Shipment\"].value_counts())"
   ]
  },
  {
   "cell_type": "code",
   "execution_count": 54,
   "metadata": {},
   "outputs": [
    {
     "name": "stdout",
     "output_type": "stream",
     "text": [
      "4.0    3332\n",
      "3.0    1620\n",
      "5.0    1147\n",
      "6.0     496\n",
      "2.0     287\n",
      "7.0     117\n",
      "Name: Customer_care_calls, dtype: int64\n"
     ]
    }
   ],
   "source": [
    "print(train[\"Customer_care_calls\"].value_counts())"
   ]
  },
  {
   "cell_type": "code",
   "execution_count": 55,
   "metadata": {},
   "outputs": [
    {
     "name": "stdout",
     "output_type": "stream",
     "text": [
      "3     1451\n",
      "2     1399\n",
      "5     1399\n",
      "1     1391\n",
      "4     1357\n",
      "99       2\n",
      "Name: Customer_rating, dtype: int64\n"
     ]
    }
   ],
   "source": [
    "print(train[\"Customer_rating\"].value_counts())"
   ]
  },
  {
   "cell_type": "code",
   "execution_count": 56,
   "metadata": {},
   "outputs": [
    {
     "name": "stdout",
     "output_type": "stream",
     "text": [
      "254    73\n",
      "250    68\n",
      "263    67\n",
      "243    67\n",
      "264    66\n",
      "       ..\n",
      "96      3\n",
      "122     2\n",
      "302     2\n",
      "119     2\n",
      "97      1\n",
      "Name: Cost_of_the_Product, Length: 216, dtype: int64\n"
     ]
    }
   ],
   "source": [
    "print(train[\"Cost_of_the_Product\"].value_counts())"
   ]
  },
  {
   "cell_type": "code",
   "execution_count": 57,
   "metadata": {},
   "outputs": [
    {
     "name": "stdout",
     "output_type": "stream",
     "text": [
      "3.0     2176\n",
      "4.0     2112\n",
      "2.0     1423\n",
      "5.0      735\n",
      "6.0      310\n",
      "10.0     101\n",
      "8.0       72\n",
      "7.0       70\n",
      "Name: Prior_purchases, dtype: int64\n"
     ]
    }
   ],
   "source": [
    "print(train[\"Prior_purchases\"].value_counts())"
   ]
  },
  {
   "cell_type": "code",
   "execution_count": 58,
   "metadata": {},
   "outputs": [
    {
     "name": "stdout",
     "output_type": "stream",
     "text": [
      "0    3442\n",
      "1    2983\n",
      "2     574\n",
      "Name: Product_importance, dtype: int64\n"
     ]
    }
   ],
   "source": [
    "print(train[\"Product_importance\"].value_counts())"
   ]
  },
  {
   "cell_type": "code",
   "execution_count": 59,
   "metadata": {},
   "outputs": [
    {
     "name": "stdout",
     "output_type": "stream",
     "text": [
      "0    3509\n",
      "1    3490\n",
      "Name: Gender, dtype: int64\n"
     ]
    }
   ],
   "source": [
    "print(train[\"Gender\"].value_counts())"
   ]
  },
  {
   "cell_type": "code",
   "execution_count": 60,
   "metadata": {
    "scrolled": false
   },
   "outputs": [
    {
     "name": "stdout",
     "output_type": "stream",
     "text": [
      "2.0     3809\n",
      "9.0      287\n",
      "10.0     278\n",
      "3.0      277\n",
      "1.0      272\n",
      "        ... \n",
      "50.0      10\n",
      "18.0      10\n",
      "42.0       9\n",
      "26.0       8\n",
      "43.0       7\n",
      "Name: Discount_offered, Length: 65, dtype: int64\n"
     ]
    }
   ],
   "source": [
    "print(train[\"Discount_offered\"].value_counts())"
   ]
  },
  {
   "cell_type": "code",
   "execution_count": 61,
   "metadata": {},
   "outputs": [
    {
     "name": "stdout",
     "output_type": "stream",
     "text": [
      "<class 'pandas.core.frame.DataFrame'>\n",
      "RangeIndex: 6999 entries, 0 to 6998\n",
      "Data columns (total 10 columns):\n",
      " #   Column               Non-Null Count  Dtype  \n",
      "---  ------               --------------  -----  \n",
      " 0   Warehouse_block      6999 non-null   int64  \n",
      " 1   Mode_of_Shipment     6999 non-null   int64  \n",
      " 2   Customer_care_calls  6999 non-null   float64\n",
      " 3   Customer_rating      6999 non-null   int64  \n",
      " 4   Cost_of_the_Product  6999 non-null   int64  \n",
      " 5   Prior_purchases      6999 non-null   float64\n",
      " 6   Product_importance   6999 non-null   int64  \n",
      " 7   Gender               6999 non-null   int64  \n",
      " 8   Discount_offered     6999 non-null   float64\n",
      " 9   Reached.on.Time_Y.N  6999 non-null   int64  \n",
      "dtypes: float64(3), int64(7)\n",
      "memory usage: 546.9 KB\n"
     ]
    }
   ],
   "source": [
    "train.info()"
   ]
  },
  {
   "cell_type": "markdown",
   "metadata": {},
   "source": [
    "# 라벨인코딩"
   ]
  },
  {
   "cell_type": "code",
   "execution_count": 62,
   "metadata": {},
   "outputs": [
    {
     "data": {
      "text/plain": [
       "Index(['Warehouse_block ', 'Mode_of_Shipment', 'Customer_care_calls',\n",
       "       'Customer_rating', 'Cost_of_the_Product', 'Prior_purchases',\n",
       "       'Product_importance', 'Gender', 'Discount_offered',\n",
       "       'Reached.on.Time_Y.N'],\n",
       "      dtype='object')"
      ]
     },
     "execution_count": 62,
     "metadata": {},
     "output_type": "execute_result"
    }
   ],
   "source": [
    "train.columns"
   ]
  },
  {
   "cell_type": "markdown",
   "metadata": {},
   "source": [
    "## Cost_of_the_Product"
   ]
  },
  {
   "cell_type": "code",
   "execution_count": 63,
   "metadata": {},
   "outputs": [],
   "source": [
    "bins=[0,100,150,200,250,10000]\n",
    "labels = ['0','1','2','3','4']\n",
    "train['Cost_of_the_Product']=pd.cut(train['Cost_of_the_Product'], bins=bins, labels=labels)\n",
    "test['Cost_of_the_Product']=pd.cut(test['Cost_of_the_Product'], bins=bins, labels=labels)\n",
    "\n",
    "train['Cost_of_the_Product'] = train['Cost_of_the_Product'].astype(\"int64\")\n",
    "test['Cost_of_the_Product'] = test['Cost_of_the_Product'].astype(\"int64\")"
   ]
  },
  {
   "cell_type": "code",
   "execution_count": 64,
   "metadata": {},
   "outputs": [
    {
     "name": "stdout",
     "output_type": "stream",
     "text": [
      "[1 3 2 4 0]\n",
      "[4 1 3 2 0]\n"
     ]
    }
   ],
   "source": [
    "print(train['Cost_of_the_Product'].unique())\n",
    "print(test['Cost_of_the_Product'].unique())"
   ]
  },
  {
   "cell_type": "markdown",
   "metadata": {},
   "source": [
    "## Discount_offered"
   ]
  },
  {
   "cell_type": "code",
   "execution_count": 65,
   "metadata": {},
   "outputs": [],
   "source": [
    "bins=[0,10,20,30,40,50,60,70]\n",
    "labels = ['0','1','2','3','4','5','6']\n",
    "train['Discount_offered']=pd.cut(train['Discount_offered'], bins=bins, labels=labels)\n",
    "test['Discount_offered']=pd.cut(test['Discount_offered'], bins=bins, labels=labels)\n",
    "\n",
    "train['Discount_offered'] = train['Discount_offered'].astype(\"int64\")\n",
    "test['Discount_offered'] = test['Discount_offered'].astype(\"int64\")"
   ]
  },
  {
   "cell_type": "code",
   "execution_count": 66,
   "metadata": {
    "scrolled": false
   },
   "outputs": [
    {
     "name": "stdout",
     "output_type": "stream",
     "text": [
      "[0 3 5 6 4 1 2]\n",
      "[0 6 2 3 5 4 1]\n"
     ]
    }
   ],
   "source": [
    "print(train['Discount_offered'].unique())\n",
    "print(test['Discount_offered'].unique())"
   ]
  },
  {
   "cell_type": "code",
   "execution_count": 67,
   "metadata": {
    "scrolled": true
   },
   "outputs": [
    {
     "name": "stdout",
     "output_type": "stream",
     "text": [
      "<class 'pandas.core.frame.DataFrame'>\n",
      "RangeIndex: 6999 entries, 0 to 6998\n",
      "Data columns (total 10 columns):\n",
      " #   Column               Non-Null Count  Dtype  \n",
      "---  ------               --------------  -----  \n",
      " 0   Warehouse_block      6999 non-null   int64  \n",
      " 1   Mode_of_Shipment     6999 non-null   int64  \n",
      " 2   Customer_care_calls  6999 non-null   float64\n",
      " 3   Customer_rating      6999 non-null   int64  \n",
      " 4   Cost_of_the_Product  6999 non-null   int64  \n",
      " 5   Prior_purchases      6999 non-null   float64\n",
      " 6   Product_importance   6999 non-null   int64  \n",
      " 7   Gender               6999 non-null   int64  \n",
      " 8   Discount_offered     6999 non-null   int64  \n",
      " 9   Reached.on.Time_Y.N  6999 non-null   int64  \n",
      "dtypes: float64(2), int64(8)\n",
      "memory usage: 546.9 KB\n"
     ]
    }
   ],
   "source": [
    "train.info()"
   ]
  },
  {
   "cell_type": "code",
   "execution_count": 68,
   "metadata": {
    "scrolled": true
   },
   "outputs": [
    {
     "data": {
      "text/html": [
       "<div>\n",
       "<style scoped>\n",
       "    .dataframe tbody tr th:only-of-type {\n",
       "        vertical-align: middle;\n",
       "    }\n",
       "\n",
       "    .dataframe tbody tr th {\n",
       "        vertical-align: top;\n",
       "    }\n",
       "\n",
       "    .dataframe thead th {\n",
       "        text-align: right;\n",
       "    }\n",
       "</style>\n",
       "<table border=\"1\" class=\"dataframe\">\n",
       "  <thead>\n",
       "    <tr style=\"text-align: right;\">\n",
       "      <th></th>\n",
       "      <th>Warehouse_block</th>\n",
       "      <th>Mode_of_Shipment</th>\n",
       "      <th>Customer_care_calls</th>\n",
       "      <th>Customer_rating</th>\n",
       "      <th>Cost_of_the_Product</th>\n",
       "      <th>Prior_purchases</th>\n",
       "      <th>Product_importance</th>\n",
       "      <th>Gender</th>\n",
       "      <th>Discount_offered</th>\n",
       "      <th>Reached.on.Time_Y.N</th>\n",
       "    </tr>\n",
       "  </thead>\n",
       "  <tbody>\n",
       "    <tr>\n",
       "      <th>Warehouse_block</th>\n",
       "      <td>1.000000</td>\n",
       "      <td>-0.002938</td>\n",
       "      <td>0.015662</td>\n",
       "      <td>0.001960</td>\n",
       "      <td>-0.001089</td>\n",
       "      <td>-0.007717</td>\n",
       "      <td>0.000344</td>\n",
       "      <td>-0.001708</td>\n",
       "      <td>-0.001135</td>\n",
       "      <td>-0.003872</td>\n",
       "    </tr>\n",
       "    <tr>\n",
       "      <th>Mode_of_Shipment</th>\n",
       "      <td>-0.002938</td>\n",
       "      <td>1.000000</td>\n",
       "      <td>0.023873</td>\n",
       "      <td>-0.003095</td>\n",
       "      <td>0.016738</td>\n",
       "      <td>0.020354</td>\n",
       "      <td>0.014742</td>\n",
       "      <td>0.000511</td>\n",
       "      <td>0.006579</td>\n",
       "      <td>0.005801</td>\n",
       "    </tr>\n",
       "    <tr>\n",
       "      <th>Customer_care_calls</th>\n",
       "      <td>0.015662</td>\n",
       "      <td>0.023873</td>\n",
       "      <td>1.000000</td>\n",
       "      <td>0.012948</td>\n",
       "      <td>0.256041</td>\n",
       "      <td>0.141471</td>\n",
       "      <td>-0.056691</td>\n",
       "      <td>-0.001320</td>\n",
       "      <td>-0.099030</td>\n",
       "      <td>-0.062842</td>\n",
       "    </tr>\n",
       "    <tr>\n",
       "      <th>Customer_rating</th>\n",
       "      <td>0.001960</td>\n",
       "      <td>-0.003095</td>\n",
       "      <td>0.012948</td>\n",
       "      <td>1.000000</td>\n",
       "      <td>0.006045</td>\n",
       "      <td>0.007749</td>\n",
       "      <td>0.009600</td>\n",
       "      <td>0.004550</td>\n",
       "      <td>-0.010628</td>\n",
       "      <td>0.011275</td>\n",
       "    </tr>\n",
       "    <tr>\n",
       "      <th>Cost_of_the_Product</th>\n",
       "      <td>-0.001089</td>\n",
       "      <td>0.016738</td>\n",
       "      <td>0.256041</td>\n",
       "      <td>0.006045</td>\n",
       "      <td>1.000000</td>\n",
       "      <td>0.107256</td>\n",
       "      <td>-0.036888</td>\n",
       "      <td>-0.013639</td>\n",
       "      <td>-0.082708</td>\n",
       "      <td>-0.062683</td>\n",
       "    </tr>\n",
       "    <tr>\n",
       "      <th>Prior_purchases</th>\n",
       "      <td>-0.007717</td>\n",
       "      <td>0.020354</td>\n",
       "      <td>0.141471</td>\n",
       "      <td>0.007749</td>\n",
       "      <td>0.107256</td>\n",
       "      <td>1.000000</td>\n",
       "      <td>0.017363</td>\n",
       "      <td>0.005797</td>\n",
       "      <td>-0.051080</td>\n",
       "      <td>-0.062230</td>\n",
       "    </tr>\n",
       "    <tr>\n",
       "      <th>Product_importance</th>\n",
       "      <td>0.000344</td>\n",
       "      <td>0.014742</td>\n",
       "      <td>-0.056691</td>\n",
       "      <td>0.009600</td>\n",
       "      <td>-0.036888</td>\n",
       "      <td>0.017363</td>\n",
       "      <td>1.000000</td>\n",
       "      <td>-0.013408</td>\n",
       "      <td>0.023606</td>\n",
       "      <td>0.020316</td>\n",
       "    </tr>\n",
       "    <tr>\n",
       "      <th>Gender</th>\n",
       "      <td>-0.001708</td>\n",
       "      <td>0.000511</td>\n",
       "      <td>-0.001320</td>\n",
       "      <td>0.004550</td>\n",
       "      <td>-0.013639</td>\n",
       "      <td>0.005797</td>\n",
       "      <td>-0.013408</td>\n",
       "      <td>1.000000</td>\n",
       "      <td>-0.001395</td>\n",
       "      <td>0.000378</td>\n",
       "    </tr>\n",
       "    <tr>\n",
       "      <th>Discount_offered</th>\n",
       "      <td>-0.001135</td>\n",
       "      <td>0.006579</td>\n",
       "      <td>-0.099030</td>\n",
       "      <td>-0.010628</td>\n",
       "      <td>-0.082708</td>\n",
       "      <td>-0.051080</td>\n",
       "      <td>0.023606</td>\n",
       "      <td>-0.001395</td>\n",
       "      <td>1.000000</td>\n",
       "      <td>0.269127</td>\n",
       "    </tr>\n",
       "    <tr>\n",
       "      <th>Reached.on.Time_Y.N</th>\n",
       "      <td>-0.003872</td>\n",
       "      <td>0.005801</td>\n",
       "      <td>-0.062842</td>\n",
       "      <td>0.011275</td>\n",
       "      <td>-0.062683</td>\n",
       "      <td>-0.062230</td>\n",
       "      <td>0.020316</td>\n",
       "      <td>0.000378</td>\n",
       "      <td>0.269127</td>\n",
       "      <td>1.000000</td>\n",
       "    </tr>\n",
       "  </tbody>\n",
       "</table>\n",
       "</div>"
      ],
      "text/plain": [
       "                     Warehouse_block   Mode_of_Shipment  Customer_care_calls  \\\n",
       "Warehouse_block              1.000000         -0.002938             0.015662   \n",
       "Mode_of_Shipment            -0.002938          1.000000             0.023873   \n",
       "Customer_care_calls          0.015662          0.023873             1.000000   \n",
       "Customer_rating              0.001960         -0.003095             0.012948   \n",
       "Cost_of_the_Product         -0.001089          0.016738             0.256041   \n",
       "Prior_purchases             -0.007717          0.020354             0.141471   \n",
       "Product_importance           0.000344          0.014742            -0.056691   \n",
       "Gender                      -0.001708          0.000511            -0.001320   \n",
       "Discount_offered            -0.001135          0.006579            -0.099030   \n",
       "Reached.on.Time_Y.N         -0.003872          0.005801            -0.062842   \n",
       "\n",
       "                     Customer_rating  Cost_of_the_Product  Prior_purchases  \\\n",
       "Warehouse_block             0.001960            -0.001089        -0.007717   \n",
       "Mode_of_Shipment           -0.003095             0.016738         0.020354   \n",
       "Customer_care_calls         0.012948             0.256041         0.141471   \n",
       "Customer_rating             1.000000             0.006045         0.007749   \n",
       "Cost_of_the_Product         0.006045             1.000000         0.107256   \n",
       "Prior_purchases             0.007749             0.107256         1.000000   \n",
       "Product_importance          0.009600            -0.036888         0.017363   \n",
       "Gender                      0.004550            -0.013639         0.005797   \n",
       "Discount_offered           -0.010628            -0.082708        -0.051080   \n",
       "Reached.on.Time_Y.N         0.011275            -0.062683        -0.062230   \n",
       "\n",
       "                     Product_importance    Gender  Discount_offered  \\\n",
       "Warehouse_block                0.000344 -0.001708         -0.001135   \n",
       "Mode_of_Shipment               0.014742  0.000511          0.006579   \n",
       "Customer_care_calls           -0.056691 -0.001320         -0.099030   \n",
       "Customer_rating                0.009600  0.004550         -0.010628   \n",
       "Cost_of_the_Product           -0.036888 -0.013639         -0.082708   \n",
       "Prior_purchases                0.017363  0.005797         -0.051080   \n",
       "Product_importance             1.000000 -0.013408          0.023606   \n",
       "Gender                        -0.013408  1.000000         -0.001395   \n",
       "Discount_offered               0.023606 -0.001395          1.000000   \n",
       "Reached.on.Time_Y.N            0.020316  0.000378          0.269127   \n",
       "\n",
       "                     Reached.on.Time_Y.N  \n",
       "Warehouse_block                -0.003872  \n",
       "Mode_of_Shipment                0.005801  \n",
       "Customer_care_calls            -0.062842  \n",
       "Customer_rating                 0.011275  \n",
       "Cost_of_the_Product            -0.062683  \n",
       "Prior_purchases                -0.062230  \n",
       "Product_importance              0.020316  \n",
       "Gender                          0.000378  \n",
       "Discount_offered                0.269127  \n",
       "Reached.on.Time_Y.N             1.000000  "
      ]
     },
     "execution_count": 68,
     "metadata": {},
     "output_type": "execute_result"
    }
   ],
   "source": [
    "train.corr()"
   ]
  },
  {
   "cell_type": "markdown",
   "metadata": {},
   "source": [
    "# 분리"
   ]
  },
  {
   "cell_type": "code",
   "execution_count": 69,
   "metadata": {},
   "outputs": [],
   "source": [
    "X = train.iloc[:,:-1]\n",
    "y = train.iloc[:,-1]"
   ]
  },
  {
   "cell_type": "code",
   "execution_count": 70,
   "metadata": {
    "scrolled": false
   },
   "outputs": [
    {
     "name": "stdout",
     "output_type": "stream",
     "text": [
      "(6999, 9)\n",
      "(6999,)\n"
     ]
    }
   ],
   "source": [
    "print(X.shape)\n",
    "print(y.shape)"
   ]
  },
  {
   "cell_type": "code",
   "execution_count": 71,
   "metadata": {
    "scrolled": true
   },
   "outputs": [
    {
     "name": "stdout",
     "output_type": "stream",
     "text": [
      "<class 'pandas.core.frame.DataFrame'>\n",
      "RangeIndex: 6999 entries, 0 to 6998\n",
      "Data columns (total 10 columns):\n",
      " #   Column               Non-Null Count  Dtype  \n",
      "---  ------               --------------  -----  \n",
      " 0   Warehouse_block      6999 non-null   int64  \n",
      " 1   Mode_of_Shipment     6999 non-null   int64  \n",
      " 2   Customer_care_calls  6999 non-null   float64\n",
      " 3   Customer_rating      6999 non-null   int64  \n",
      " 4   Cost_of_the_Product  6999 non-null   int64  \n",
      " 5   Prior_purchases      6999 non-null   float64\n",
      " 6   Product_importance   6999 non-null   int64  \n",
      " 7   Gender               6999 non-null   int64  \n",
      " 8   Discount_offered     6999 non-null   int64  \n",
      " 9   Reached.on.Time_Y.N  6999 non-null   int64  \n",
      "dtypes: float64(2), int64(8)\n",
      "memory usage: 546.9 KB\n"
     ]
    }
   ],
   "source": [
    "train.info()"
   ]
  },
  {
   "cell_type": "code",
   "execution_count": 72,
   "metadata": {},
   "outputs": [
    {
     "name": "stdout",
     "output_type": "stream",
     "text": [
      "<class 'pandas.core.frame.DataFrame'>\n",
      "RangeIndex: 4000 entries, 0 to 3999\n",
      "Data columns (total 9 columns):\n",
      " #   Column               Non-Null Count  Dtype  \n",
      "---  ------               --------------  -----  \n",
      " 0   Warehouse_block      4000 non-null   int64  \n",
      " 1   Mode_of_Shipment     4000 non-null   int64  \n",
      " 2   Customer_care_calls  4000 non-null   float64\n",
      " 3   Customer_rating      4000 non-null   int64  \n",
      " 4   Cost_of_the_Product  4000 non-null   int64  \n",
      " 5   Prior_purchases      4000 non-null   float64\n",
      " 6   Product_importance   4000 non-null   int64  \n",
      " 7   Gender               4000 non-null   int64  \n",
      " 8   Discount_offered     4000 non-null   int64  \n",
      "dtypes: float64(2), int64(7)\n",
      "memory usage: 281.4 KB\n"
     ]
    }
   ],
   "source": [
    "test.info()"
   ]
  },
  {
   "cell_type": "markdown",
   "metadata": {},
   "source": [
    "# one-hot 인코딩"
   ]
  },
  {
   "cell_type": "code",
   "execution_count": 73,
   "metadata": {},
   "outputs": [],
   "source": [
    "onehot_column = ['Warehouse_block ','Mode_of_Shipment','Customer_care_calls','Customer_rating','Cost_of_the_Product','Prior_purchases','Product_importance','Gender','Discount_offered']\n",
    "\n",
    "for col in onehot_column:\n",
    "    dummy = pd.get_dummies(X[col],prefix = col)\n",
    "    dummy2 = pd.get_dummies(test[col],prefix = col)\n",
    "    X = pd.concat([X,dummy], axis = 1)\n",
    "    X.drop(col,axis=1, inplace = True)\n",
    "    test = pd.concat([test,dummy2], axis = 1)\n",
    "    test.drop(col,axis=1, inplace = True)"
   ]
  },
  {
   "cell_type": "markdown",
   "metadata": {},
   "source": [
    "# split"
   ]
  },
  {
   "cell_type": "code",
   "execution_count": 74,
   "metadata": {},
   "outputs": [],
   "source": [
    "from sklearn.model_selection import train_test_split\n",
    "\n",
    "X_train, X_test, y_train, y_test = train_test_split(X,y,test_size = 0.3,random_state = 3)"
   ]
  },
  {
   "cell_type": "markdown",
   "metadata": {},
   "source": [
    "# Decision Tree"
   ]
  },
  {
   "cell_type": "code",
   "execution_count": 75,
   "metadata": {},
   "outputs": [
    {
     "name": "stdout",
     "output_type": "stream",
     "text": [
      "0.6044090630740968\n",
      "0.6080952380952381\n",
      "0.5886594273726252\n"
     ]
    }
   ],
   "source": [
    "# Decision Tree\n",
    "from sklearn.tree import DecisionTreeClassifier\n",
    "tree = DecisionTreeClassifier(max_depth=4)\n",
    "\n",
    "tree.fit(X_train,y_train)\n",
    "tree.score(X_train,y_train)\n",
    "tree.score(X_test,y_test)\n",
    "\n",
    "print(tree.score(X_train,y_train))\n",
    "print(tree.score(X_test,y_test))\n",
    "\n",
    "from sklearn.model_selection import cross_val_score\n",
    "result = cross_val_score(tree, X, y, cv=6)\n",
    "print(result.mean())\n",
    "\n",
    "pred = tree.predict(test)\n",
    "\n",
    "submission = pd.read_csv(\"./smhrd/sampleSubmission.csv\")\n",
    "submission['Reached.on.Time_Y.N'] = pred\n",
    "submission.to_csv(\"01.csv\", index = False)"
   ]
  },
  {
   "cell_type": "markdown",
   "metadata": {},
   "source": [
    "# random forest"
   ]
  },
  {
   "cell_type": "code",
   "execution_count": 79,
   "metadata": {},
   "outputs": [
    {
     "name": "stdout",
     "output_type": "stream",
     "text": [
      "0.6668095442206029\n",
      "0.5897987904543969\n"
     ]
    }
   ],
   "source": [
    "from sklearn.ensemble import RandomForestClassifier\n",
    "forest = RandomForestClassifier(n_estimators=1200, max_features=0.7, max_depth=10,min_samples_leaf=10,max_leaf_nodes=80)\n",
    "\n",
    "forest.fit(X,y)\n",
    "forest.score(X,y)\n",
    "\n",
    "print(forest.score(X,y))\n",
    "\n",
    "result = cross_val_score(forest, X, y, cv=8)\n",
    "print(result.mean())\n",
    "\n",
    "pred = forest.predict(test)\n",
    "\n",
    "submission = pd.read_csv(\"./smhrd/sampleSubmission.csv\")\n",
    "submission['Reached.on.Time_Y.N'] = pred\n",
    "submission.to_csv(\"02.csv\", index = False)"
   ]
  },
  {
   "cell_type": "markdown",
   "metadata": {},
   "source": [
    "# XGB"
   ]
  },
  {
   "cell_type": "code",
   "execution_count": null,
   "metadata": {},
   "outputs": [],
   "source": [
    "from xgboost import XGBClassifier\n",
    "\n",
    "xgb = XGBClassifier(n_estimators =50,max_depth=5,learning_rat=0.1)\n",
    "# 파라미터를 설정해주지 않으면 모델내에 설정된 기본값으로 지정됨\n",
    "\n",
    "xgb.fit(X,y)\n",
    "xgb.score(X,y)\n",
    "\n",
    "print(xgb.score(X,y))\n",
    "\n",
    "result = cross_val_score(xgb, X, y, cv=5)\n",
    "print(result.mean())\n",
    "\n",
    "#pred = xgb.predict(test)\n",
    "\n",
    "#submission = pd.read_csv(\"C:/Users/SM2134/빅데이터_5차_장기/캐글/sampleSubmission.csv\")\n",
    "#submission['Reached.on.Time_Y.N'] = pred\n",
    "#submission.to_csv(\"03.csv\", index = False)"
   ]
  },
  {
   "cell_type": "markdown",
   "metadata": {},
   "source": [
    "# Ada boost"
   ]
  },
  {
   "cell_type": "code",
   "execution_count": null,
   "metadata": {},
   "outputs": [],
   "source": [
    "from sklearn.ensemble import GradientBoostingClassifier\n",
    "gbc = GradientBoostingClassifier(criterion='friedman_mse',init=None,\n",
    "                                learning_rate=0.4, loss='deviance',max_depth=5,\n",
    "                                max_features=None, max_leaf_nodes=None,\n",
    "                                min_impurity_decrease=0.0, min_impurity_split=None,\n",
    "                                min_samples_leaf=1,min_samples_split=2,\n",
    "                                min_weight_fraction_leaf=0.0,n_estimators=100,\n",
    "                                n_iter_no_change=None, presort='auto',\n",
    "                                random_state=100, subsample=1.0, tol=0.0001,\n",
    "                                validation_fraction=0.1,verbose=0,\n",
    "                                warm_start=False)\n",
    "\n",
    "gbc.fit(X,y)\n",
    "gbc.score(X,y)\n",
    "\n",
    "print(gbc.score(X,y))\n",
    "\n",
    "result = cross_val_score(gbc, X, y, cv=5)\n",
    "print(result.mean())\n",
    "\n",
    "#pred = gbc.predict(test)\n",
    "\n",
    "#submission = pd.read_csv(\"C:/Users/SM2134/빅데이터_5차_장기/캐글/sampleSubmission.csv\")\n",
    "#submission['Reached.on.Time_Y.N'] = pred\n",
    "#submission.to_csv(\"04.csv\", index = False)"
   ]
  },
  {
   "cell_type": "markdown",
   "metadata": {},
   "source": [
    "# lgbm"
   ]
  },
  {
   "cell_type": "code",
   "execution_count": null,
   "metadata": {},
   "outputs": [],
   "source": [
    "from lightgbm import LGBMClassifier\n",
    "\n",
    "lgbm = LGBMClassifier(max_depth=5,n_estimators=50,learning_rate=0.1)\n",
    "\n",
    "lgbm.fit(X, y)\n",
    "lgbm.score(X,y)\n",
    "print(lgbm.score(X,y))\n",
    "\n",
    "result = cross_val_score(lgbm, X, y, cv=5)\n",
    "print(result.mean())\n",
    "\n",
    "#pred = lgbm.predict(test)\n",
    "\n",
    "#submission = pd.read_csv(\"C:/Users/SM2134/빅데이터_5차_장기/캐글/sampleSubmission.csv\")\n",
    "#submission['Reached.on.Time_Y.N'] = pred\n",
    "#submission.to_csv(\"05.csv\", index = False)"
   ]
  },
  {
   "cell_type": "markdown",
   "metadata": {},
   "source": [
    "# KNN"
   ]
  },
  {
   "cell_type": "code",
   "execution_count": null,
   "metadata": {},
   "outputs": [],
   "source": [
    "from sklearn.neighbors import KNeighborsClassifier\n",
    "\n",
    "train_acc =[]\n",
    "neighbor = range(1,15,2)\n",
    "\n",
    "for n in neighbor:\n",
    "    knn_model = KNeighborsClassifier(n_neighbors=n)\n",
    "    knn_model.fit(X,y)\n",
    "    \n",
    "    train_acc.append(knn_model.score(X,y))\n",
    "    \n",
    "plt.plot(neighbor, train_acc, label=\"train\")\n",
    "plt.legend(loc=\"best\")\n",
    "plt.ylabel(\"score\")\n",
    "plt.xlabel(\"neighbors\")\n",
    "plt.show()"
   ]
  },
  {
   "cell_type": "code",
   "execution_count": null,
   "metadata": {},
   "outputs": [],
   "source": []
  }
 ],
 "metadata": {
  "kernelspec": {
   "display_name": "Python 3",
   "language": "python",
   "name": "python3"
  },
  "language_info": {
   "codemirror_mode": {
    "name": "ipython",
    "version": 3
   },
   "file_extension": ".py",
   "mimetype": "text/x-python",
   "name": "python",
   "nbconvert_exporter": "python",
   "pygments_lexer": "ipython3",
   "version": "3.8.5"
  }
 },
 "nbformat": 4,
 "nbformat_minor": 4
}
