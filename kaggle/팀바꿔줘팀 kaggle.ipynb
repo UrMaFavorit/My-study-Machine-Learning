{
 "cells": [
  {
   "cell_type": "code",
   "execution_count": 111,
   "metadata": {},
   "outputs": [],
   "source": [
    "import pandas as pd\n",
    "\n",
    "#데이터 전처리를 위한 임폴트\n",
    "import numpy as np\n",
    "import matplotlib.pylab as plt\n",
    "\n",
    "# 시각화 라이브러리\n",
    "import seaborn as sns"
   ]
  },
  {
   "cell_type": "markdown",
   "metadata": {},
   "source": [
    "# 1.문제정의\n",
    "- 어떤상황에서 물품이 제시간에 도착할수 있게 할지\n",
    "\n",
    "- 0이 제시간에 도착, 1이 못도착"
   ]
  },
  {
   "cell_type": "markdown",
   "metadata": {},
   "source": [
    "# 2. 데이터 수집"
   ]
  },
  {
   "cell_type": "code",
   "execution_count": 112,
   "metadata": {},
   "outputs": [
    {
     "data": {
      "text/html": [
       "<div>\n",
       "<style scoped>\n",
       "    .dataframe tbody tr th:only-of-type {\n",
       "        vertical-align: middle;\n",
       "    }\n",
       "\n",
       "    .dataframe tbody tr th {\n",
       "        vertical-align: top;\n",
       "    }\n",
       "\n",
       "    .dataframe thead th {\n",
       "        text-align: right;\n",
       "    }\n",
       "</style>\n",
       "<table border=\"1\" class=\"dataframe\">\n",
       "  <thead>\n",
       "    <tr style=\"text-align: right;\">\n",
       "      <th></th>\n",
       "      <th>ID</th>\n",
       "      <th>Warehouse_block</th>\n",
       "      <th>Mode_of_Shipment</th>\n",
       "      <th>Customer_care_calls</th>\n",
       "      <th>Customer_rating</th>\n",
       "      <th>Cost_of_the_Product</th>\n",
       "      <th>Prior_purchases</th>\n",
       "      <th>Product_importance</th>\n",
       "      <th>Gender</th>\n",
       "      <th>Discount_offered</th>\n",
       "      <th>Weight_in_gms</th>\n",
       "      <th>Reached.on.Time_Y.N</th>\n",
       "    </tr>\n",
       "  </thead>\n",
       "  <tbody>\n",
       "    <tr>\n",
       "      <th>0</th>\n",
       "      <td>1</td>\n",
       "      <td>C</td>\n",
       "      <td>Ship</td>\n",
       "      <td>2.0</td>\n",
       "      <td>2</td>\n",
       "      <td>135</td>\n",
       "      <td>3.0</td>\n",
       "      <td>low</td>\n",
       "      <td>M</td>\n",
       "      <td>NaN</td>\n",
       "      <td>1339</td>\n",
       "      <td>1</td>\n",
       "    </tr>\n",
       "    <tr>\n",
       "      <th>1</th>\n",
       "      <td>2</td>\n",
       "      <td>F</td>\n",
       "      <td>Flight</td>\n",
       "      <td>5.0</td>\n",
       "      <td>3</td>\n",
       "      <td>225</td>\n",
       "      <td>5.0</td>\n",
       "      <td>low</td>\n",
       "      <td>F</td>\n",
       "      <td>6.0</td>\n",
       "      <td>1082</td>\n",
       "      <td>0</td>\n",
       "    </tr>\n",
       "    <tr>\n",
       "      <th>2</th>\n",
       "      <td>3</td>\n",
       "      <td>F</td>\n",
       "      <td>Ship</td>\n",
       "      <td>3.0</td>\n",
       "      <td>1</td>\n",
       "      <td>229</td>\n",
       "      <td>3.0</td>\n",
       "      <td>low</td>\n",
       "      <td>M</td>\n",
       "      <td>NaN</td>\n",
       "      <td>4971</td>\n",
       "      <td>1</td>\n",
       "    </tr>\n",
       "    <tr>\n",
       "      <th>3</th>\n",
       "      <td>4</td>\n",
       "      <td>F</td>\n",
       "      <td>Ship</td>\n",
       "      <td>3.0</td>\n",
       "      <td>2</td>\n",
       "      <td>228</td>\n",
       "      <td>NaN</td>\n",
       "      <td>medium</td>\n",
       "      <td>M</td>\n",
       "      <td>2.0</td>\n",
       "      <td>5640</td>\n",
       "      <td>0</td>\n",
       "    </tr>\n",
       "    <tr>\n",
       "      <th>4</th>\n",
       "      <td>5</td>\n",
       "      <td>D</td>\n",
       "      <td>Flight</td>\n",
       "      <td>NaN</td>\n",
       "      <td>1</td>\n",
       "      <td>195</td>\n",
       "      <td>6.0</td>\n",
       "      <td>high</td>\n",
       "      <td>F</td>\n",
       "      <td>NaN</td>\n",
       "      <td>4944</td>\n",
       "      <td>1</td>\n",
       "    </tr>\n",
       "    <tr>\n",
       "      <th>...</th>\n",
       "      <td>...</td>\n",
       "      <td>...</td>\n",
       "      <td>...</td>\n",
       "      <td>...</td>\n",
       "      <td>...</td>\n",
       "      <td>...</td>\n",
       "      <td>...</td>\n",
       "      <td>...</td>\n",
       "      <td>...</td>\n",
       "      <td>...</td>\n",
       "      <td>...</td>\n",
       "      <td>...</td>\n",
       "    </tr>\n",
       "    <tr>\n",
       "      <th>95</th>\n",
       "      <td>96</td>\n",
       "      <td>B</td>\n",
       "      <td>Ship</td>\n",
       "      <td>2.0</td>\n",
       "      <td>3</td>\n",
       "      <td>226</td>\n",
       "      <td>3.0</td>\n",
       "      <td>medium</td>\n",
       "      <td>M</td>\n",
       "      <td>8.0</td>\n",
       "      <td>5106</td>\n",
       "      <td>1</td>\n",
       "    </tr>\n",
       "    <tr>\n",
       "      <th>96</th>\n",
       "      <td>97</td>\n",
       "      <td>F</td>\n",
       "      <td>Road</td>\n",
       "      <td>6.0</td>\n",
       "      <td>1</td>\n",
       "      <td>253</td>\n",
       "      <td>NaN</td>\n",
       "      <td>low</td>\n",
       "      <td>M</td>\n",
       "      <td>NaN</td>\n",
       "      <td>1962</td>\n",
       "      <td>0</td>\n",
       "    </tr>\n",
       "    <tr>\n",
       "      <th>97</th>\n",
       "      <td>98</td>\n",
       "      <td>B</td>\n",
       "      <td>?</td>\n",
       "      <td>NaN</td>\n",
       "      <td>3</td>\n",
       "      <td>151</td>\n",
       "      <td>3.0</td>\n",
       "      <td>medium</td>\n",
       "      <td>F</td>\n",
       "      <td>NaN</td>\n",
       "      <td>4025</td>\n",
       "      <td>1</td>\n",
       "    </tr>\n",
       "    <tr>\n",
       "      <th>98</th>\n",
       "      <td>99</td>\n",
       "      <td>D</td>\n",
       "      <td>Ship</td>\n",
       "      <td>7.0</td>\n",
       "      <td>4</td>\n",
       "      <td>309</td>\n",
       "      <td>4.0</td>\n",
       "      <td>low</td>\n",
       "      <td>M</td>\n",
       "      <td>NaN</td>\n",
       "      <td>1880</td>\n",
       "      <td>0</td>\n",
       "    </tr>\n",
       "    <tr>\n",
       "      <th>99</th>\n",
       "      <td>100</td>\n",
       "      <td>F</td>\n",
       "      <td>Ship</td>\n",
       "      <td>4.0</td>\n",
       "      <td>4</td>\n",
       "      <td>255</td>\n",
       "      <td>2.0</td>\n",
       "      <td>medium</td>\n",
       "      <td>M</td>\n",
       "      <td>29.0</td>\n",
       "      <td>2267</td>\n",
       "      <td>1</td>\n",
       "    </tr>\n",
       "  </tbody>\n",
       "</table>\n",
       "<p>100 rows × 12 columns</p>\n",
       "</div>"
      ],
      "text/plain": [
       "     ID Warehouse_block  Mode_of_Shipment  Customer_care_calls  \\\n",
       "0     1                C             Ship                  2.0   \n",
       "1     2                F           Flight                  5.0   \n",
       "2     3                F             Ship                  3.0   \n",
       "3     4                F             Ship                  3.0   \n",
       "4     5                D           Flight                  NaN   \n",
       "..  ...              ...              ...                  ...   \n",
       "95   96                B             Ship                  2.0   \n",
       "96   97                F             Road                  6.0   \n",
       "97   98                B                ?                  NaN   \n",
       "98   99                D             Ship                  7.0   \n",
       "99  100                F             Ship                  4.0   \n",
       "\n",
       "    Customer_rating  Cost_of_the_Product  Prior_purchases Product_importance  \\\n",
       "0                 2                  135              3.0                low   \n",
       "1                 3                  225              5.0                low   \n",
       "2                 1                  229              3.0                low   \n",
       "3                 2                  228              NaN             medium   \n",
       "4                 1                  195              6.0               high   \n",
       "..              ...                  ...              ...                ...   \n",
       "95                3                  226              3.0             medium   \n",
       "96                1                  253              NaN                low   \n",
       "97                3                  151              3.0             medium   \n",
       "98                4                  309              4.0                low   \n",
       "99                4                  255              2.0             medium   \n",
       "\n",
       "   Gender  Discount_offered Weight_in_gms  Reached.on.Time_Y.N  \n",
       "0       M               NaN          1339                    1  \n",
       "1       F               6.0          1082                    0  \n",
       "2       M               NaN          4971                    1  \n",
       "3       M               2.0          5640                    0  \n",
       "4       F               NaN          4944                    1  \n",
       "..    ...               ...           ...                  ...  \n",
       "95      M               8.0          5106                    1  \n",
       "96      M               NaN          1962                    0  \n",
       "97      F               NaN          4025                    1  \n",
       "98      M               NaN          1880                    0  \n",
       "99      M              29.0          2267                    1  \n",
       "\n",
       "[100 rows x 12 columns]"
      ]
     },
     "execution_count": 112,
     "metadata": {},
     "output_type": "execute_result"
    }
   ],
   "source": [
    "train=pd.read_csv('train.csv')\n",
    "test=pd.read_csv('test.csv')\n",
    "\n",
    "train.head(100)"
   ]
  },
  {
   "cell_type": "markdown",
   "metadata": {},
   "source": [
    "# 3.데이터 전처리"
   ]
  },
  {
   "cell_type": "code",
   "execution_count": 113,
   "metadata": {},
   "outputs": [],
   "source": [
    "# id 를 인덱스로 변경하기\n",
    "train=train.set_index('ID')\n",
    "test=test.set_index('ID')"
   ]
  },
  {
   "cell_type": "code",
   "execution_count": 114,
   "metadata": {
    "scrolled": true
   },
   "outputs": [
    {
     "name": "stdout",
     "output_type": "stream",
     "text": [
      "<class 'pandas.core.frame.DataFrame'>\n",
      "Int64Index: 6999 entries, 1 to 6999\n",
      "Data columns (total 11 columns):\n",
      " #   Column               Non-Null Count  Dtype  \n",
      "---  ------               --------------  -----  \n",
      " 0   Warehouse_block      6999 non-null   object \n",
      " 1   Mode_of_Shipment     6999 non-null   object \n",
      " 2   Customer_care_calls  5423 non-null   float64\n",
      " 3   Customer_rating      6999 non-null   int64  \n",
      " 4   Cost_of_the_Product  6999 non-null   int64  \n",
      " 5   Prior_purchases      6049 non-null   float64\n",
      " 6   Product_importance   6999 non-null   object \n",
      " 7   Gender               6999 non-null   object \n",
      " 8   Discount_offered     3468 non-null   float64\n",
      " 9   Weight_in_gms        6999 non-null   object \n",
      " 10  Reached.on.Time_Y.N  6999 non-null   int64  \n",
      "dtypes: float64(3), int64(3), object(5)\n",
      "memory usage: 656.2+ KB\n"
     ]
    }
   ],
   "source": [
    "# train 결측치 확인\n",
    "train.info()\n",
    " #Customer_care_calls,Prior_purchases ,Discount_offered"
   ]
  },
  {
   "cell_type": "code",
   "execution_count": 115,
   "metadata": {},
   "outputs": [
    {
     "data": {
      "text/html": [
       "<div>\n",
       "<style scoped>\n",
       "    .dataframe tbody tr th:only-of-type {\n",
       "        vertical-align: middle;\n",
       "    }\n",
       "\n",
       "    .dataframe tbody tr th {\n",
       "        vertical-align: top;\n",
       "    }\n",
       "\n",
       "    .dataframe thead th {\n",
       "        text-align: right;\n",
       "    }\n",
       "</style>\n",
       "<table border=\"1\" class=\"dataframe\">\n",
       "  <thead>\n",
       "    <tr style=\"text-align: right;\">\n",
       "      <th></th>\n",
       "      <th>Customer_care_calls</th>\n",
       "      <th>Customer_rating</th>\n",
       "      <th>Cost_of_the_Product</th>\n",
       "      <th>Prior_purchases</th>\n",
       "      <th>Discount_offered</th>\n",
       "      <th>Reached.on.Time_Y.N</th>\n",
       "    </tr>\n",
       "  </thead>\n",
       "  <tbody>\n",
       "    <tr>\n",
       "      <th>count</th>\n",
       "      <td>5423.000000</td>\n",
       "      <td>6999.000000</td>\n",
       "      <td>6999.000000</td>\n",
       "      <td>6049.000000</td>\n",
       "      <td>3468.000000</td>\n",
       "      <td>6999.000000</td>\n",
       "    </tr>\n",
       "    <tr>\n",
       "      <th>mean</th>\n",
       "      <td>4.054582</td>\n",
       "      <td>3.023718</td>\n",
       "      <td>214.249178</td>\n",
       "      <td>3.576294</td>\n",
       "      <td>13.269031</td>\n",
       "      <td>0.594656</td>\n",
       "    </tr>\n",
       "    <tr>\n",
       "      <th>std</th>\n",
       "      <td>1.131019</td>\n",
       "      <td>2.149861</td>\n",
       "      <td>208.294273</td>\n",
       "      <td>1.530933</td>\n",
       "      <td>16.070188</td>\n",
       "      <td>0.490993</td>\n",
       "    </tr>\n",
       "    <tr>\n",
       "      <th>min</th>\n",
       "      <td>2.000000</td>\n",
       "      <td>1.000000</td>\n",
       "      <td>96.000000</td>\n",
       "      <td>2.000000</td>\n",
       "      <td>1.000000</td>\n",
       "      <td>0.000000</td>\n",
       "    </tr>\n",
       "    <tr>\n",
       "      <th>25%</th>\n",
       "      <td>3.000000</td>\n",
       "      <td>2.000000</td>\n",
       "      <td>169.000000</td>\n",
       "      <td>3.000000</td>\n",
       "      <td>4.000000</td>\n",
       "      <td>0.000000</td>\n",
       "    </tr>\n",
       "    <tr>\n",
       "      <th>50%</th>\n",
       "      <td>4.000000</td>\n",
       "      <td>3.000000</td>\n",
       "      <td>214.000000</td>\n",
       "      <td>3.000000</td>\n",
       "      <td>7.000000</td>\n",
       "      <td>1.000000</td>\n",
       "    </tr>\n",
       "    <tr>\n",
       "      <th>75%</th>\n",
       "      <td>5.000000</td>\n",
       "      <td>4.000000</td>\n",
       "      <td>251.000000</td>\n",
       "      <td>4.000000</td>\n",
       "      <td>10.000000</td>\n",
       "      <td>1.000000</td>\n",
       "    </tr>\n",
       "    <tr>\n",
       "      <th>max</th>\n",
       "      <td>7.000000</td>\n",
       "      <td>99.000000</td>\n",
       "      <td>9999.000000</td>\n",
       "      <td>10.000000</td>\n",
       "      <td>65.000000</td>\n",
       "      <td>1.000000</td>\n",
       "    </tr>\n",
       "  </tbody>\n",
       "</table>\n",
       "</div>"
      ],
      "text/plain": [
       "       Customer_care_calls  Customer_rating  Cost_of_the_Product  \\\n",
       "count          5423.000000      6999.000000          6999.000000   \n",
       "mean              4.054582         3.023718           214.249178   \n",
       "std               1.131019         2.149861           208.294273   \n",
       "min               2.000000         1.000000            96.000000   \n",
       "25%               3.000000         2.000000           169.000000   \n",
       "50%               4.000000         3.000000           214.000000   \n",
       "75%               5.000000         4.000000           251.000000   \n",
       "max               7.000000        99.000000          9999.000000   \n",
       "\n",
       "       Prior_purchases  Discount_offered  Reached.on.Time_Y.N  \n",
       "count      6049.000000       3468.000000          6999.000000  \n",
       "mean          3.576294         13.269031             0.594656  \n",
       "std           1.530933         16.070188             0.490993  \n",
       "min           2.000000          1.000000             0.000000  \n",
       "25%           3.000000          4.000000             0.000000  \n",
       "50%           3.000000          7.000000             1.000000  \n",
       "75%           4.000000         10.000000             1.000000  \n",
       "max          10.000000         65.000000             1.000000  "
      ]
     },
     "execution_count": 115,
     "metadata": {},
     "output_type": "execute_result"
    }
   ],
   "source": [
    "train.describe()"
   ]
  },
  {
   "cell_type": "code",
   "execution_count": 116,
   "metadata": {},
   "outputs": [
    {
     "name": "stdout",
     "output_type": "stream",
     "text": [
      "<class 'pandas.core.frame.DataFrame'>\n",
      "Int64Index: 4000 entries, 7000 to 10999\n",
      "Data columns (total 10 columns):\n",
      " #   Column               Non-Null Count  Dtype  \n",
      "---  ------               --------------  -----  \n",
      " 0   Warehouse_block      4000 non-null   object \n",
      " 1   Mode_of_Shipment     4000 non-null   object \n",
      " 2   Customer_care_calls  3144 non-null   float64\n",
      " 3   Customer_rating      4000 non-null   int64  \n",
      " 4   Cost_of_the_Product  4000 non-null   int64  \n",
      " 5   Prior_purchases      3633 non-null   float64\n",
      " 6   Product_importance   4000 non-null   object \n",
      " 7   Gender               4000 non-null   object \n",
      " 8   Discount_offered     2085 non-null   float64\n",
      " 9   Weight_in_gms        4000 non-null   object \n",
      "dtypes: float64(3), int64(2), object(5)\n",
      "memory usage: 343.8+ KB\n"
     ]
    }
   ],
   "source": [
    "# test 결측치 확인\n",
    "test.info()\n",
    " #Customer_care_calls,Prior_purchases ,Discount_offered "
   ]
  },
  {
   "cell_type": "code",
   "execution_count": 117,
   "metadata": {},
   "outputs": [
    {
     "data": {
      "text/html": [
       "<div>\n",
       "<style scoped>\n",
       "    .dataframe tbody tr th:only-of-type {\n",
       "        vertical-align: middle;\n",
       "    }\n",
       "\n",
       "    .dataframe tbody tr th {\n",
       "        vertical-align: top;\n",
       "    }\n",
       "\n",
       "    .dataframe thead th {\n",
       "        text-align: right;\n",
       "    }\n",
       "</style>\n",
       "<table border=\"1\" class=\"dataframe\">\n",
       "  <thead>\n",
       "    <tr style=\"text-align: right;\">\n",
       "      <th></th>\n",
       "      <th>Customer_care_calls</th>\n",
       "      <th>Customer_rating</th>\n",
       "      <th>Cost_of_the_Product</th>\n",
       "      <th>Prior_purchases</th>\n",
       "      <th>Discount_offered</th>\n",
       "    </tr>\n",
       "  </thead>\n",
       "  <tbody>\n",
       "    <tr>\n",
       "      <th>count</th>\n",
       "      <td>3144.000000</td>\n",
       "      <td>4000.000000</td>\n",
       "      <td>4000.00000</td>\n",
       "      <td>3633.000000</td>\n",
       "      <td>2085.000000</td>\n",
       "    </tr>\n",
       "    <tr>\n",
       "      <th>mean</th>\n",
       "      <td>4.055025</td>\n",
       "      <td>3.029250</td>\n",
       "      <td>212.86650</td>\n",
       "      <td>3.567300</td>\n",
       "      <td>13.282014</td>\n",
       "    </tr>\n",
       "    <tr>\n",
       "      <th>std</th>\n",
       "      <td>1.161132</td>\n",
       "      <td>2.573432</td>\n",
       "      <td>161.97119</td>\n",
       "      <td>1.522934</td>\n",
       "      <td>15.835045</td>\n",
       "    </tr>\n",
       "    <tr>\n",
       "      <th>min</th>\n",
       "      <td>2.000000</td>\n",
       "      <td>1.000000</td>\n",
       "      <td>96.00000</td>\n",
       "      <td>2.000000</td>\n",
       "      <td>1.000000</td>\n",
       "    </tr>\n",
       "    <tr>\n",
       "      <th>25%</th>\n",
       "      <td>3.000000</td>\n",
       "      <td>2.000000</td>\n",
       "      <td>170.00000</td>\n",
       "      <td>3.000000</td>\n",
       "      <td>4.000000</td>\n",
       "    </tr>\n",
       "    <tr>\n",
       "      <th>50%</th>\n",
       "      <td>4.000000</td>\n",
       "      <td>3.000000</td>\n",
       "      <td>214.50000</td>\n",
       "      <td>3.000000</td>\n",
       "      <td>7.000000</td>\n",
       "    </tr>\n",
       "    <tr>\n",
       "      <th>75%</th>\n",
       "      <td>5.000000</td>\n",
       "      <td>4.000000</td>\n",
       "      <td>251.00000</td>\n",
       "      <td>4.000000</td>\n",
       "      <td>10.000000</td>\n",
       "    </tr>\n",
       "    <tr>\n",
       "      <th>max</th>\n",
       "      <td>7.000000</td>\n",
       "      <td>99.000000</td>\n",
       "      <td>9999.00000</td>\n",
       "      <td>10.000000</td>\n",
       "      <td>65.000000</td>\n",
       "    </tr>\n",
       "  </tbody>\n",
       "</table>\n",
       "</div>"
      ],
      "text/plain": [
       "       Customer_care_calls  Customer_rating  Cost_of_the_Product  \\\n",
       "count          3144.000000      4000.000000           4000.00000   \n",
       "mean              4.055025         3.029250            212.86650   \n",
       "std               1.161132         2.573432            161.97119   \n",
       "min               2.000000         1.000000             96.00000   \n",
       "25%               3.000000         2.000000            170.00000   \n",
       "50%               4.000000         3.000000            214.50000   \n",
       "75%               5.000000         4.000000            251.00000   \n",
       "max               7.000000        99.000000           9999.00000   \n",
       "\n",
       "       Prior_purchases  Discount_offered  \n",
       "count      3633.000000       2085.000000  \n",
       "mean          3.567300         13.282014  \n",
       "std           1.522934         15.835045  \n",
       "min           2.000000          1.000000  \n",
       "25%           3.000000          4.000000  \n",
       "50%           3.000000          7.000000  \n",
       "75%           4.000000         10.000000  \n",
       "max          10.000000         65.000000  "
      ]
     },
     "execution_count": 117,
     "metadata": {},
     "output_type": "execute_result"
    }
   ],
   "source": [
    "test.describe()"
   ]
  },
  {
   "cell_type": "code",
   "execution_count": 118,
   "metadata": {},
   "outputs": [
    {
     "data": {
      "text/html": [
       "<div>\n",
       "<style scoped>\n",
       "    .dataframe tbody tr th:only-of-type {\n",
       "        vertical-align: middle;\n",
       "    }\n",
       "\n",
       "    .dataframe tbody tr th {\n",
       "        vertical-align: top;\n",
       "    }\n",
       "\n",
       "    .dataframe thead th {\n",
       "        text-align: right;\n",
       "    }\n",
       "</style>\n",
       "<table border=\"1\" class=\"dataframe\">\n",
       "  <thead>\n",
       "    <tr style=\"text-align: right;\">\n",
       "      <th></th>\n",
       "      <th>Customer_care_calls</th>\n",
       "      <th>Customer_rating</th>\n",
       "      <th>Cost_of_the_Product</th>\n",
       "      <th>Prior_purchases</th>\n",
       "      <th>Discount_offered</th>\n",
       "      <th>Reached.on.Time_Y.N</th>\n",
       "    </tr>\n",
       "  </thead>\n",
       "  <tbody>\n",
       "    <tr>\n",
       "      <th>Customer_care_calls</th>\n",
       "      <td>1.000000</td>\n",
       "      <td>0.013420</td>\n",
       "      <td>0.047041</td>\n",
       "      <td>0.173709</td>\n",
       "      <td>-0.158465</td>\n",
       "      <td>-0.070266</td>\n",
       "    </tr>\n",
       "    <tr>\n",
       "      <th>Customer_rating</th>\n",
       "      <td>0.013420</td>\n",
       "      <td>1.000000</td>\n",
       "      <td>-0.001961</td>\n",
       "      <td>0.008217</td>\n",
       "      <td>-0.016456</td>\n",
       "      <td>0.011275</td>\n",
       "    </tr>\n",
       "    <tr>\n",
       "      <th>Cost_of_the_Product</th>\n",
       "      <td>0.047041</td>\n",
       "      <td>-0.001961</td>\n",
       "      <td>1.000000</td>\n",
       "      <td>0.028947</td>\n",
       "      <td>-0.139349</td>\n",
       "      <td>-0.012811</td>\n",
       "    </tr>\n",
       "    <tr>\n",
       "      <th>Prior_purchases</th>\n",
       "      <td>0.173709</td>\n",
       "      <td>0.008217</td>\n",
       "      <td>0.028947</td>\n",
       "      <td>1.000000</td>\n",
       "      <td>-0.081868</td>\n",
       "      <td>-0.065160</td>\n",
       "    </tr>\n",
       "    <tr>\n",
       "      <th>Discount_offered</th>\n",
       "      <td>-0.158465</td>\n",
       "      <td>-0.016456</td>\n",
       "      <td>-0.139349</td>\n",
       "      <td>-0.081868</td>\n",
       "      <td>1.000000</td>\n",
       "      <td>0.397393</td>\n",
       "    </tr>\n",
       "    <tr>\n",
       "      <th>Reached.on.Time_Y.N</th>\n",
       "      <td>-0.070266</td>\n",
       "      <td>0.011275</td>\n",
       "      <td>-0.012811</td>\n",
       "      <td>-0.065160</td>\n",
       "      <td>0.397393</td>\n",
       "      <td>1.000000</td>\n",
       "    </tr>\n",
       "  </tbody>\n",
       "</table>\n",
       "</div>"
      ],
      "text/plain": [
       "                     Customer_care_calls  Customer_rating  \\\n",
       "Customer_care_calls             1.000000         0.013420   \n",
       "Customer_rating                 0.013420         1.000000   \n",
       "Cost_of_the_Product             0.047041        -0.001961   \n",
       "Prior_purchases                 0.173709         0.008217   \n",
       "Discount_offered               -0.158465        -0.016456   \n",
       "Reached.on.Time_Y.N            -0.070266         0.011275   \n",
       "\n",
       "                     Cost_of_the_Product  Prior_purchases  Discount_offered  \\\n",
       "Customer_care_calls             0.047041         0.173709         -0.158465   \n",
       "Customer_rating                -0.001961         0.008217         -0.016456   \n",
       "Cost_of_the_Product             1.000000         0.028947         -0.139349   \n",
       "Prior_purchases                 0.028947         1.000000         -0.081868   \n",
       "Discount_offered               -0.139349        -0.081868          1.000000   \n",
       "Reached.on.Time_Y.N            -0.012811        -0.065160          0.397393   \n",
       "\n",
       "                     Reached.on.Time_Y.N  \n",
       "Customer_care_calls            -0.070266  \n",
       "Customer_rating                 0.011275  \n",
       "Cost_of_the_Product            -0.012811  \n",
       "Prior_purchases                -0.065160  \n",
       "Discount_offered                0.397393  \n",
       "Reached.on.Time_Y.N             1.000000  "
      ]
     },
     "execution_count": 118,
     "metadata": {},
     "output_type": "execute_result"
    }
   ],
   "source": [
    "# train, test 의 Customer_care_calls 결측치 채우기\n",
    "train.corr()"
   ]
  },
  {
   "cell_type": "code",
   "execution_count": 119,
   "metadata": {
    "scrolled": true
   },
   "outputs": [
    {
     "data": {
      "text/plain": [
       "4.0    1756\n",
       "3.0    1620\n",
       "0      1576\n",
       "5.0    1147\n",
       "6.0     496\n",
       "2.0     287\n",
       "7.0     117\n",
       "Name: Customer_care_calls, dtype: int64"
      ]
     },
     "execution_count": 119,
     "metadata": {},
     "output_type": "execute_result"
    }
   ],
   "source": [
    "train['Customer_care_calls'].value_counts()\n",
    "train['Customer_care_calls']=train['Customer_care_calls'].fillna('0')\n",
    "train['Customer_care_calls'].value_counts()"
   ]
  },
  {
   "cell_type": "code",
   "execution_count": 120,
   "metadata": {},
   "outputs": [
    {
     "data": {
      "text/plain": [
       "4.0    990\n",
       "3.0    901\n",
       "0      856\n",
       "5.0    667\n",
       "6.0    311\n",
       "2.0    208\n",
       "7.0     67\n",
       "Name: Customer_care_calls, dtype: int64"
      ]
     },
     "execution_count": 120,
     "metadata": {},
     "output_type": "execute_result"
    }
   ],
   "source": [
    "test['Customer_care_calls'].value_counts()\n",
    "test['Customer_care_calls']=test['Customer_care_calls'].fillna('0')\n",
    "test['Customer_care_calls'].value_counts()"
   ]
  },
  {
   "cell_type": "code",
   "execution_count": 121,
   "metadata": {},
   "outputs": [
    {
     "data": {
      "text/plain": [
       "3.0     2176\n",
       "2.0     1423\n",
       "4.0     1162\n",
       "5.0      735\n",
       "6.0      310\n",
       "10.0     101\n",
       "8.0       72\n",
       "7.0       70\n",
       "Name: Prior_purchases, dtype: int64"
      ]
     },
     "execution_count": 121,
     "metadata": {},
     "output_type": "execute_result"
    }
   ],
   "source": [
    "# Prior_purchases 결측치 채우기\n",
    "train['Prior_purchases'].value_counts()"
   ]
  },
  {
   "cell_type": "code",
   "execution_count": 122,
   "metadata": {},
   "outputs": [
    {
     "data": {
      "text/plain": [
       "3.0         2176\n",
       "2.0         1423\n",
       "4.0         1162\n",
       "3.567300     950\n",
       "5.0          735\n",
       "6.0          310\n",
       "10.0         101\n",
       "8.0           72\n",
       "7.0           70\n",
       "Name: Prior_purchases, dtype: int64"
      ]
     },
     "execution_count": 122,
     "metadata": {},
     "output_type": "execute_result"
    }
   ],
   "source": [
    "train['Prior_purchases']=train['Prior_purchases'].fillna('3.567300')\n",
    "train['Prior_purchases'].value_counts()"
   ]
  },
  {
   "cell_type": "code",
   "execution_count": 123,
   "metadata": {},
   "outputs": [
    {
     "data": {
      "text/plain": [
       "3.0         1293\n",
       "2.0          866\n",
       "4.0          723\n",
       "5.0          414\n",
       "3.567300     367\n",
       "6.0          184\n",
       "10.0          56\n",
       "7.0           53\n",
       "8.0           44\n",
       "Name: Prior_purchases, dtype: int64"
      ]
     },
     "execution_count": 123,
     "metadata": {},
     "output_type": "execute_result"
    }
   ],
   "source": [
    "test['Prior_purchases']=test['Prior_purchases'].fillna('3.567300')\n",
    "test['Prior_purchases'].value_counts()"
   ]
  },
  {
   "cell_type": "code",
   "execution_count": 124,
   "metadata": {},
   "outputs": [
    {
     "data": {
      "text/plain": [
       "array([nan,  6.,  2.,  9.,  3., 34.,  7.,  1., 53.,  8., 63.,  4., 43.,\n",
       "       60., 51.,  5., 10., 55., 17., 62., 15., 23., 38., 32., 39., 29.,\n",
       "       45., 14., 52., 41., 58., 11., 50., 35., 28., 31., 24., 64., 61.,\n",
       "       48., 65., 40., 18., 22., 56., 49., 21., 27., 20., 13., 30., 26.,\n",
       "       54., 16., 57., 47., 42., 36., 37., 46., 19., 12., 25., 44., 33.,\n",
       "       59.])"
      ]
     },
     "execution_count": 124,
     "metadata": {},
     "output_type": "execute_result"
    }
   ],
   "source": [
    "train['Discount_offered'].unique()"
   ]
  },
  {
   "cell_type": "code",
   "execution_count": 125,
   "metadata": {},
   "outputs": [],
   "source": [
    "train['Discount_offered']=train['Discount_offered'].fillna('0')\n",
    "test['Discount_offered']=test['Discount_offered'].fillna('0')"
   ]
  },
  {
   "cell_type": "code",
   "execution_count": 126,
   "metadata": {},
   "outputs": [
    {
     "data": {
      "text/plain": [
       "<AxesSubplot:xlabel='Product_importance', ylabel='count'>"
      ]
     },
     "execution_count": 126,
     "metadata": {},
     "output_type": "execute_result"
    },
    {
     "data": {
      "image/png": "[encoded data removed]",
      "text/plain": [
       "<Figure size 432x288 with 1 Axes>"
      ]
     },
     "metadata": {
      "needs_background": "light"
     },
     "output_type": "display_data"
    }
   ],
   "source": [
    "sns.countplot(data =train, # 사용할 데이터\n",
    "              x='Product_importance', # X측으로 사용할 컬럼\n",
    "             hue='Reached.on.Time_Y.N'# count에 대한 기준컬럼\n",
    "             )"
   ]
  },
  {
   "cell_type": "code",
   "execution_count": 127,
   "metadata": {
    "scrolled": true
   },
   "outputs": [
    {
     "name": "stdout",
     "output_type": "stream",
     "text": [
      "<class 'pandas.core.frame.DataFrame'>\n",
      "Int64Index: 6999 entries, 1 to 6999\n",
      "Data columns (total 11 columns):\n",
      " #   Column               Non-Null Count  Dtype \n",
      "---  ------               --------------  ----- \n",
      " 0   Warehouse_block      6999 non-null   object\n",
      " 1   Mode_of_Shipment     6999 non-null   object\n",
      " 2   Customer_care_calls  6999 non-null   object\n",
      " 3   Customer_rating      6999 non-null   int64 \n",
      " 4   Cost_of_the_Product  6999 non-null   int64 \n",
      " 5   Prior_purchases      6999 non-null   object\n",
      " 6   Product_importance   6999 non-null   object\n",
      " 7   Gender               6999 non-null   object\n",
      " 8   Discount_offered     6999 non-null   object\n",
      " 9   Weight_in_gms        6999 non-null   object\n",
      " 10  Reached.on.Time_Y.N  6999 non-null   int64 \n",
      "dtypes: int64(3), object(8)\n",
      "memory usage: 976.2+ KB\n"
     ]
    }
   ],
   "source": [
    "train.info()\n"
   ]
  },
  {
   "cell_type": "code",
   "execution_count": 128,
   "metadata": {},
   "outputs": [
    {
     "name": "stdout",
     "output_type": "stream",
     "text": [
      "<class 'pandas.core.frame.DataFrame'>\n",
      "Int64Index: 6999 entries, 1 to 6999\n",
      "Data columns (total 11 columns):\n",
      " #   Column               Non-Null Count  Dtype \n",
      "---  ------               --------------  ----- \n",
      " 0   Warehouse_block      6999 non-null   object\n",
      " 1   Mode_of_Shipment     6999 non-null   object\n",
      " 2   Customer_care_calls  6999 non-null   object\n",
      " 3   Customer_rating      6999 non-null   int64 \n",
      " 4   Cost_of_the_Product  6999 non-null   int64 \n",
      " 5   Prior_purchases      6999 non-null   object\n",
      " 6   Product_importance   6999 non-null   object\n",
      " 7   Gender               6999 non-null   object\n",
      " 8   Discount_offered     6999 non-null   object\n",
      " 9   Weight_in_gms        6999 non-null   object\n",
      " 10  Reached.on.Time_Y.N  6999 non-null   int64 \n",
      "dtypes: int64(3), object(8)\n",
      "memory usage: 976.2+ KB\n"
     ]
    }
   ],
   "source": [
    "train.info()"
   ]
  },
  {
   "cell_type": "code",
   "execution_count": 129,
   "metadata": {},
   "outputs": [],
   "source": [
    "train.drop('Gender',axis=1,inplace=True)\n",
    "test.drop('Gender',axis=1,inplace=True)"
   ]
  },
  {
   "cell_type": "code",
   "execution_count": 130,
   "metadata": {},
   "outputs": [],
   "source": [
    "test.drop('Weight_in_gms',axis=1,inplace=True)\n",
    "train.drop('Weight_in_gms',axis=1,inplace=True)"
   ]
  },
  {
   "cell_type": "code",
   "execution_count": 131,
   "metadata": {},
   "outputs": [],
   "source": [
    "onehot_colums=['Mode_of_Shipment','Customer_care_calls','Prior_purchases',\n",
    "               'Product_importance','Discount_offered']"
   ]
  },
  {
   "cell_type": "code",
   "execution_count": 132,
   "metadata": {},
   "outputs": [],
   "source": [
    "for col in onehot_colums:\n",
    "    # 원핫잍코딩한 컬럼 변수에 저장\n",
    "        dummy=pd.get_dummies(train[col],prefix=col)\n",
    "    \n",
    "    # 원핫인코딩된 결과물을 기존의 자료와 합치기\n",
    "        train=pd.concat([train,dummy],axis=1)# 데이터를 합쳐주는 합수\n",
    "                                        # 옆으로 합치겠다\n",
    "    # 기존글자형컬럼(원핫인코딩진행한) 삭제\n",
    "        train.drop(col,axis=1,inplace=True)"
   ]
  },
  {
   "cell_type": "code",
   "execution_count": 133,
   "metadata": {},
   "outputs": [],
   "source": [
    "for col in onehot_colums:\n",
    "    # 원핫잍코딩한 컬럼 변수에 저장\n",
    "    dummy=pd.get_dummies(test[col],prefix=col)\n",
    "    \n",
    "    # 원핫인코딩된 결과물을 기존의 자료와 합치기\n",
    "    test=pd.concat([test,dummy],axis=1)# 데이터를 합쳐주는 합수\n",
    "                                        # 옆으로 합치겠다\n",
    "    # 기존글자형컬럼(원핫인코딩진행한) 삭제\n",
    "    test.drop(col,axis=1,inplace=True)"
   ]
  },
  {
   "cell_type": "code",
   "execution_count": 134,
   "metadata": {},
   "outputs": [
    {
     "name": "stdout",
     "output_type": "stream",
     "text": [
      "(6999, 100)\n",
      "(4000, 96)\n"
     ]
    }
   ],
   "source": [
    "print(train.shape)\n",
    "print(test.shape)"
   ]
  },
  {
   "cell_type": "code",
   "execution_count": 135,
   "metadata": {},
   "outputs": [
    {
     "data": {
      "text/plain": [
       "set()"
      ]
     },
     "execution_count": 135,
     "metadata": {},
     "output_type": "execute_result"
    }
   ],
   "source": [
    "set(test.columns)-set(train.columns)"
   ]
  },
  {
   "cell_type": "code",
   "execution_count": 136,
   "metadata": {},
   "outputs": [
    {
     "data": {
      "text/plain": [
       "{'Mode_of_Shipment_ Flightzk',\n",
       " 'Product_importance_highh',\n",
       " 'Product_importance_loww',\n",
       " 'Reached.on.Time_Y.N'}"
      ]
     },
     "execution_count": 136,
     "metadata": {},
     "output_type": "execute_result"
    }
   ],
   "source": [
    "set(train.columns)-set(test.columns)"
   ]
  },
  {
   "cell_type": "code",
   "execution_count": 137,
   "metadata": {},
   "outputs": [],
   "source": [
    "test['Mode_of_Shipment_ Flightzk']=0\n",
    "test['Product_importance_highh']=0\n",
    "test['Product_importance_loww']=0\n",
    "test['Reached.on.Time_Y.N']=0\n"
   ]
  },
  {
   "cell_type": "code",
   "execution_count": 138,
   "metadata": {},
   "outputs": [
    {
     "data": {
      "text/plain": [
       "set()"
      ]
     },
     "execution_count": 138,
     "metadata": {},
     "output_type": "execute_result"
    }
   ],
   "source": [
    "set(train.columns)-set(test.columns)"
   ]
  },
  {
   "cell_type": "code",
   "execution_count": 140,
   "metadata": {},
   "outputs": [
    {
     "ename": "NameError",
     "evalue": "name 'boston_df' is not defined",
     "output_type": "error",
     "traceback": [
      "\u001b[1;31m---------------------------------------------------------------------------\u001b[0m",
      "\u001b[1;31mNameError\u001b[0m                                 Traceback (most recent call last)",
      "\u001b[1;32m<ipython-input-140-79ee1730bba2>\u001b[0m in \u001b[0;36m<module>\u001b[1;34m\u001b[0m\n\u001b[0;32m      1\u001b[0m \u001b[1;32mfrom\u001b[0m \u001b[0msklearn\u001b[0m\u001b[1;33m.\u001b[0m\u001b[0mmodel_selection\u001b[0m \u001b[1;32mimport\u001b[0m \u001b[0mtrain_test_split\u001b[0m\u001b[1;33m\u001b[0m\u001b[1;33m\u001b[0m\u001b[0m\n\u001b[0;32m      2\u001b[0m X_train,X_test,y_train,y_test= train_test_split(\n\u001b[1;32m----> 3\u001b[1;33m                 \u001b[0mboston_df\u001b[0m\u001b[1;33m,\u001b[0m\u001b[1;33m\u001b[0m\u001b[1;33m\u001b[0m\u001b[0m\n\u001b[0m\u001b[0;32m      4\u001b[0m                 \u001b[0mhouse_price\u001b[0m\u001b[1;33m,\u001b[0m\u001b[1;33m\u001b[0m\u001b[1;33m\u001b[0m\u001b[0m\n\u001b[0;32m      5\u001b[0m                 \u001b[0mtest_size\u001b[0m\u001b[1;33m=\u001b[0m\u001b[1;36m0.3\u001b[0m\u001b[1;33m,\u001b[0m\u001b[1;33m\u001b[0m\u001b[1;33m\u001b[0m\u001b[0m\n",
      "\u001b[1;31mNameError\u001b[0m: name 'boston_df' is not defined"
     ]
    }
   ],
   "source": [
    "from sklearn.model_selection import train_test_split\n",
    "X_train,X_test,y_train,y_test= train_test_split(\n",
    "                boston_df,\n",
    "                house_price,\n",
    "                test_size=0.3,\n",
    "                random_state=3)"
   ]
  },
  {
   "cell_type": "code",
   "execution_count": null,
   "metadata": {},
   "outputs": [],
   "source": []
  }
 ],
 "metadata": {
  "kernelspec": {
   "display_name": "Python 3",
   "language": "python",
   "name": "python3"
  },
  "language_info": {
   "codemirror_mode": {
    "name": "ipython",
    "version": 3
   },
   "file_extension": ".py",
   "mimetype": "text/x-python",
   "name": "python",
   "nbconvert_exporter": "python",
   "pygments_lexer": "ipython3",
   "version": "3.8.5"
  }
 },
 "nbformat": 4,
 "nbformat_minor": 4
}
