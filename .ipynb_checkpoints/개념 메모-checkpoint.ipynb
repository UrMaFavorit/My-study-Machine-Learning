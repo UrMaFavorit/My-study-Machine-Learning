{
 "cells": [
  {
   "cell_type": "markdown",
   "metadata": {},
   "source": [
    "# 복원추출"
   ]
  },
  {
   "cell_type": "code",
   "execution_count": null,
   "metadata": {},
   "outputs": [],
   "source": [
    "# 복원추출- 데이터 중첩 허용\n",
    "# - 중첩이 야기하는 효과\n",
    "# + 다양한 알로리즘(중첩된 데이터에 집중한)이 나올수 있다\n",
    "# + 결과적으로는 과대적합인데,여러개의 DT모델을 연결해서 \n",
    "# + 평균, 투표를 통해서 결과를 집계하게 되면, 과대적합이 해소 된다."
   ]
  },
  {
   "cell_type": "markdown",
   "metadata": {},
   "source": [
    "# 랜덤포레스트"
   ]
  },
  {
   "cell_type": "code",
   "execution_count": null,
   "metadata": {},
   "outputs": [],
   "source": [
    "# DT가 여러개 모인것\n",
    "# 1.복원추출: 데이터 랜덤성\n",
    "# 2.Max feature: 특성 랜덤섬 -> DT에서 다양한 알고리즘을 갖을수 있음\n",
    "\n",
    "# 트리의 개수 :n_estimators\n",
    "# 선택할 특징dml 최대 수 : max_features -> 개별트리에 적용됨\n",
    "# 선택한 데이터의 시드 : random_state -> 랜덤성을 주는 방법"
   ]
  },
  {
   "cell_type": "code",
   "execution_count": null,
   "metadata": {},
   "outputs": [],
   "source": []
  },
  {
   "cell_type": "markdown",
   "metadata": {},
   "source": [
    "# 데이터 스케일링"
   ]
  },
  {
   "cell_type": "code",
   "execution_count": 2,
   "metadata": {},
   "outputs": [],
   "source": [
    "#  -특성들의 범위를 정규화 해주는 작업\n",
    "# - 특성마다 다른 범위를 가지는 경우 머신러닝 모델들이 제대로 학습되지 않을 가능성이 있다.\n",
    "#  거리기반으로 찾는 모델들의 경우 多\n",
    "    \n",
    "# 장점: \n",
    "#     특성들을 비교 분석하기 쉽게 만들어 준다.\n",
    "#     특성에 따라 서 원래 범위를 유지하는게 좋으면 굳이 스케일링을 할 필요가 없다.\n",
    "\n",
    "\n",
    "# 주의점: \n",
    "#     훈련세트와 테스트 세트에 같은 변환을 적용해야한다.\n",
    "\n",
    "\n",
    "\n",
    "\n",
    "# StandardScaler:\n",
    "#     모든 변수의 평균, 표준편차를 이용해 정규분포 형태로 변환(평균0, 분산1)\n",
    "#     이상치에 민감하게 영향을 받는다.\n",
    "    \n",
    "# RobustScaler:P.178하단\n",
    "#     변수의 사분위수(중간이상치를 제외)를 이요해 변환(75%,25%)\n",
    "#     이상치가 있는 데이터 변환 시 사용할수 있다.\n",
    "    \n",
    "# MinMaxScaler:\n",
    "#     변수의 Max,Min 값을 이용해서 변환(0-1사이 값으로 변환)\n",
    "#     이상치에 민감하게 영향을 받는다.\n",
    "   "
   ]
  },
  {
   "cell_type": "code",
   "execution_count": null,
   "metadata": {},
   "outputs": [],
   "source": [
    " "
   ]
  }
 ],
 "metadata": {
  "kernelspec": {
   "display_name": "Python 3",
   "language": "python",
   "name": "python3"
  },
  "language_info": {
   "codemirror_mode": {
    "name": "ipython",
    "version": 3
   },
   "file_extension": ".py",
   "mimetype": "text/x-python",
   "name": "python",
   "nbconvert_exporter": "python",
   "pygments_lexer": "ipython3",
   "version": "3.8.5"
  }
 },
 "nbformat": 4,
 "nbformat_minor": 4
}
