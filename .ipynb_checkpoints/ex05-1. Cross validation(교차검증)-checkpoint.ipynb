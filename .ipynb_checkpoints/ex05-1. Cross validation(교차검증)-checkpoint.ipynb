{
 "cells": [
  {
   "cell_type": "markdown",
   "metadata": {},
   "source": [
    "# Cross validation(교차검증) "
   ]
  },
  {
   "cell_type": "code",
   "execution_count": 1,
   "metadata": {},
   "outputs": [],
   "source": [
    "\n",
    "# 교차검증: 여러번 학습과 평가를 진행\n",
    "#           그때마다 train과 test에 변화를 준다.\n",
    "\n",
    "# train: 학습/ test:평가\n",
    "\n",
    "# -전체 데이터를 train과 test로 한번나눔, 고정된 데이터를 계속사용\n",
    "# -목표 : 일반화된 구간찾기\n",
    "# -목표를 달성을 위해서 하이퍼 파라미터 튜닝하면서 계속\n",
    "#     :train,test 스코어를 확인\n",
    "#     :test score 가 제일높은것 그때의 하이퍼 파라미터로 선택\n",
    "    \n",
    "# -고정된 test에만 잘 맞는 파라미터가 될 가능성이 높음 \n",
    "#  -> 그래서 test에서 과대적합이 될수 있다.\n",
    "\n",
    "# - 조금 다른 test1의 score 를 출력하면 값이 기존 testscore 만큼 나오지 않을 수 있음."
   ]
  },
  {
   "cell_type": "markdown",
   "metadata": {},
   "source": [
    "# Cross validation(교차검증)  목적"
   ]
  },
  {
   "cell_type": "code",
   "execution_count": 2,
   "metadata": {},
   "outputs": [],
   "source": [
    "# '고정되어있는 test에 맞는 파라미터가 생긴다'는 문제점을 해결하기 위해서 교차검증을 사용한다!!!"
   ]
  },
  {
   "cell_type": "markdown",
   "metadata": {},
   "source": [
    "# k-fold cross-validation 동작방법"
   ]
  },
  {
   "cell_type": "code",
   "execution_count": null,
   "metadata": {},
   "outputs": [],
   "source": [
    "# 기본적으로 데이터를 3개로 나눈다. \n",
    "# train/test-> +validation data 추가(train이잘됬는지 확인)->확인되면 그때 test data로 넘어간다.\n",
    "# 두번 검증!\n",
    "\n",
    "#----------------------------------------------------------------------------------\n",
    "\n",
    "# -> 평가결과의 신뢰도(일반화성능)를 높이고 싶을떄 쓰는 방법\n",
    "\n",
    "# 1. 데이터 셋을 k 개로 나눈다 k:우리가 지정해주는 셑\n",
    "# 2. 첫번째세트를 test로 두고 나머지는 train으로 둔다. *k의 개수만큼\n"
   ]
  }
 ],
 "metadata": {
  "kernelspec": {
   "display_name": "Python 3",
   "language": "python",
   "name": "python3"
  },
  "language_info": {
   "codemirror_mode": {
    "name": "ipython",
    "version": 3
   },
   "file_extension": ".py",
   "mimetype": "text/x-python",
   "name": "python",
   "nbconvert_exporter": "python",
   "pygments_lexer": "ipython3",
   "version": "3.8.5"
  }
 },
 "nbformat": 4,
 "nbformat_minor": 4
}
