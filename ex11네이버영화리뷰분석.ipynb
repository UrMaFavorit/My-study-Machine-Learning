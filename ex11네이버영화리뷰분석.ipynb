{
 "cells": [
  {
   "cell_type": "code",
   "execution_count": 2,
   "metadata": {},
   "outputs": [
    {
     "name": "stdout",
     "output_type": "stream",
     "text": [
      "Python 3.8.5\n"
     ]
    }
   ],
   "source": [
    "# 파이썬 버전 확인\n",
    "!python --version"
   ]
  },
  {
   "cell_type": "code",
   "execution_count": 3,
   "metadata": {
    "collapsed": true
   },
   "outputs": [
    {
     "name": "stdout",
     "output_type": "stream",
     "text": [
      "Collecting pip\n",
      "  Downloading pip-21.1.2-py3-none-any.whl (1.5 MB)\n",
      "Installing collected packages: pip\n",
      "  Attempting uninstall: pip\n",
      "    Found existing installation: pip 20.2.4\n",
      "    Uninstalling pip-20.2.4:\n",
      "      Successfully uninstalled pip-20.2.4\n"
     ]
    },
    {
     "name": "stderr",
     "output_type": "stream",
     "text": [
      "ERROR: Could not install packages due to an EnvironmentError: [WinError 5] 액세스가 거부되었습니다: 'C:\\\\Users\\\\smhrd\\\\AppData\\\\Local\\\\Temp\\\\pip-uninstall-i8acmwyb\\\\pip.exe'\n",
      "Consider using the `--user` option or check the permissions.\n",
      "\n"
     ]
    }
   ],
   "source": [
    "!pip install --upgrade pip"
   ]
  },
  {
   "cell_type": "code",
   "execution_count": 4,
   "metadata": {
    "collapsed": true
   },
   "outputs": [
    {
     "name": "stdout",
     "output_type": "stream",
     "text": [
      "Python 3.8.5\n",
      "Requirement already satisfied: pip in c:\\users\\smhrd\\anaconda3\\lib\\site-packages (21.1.2)\n",
      "Processing c:\\users\\smhrd\\머신러닝\\jpype1-1.1.2-cp38-cp38-win_amd64.whl\n",
      "Installing collected packages: JPype1\n",
      "Successfully installed JPype1-1.1.2\n",
      "Collecting konlpy\n",
      "  Downloading konlpy-0.5.2-py2.py3-none-any.whl (19.4 MB)\n",
      "Requirement already satisfied: numpy>=1.6 in c:\\users\\smhrd\\anaconda3\\lib\\site-packages (from konlpy) (1.19.2)\n",
      "Collecting beautifulsoup4==4.6.0\n",
      "  Downloading beautifulsoup4-4.6.0-py3-none-any.whl (86 kB)\n",
      "Collecting tweepy>=3.7.0\n",
      "  Downloading tweepy-3.10.0-py2.py3-none-any.whl (30 kB)\n",
      "Requirement already satisfied: JPype1>=0.7.0 in c:\\users\\smhrd\\anaconda3\\lib\\site-packages (from konlpy) (1.1.2)\n",
      "Requirement already satisfied: colorama in c:\\users\\smhrd\\anaconda3\\lib\\site-packages (from konlpy) (0.4.4)\n",
      "Requirement already satisfied: lxml>=4.1.0 in c:\\users\\smhrd\\anaconda3\\lib\\site-packages (from konlpy) (4.6.1)\n",
      "Collecting requests-oauthlib>=0.7.0\n",
      "  Downloading requests_oauthlib-1.3.0-py2.py3-none-any.whl (23 kB)\n",
      "Requirement already satisfied: six>=1.10.0 in c:\\users\\smhrd\\anaconda3\\lib\\site-packages (from tweepy>=3.7.0->konlpy) (1.15.0)\n",
      "Requirement already satisfied: requests[socks]>=2.11.1 in c:\\users\\smhrd\\anaconda3\\lib\\site-packages (from tweepy>=3.7.0->konlpy) (2.24.0)\n",
      "Collecting oauthlib>=3.0.0\n",
      "  Downloading oauthlib-3.1.1-py2.py3-none-any.whl (146 kB)\n",
      "Requirement already satisfied: urllib3!=1.25.0,!=1.25.1,<1.26,>=1.21.1 in c:\\users\\smhrd\\anaconda3\\lib\\site-packages (from requests[socks]>=2.11.1->tweepy>=3.7.0->konlpy) (1.25.11)\n",
      "Requirement already satisfied: certifi>=2017.4.17 in c:\\users\\smhrd\\anaconda3\\lib\\site-packages (from requests[socks]>=2.11.1->tweepy>=3.7.0->konlpy) (2020.6.20)\n",
      "Requirement already satisfied: chardet<4,>=3.0.2 in c:\\users\\smhrd\\anaconda3\\lib\\site-packages (from requests[socks]>=2.11.1->tweepy>=3.7.0->konlpy) (3.0.4)\n",
      "Requirement already satisfied: idna<3,>=2.5 in c:\\users\\smhrd\\anaconda3\\lib\\site-packages (from requests[socks]>=2.11.1->tweepy>=3.7.0->konlpy) (2.10)\n",
      "Requirement already satisfied: PySocks!=1.5.7,>=1.5.6 in c:\\users\\smhrd\\anaconda3\\lib\\site-packages (from requests[socks]>=2.11.1->tweepy>=3.7.0->konlpy) (1.7.1)\n",
      "Installing collected packages: oauthlib, requests-oauthlib, tweepy, beautifulsoup4, konlpy\n",
      "  Attempting uninstall: beautifulsoup4\n",
      "    Found existing installation: beautifulsoup4 4.9.3\n",
      "    Uninstalling beautifulsoup4-4.9.3:\n",
      "      Successfully uninstalled beautifulsoup4-4.9.3\n",
      "Successfully installed beautifulsoup4-4.6.0 konlpy-0.5.2 oauthlib-3.1.1 requests-oauthlib-1.3.0 tweepy-3.10.0\n"
     ]
    }
   ],
   "source": [
    "!python --version\n",
    "\n",
    "!pip install --upgrade pip\n",
    "\n",
    "!pip install JPype1-1.1.2-cp38-cp38-win_amd64.whl\n",
    "\n",
    "!pip install konlpy\n",
    "\n",
    "from konlpy.tag import Kkma\n",
    "\n",
    "kkma = Kkma()"
   ]
  },
  {
   "cell_type": "code",
   "execution_count": 5,
   "metadata": {},
   "outputs": [],
   "source": [
    "import pandas as pd"
   ]
  },
  {
   "cell_type": "code",
   "execution_count": 6,
   "metadata": {},
   "outputs": [],
   "source": [
    "df_train = pd.read_csv('nsmc-master/nsmc-master/ratings_train.txt', delimiter='\\t')"
   ]
  },
  {
   "cell_type": "code",
   "execution_count": 7,
   "metadata": {},
   "outputs": [
    {
     "data": {
      "text/html": [
       "<div>\n",
       "<style scoped>\n",
       "    .dataframe tbody tr th:only-of-type {\n",
       "        vertical-align: middle;\n",
       "    }\n",
       "\n",
       "    .dataframe tbody tr th {\n",
       "        vertical-align: top;\n",
       "    }\n",
       "\n",
       "    .dataframe thead th {\n",
       "        text-align: right;\n",
       "    }\n",
       "</style>\n",
       "<table border=\"1\" class=\"dataframe\">\n",
       "  <thead>\n",
       "    <tr style=\"text-align: right;\">\n",
       "      <th></th>\n",
       "      <th>id</th>\n",
       "      <th>document</th>\n",
       "      <th>label</th>\n",
       "    </tr>\n",
       "  </thead>\n",
       "  <tbody>\n",
       "    <tr>\n",
       "      <th>0</th>\n",
       "      <td>9976970</td>\n",
       "      <td>아 더빙.. 진짜 짜증나네요 목소리</td>\n",
       "      <td>0</td>\n",
       "    </tr>\n",
       "    <tr>\n",
       "      <th>1</th>\n",
       "      <td>3819312</td>\n",
       "      <td>흠...포스터보고 초딩영화줄....오버연기조차 가볍지 않구나</td>\n",
       "      <td>1</td>\n",
       "    </tr>\n",
       "    <tr>\n",
       "      <th>2</th>\n",
       "      <td>10265843</td>\n",
       "      <td>너무재밓었다그래서보는것을추천한다</td>\n",
       "      <td>0</td>\n",
       "    </tr>\n",
       "    <tr>\n",
       "      <th>3</th>\n",
       "      <td>9045019</td>\n",
       "      <td>교도소 이야기구먼 ..솔직히 재미는 없다..평점 조정</td>\n",
       "      <td>0</td>\n",
       "    </tr>\n",
       "    <tr>\n",
       "      <th>4</th>\n",
       "      <td>6483659</td>\n",
       "      <td>사이몬페그의 익살스런 연기가 돋보였던 영화!스파이더맨에서 늙어보이기만 했던 커스틴 ...</td>\n",
       "      <td>1</td>\n",
       "    </tr>\n",
       "    <tr>\n",
       "      <th>5</th>\n",
       "      <td>5403919</td>\n",
       "      <td>막 걸음마 뗀 3세부터 초등학교 1학년생인 8살용영화.ㅋㅋㅋ...별반개도 아까움.</td>\n",
       "      <td>0</td>\n",
       "    </tr>\n",
       "    <tr>\n",
       "      <th>6</th>\n",
       "      <td>7797314</td>\n",
       "      <td>원작의 긴장감을 제대로 살려내지못했다.</td>\n",
       "      <td>0</td>\n",
       "    </tr>\n",
       "    <tr>\n",
       "      <th>7</th>\n",
       "      <td>9443947</td>\n",
       "      <td>별 반개도 아깝다 욕나온다 이응경 길용우 연기생활이몇년인지..정말 발로해도 그것보단...</td>\n",
       "      <td>0</td>\n",
       "    </tr>\n",
       "    <tr>\n",
       "      <th>8</th>\n",
       "      <td>7156791</td>\n",
       "      <td>액션이 없는데도 재미 있는 몇안되는 영화</td>\n",
       "      <td>1</td>\n",
       "    </tr>\n",
       "    <tr>\n",
       "      <th>9</th>\n",
       "      <td>5912145</td>\n",
       "      <td>왜케 평점이 낮은건데? 꽤 볼만한데.. 헐리우드식 화려함에만 너무 길들여져 있나?</td>\n",
       "      <td>1</td>\n",
       "    </tr>\n",
       "  </tbody>\n",
       "</table>\n",
       "</div>"
      ],
      "text/plain": [
       "         id                                           document  label\n",
       "0   9976970                                아 더빙.. 진짜 짜증나네요 목소리      0\n",
       "1   3819312                  흠...포스터보고 초딩영화줄....오버연기조차 가볍지 않구나      1\n",
       "2  10265843                                  너무재밓었다그래서보는것을추천한다      0\n",
       "3   9045019                      교도소 이야기구먼 ..솔직히 재미는 없다..평점 조정      0\n",
       "4   6483659  사이몬페그의 익살스런 연기가 돋보였던 영화!스파이더맨에서 늙어보이기만 했던 커스틴 ...      1\n",
       "5   5403919      막 걸음마 뗀 3세부터 초등학교 1학년생인 8살용영화.ㅋㅋㅋ...별반개도 아까움.      0\n",
       "6   7797314                              원작의 긴장감을 제대로 살려내지못했다.      0\n",
       "7   9443947  별 반개도 아깝다 욕나온다 이응경 길용우 연기생활이몇년인지..정말 발로해도 그것보단...      0\n",
       "8   7156791                             액션이 없는데도 재미 있는 몇안되는 영화      1\n",
       "9   5912145      왜케 평점이 낮은건데? 꽤 볼만한데.. 헐리우드식 화려함에만 너무 길들여져 있나?      1"
      ]
     },
     "execution_count": 7,
     "metadata": {},
     "output_type": "execute_result"
    }
   ],
   "source": [
    "df_train.head(10)"
   ]
  },
  {
   "cell_type": "code",
   "execution_count": 11,
   "metadata": {},
   "outputs": [
    {
     "name": "stdout",
     "output_type": "stream",
     "text": [
      "<class 'pandas.core.frame.DataFrame'>\n",
      "Int64Index: 149995 entries, 0 to 149999\n",
      "Data columns (total 3 columns):\n",
      " #   Column    Non-Null Count   Dtype \n",
      "---  ------    --------------   ----- \n",
      " 0   id        149995 non-null  int64 \n",
      " 1   document  149995 non-null  object\n",
      " 2   label     149995 non-null  int64 \n",
      "dtypes: int64(2), object(1)\n",
      "memory usage: 4.6+ MB\n"
     ]
    }
   ],
   "source": [
    "df_train.info()"
   ]
  },
  {
   "cell_type": "code",
   "execution_count": 10,
   "metadata": {},
   "outputs": [],
   "source": [
    "# 결측치 제거 함수.dropna()\n",
    "df_train.dropna(inplace=True)"
   ]
  },
  {
   "cell_type": "code",
   "execution_count": 12,
   "metadata": {},
   "outputs": [],
   "source": [
    "df_test = pd.read_csv('nsmc-master/nsmc-master/ratings_test.txt', delimiter='\\t')"
   ]
  },
  {
   "cell_type": "code",
   "execution_count": 13,
   "metadata": {},
   "outputs": [],
   "source": [
    "df_test.dropna(inplace=True)"
   ]
  },
  {
   "cell_type": "code",
   "execution_count": 15,
   "metadata": {},
   "outputs": [
    {
     "name": "stdout",
     "output_type": "stream",
     "text": [
      "(149995,)\n",
      "(149995,)\n",
      "(49997,)\n",
      "(49997,)\n"
     ]
    }
   ],
   "source": [
    "X_train = df_train['document']\n",
    "y_train = df_train['label']\n",
    "X_test = df_test['document']\n",
    "y_test = df_test['label']\n",
    "print(X_train.shape)\n",
    "print(y_train.shape)\n",
    "print(X_test.shape)\n",
    "print(y_test.shape)"
   ]
  },
  {
   "cell_type": "code",
   "execution_count": 16,
   "metadata": {},
   "outputs": [],
   "source": [
    "from sklearn.feature_extraction.text import TfidfVectorizer"
   ]
  },
  {
   "cell_type": "code",
   "execution_count": 17,
   "metadata": {},
   "outputs": [
    {
     "data": {
      "text/plain": [
       "TfidfVectorizer()"
      ]
     },
     "execution_count": 17,
     "metadata": {},
     "output_type": "execute_result"
    }
   ],
   "source": [
    "tfidf= TfidfVectorizer()\n",
    "tfidf.fit(X_train[:3])"
   ]
  },
  {
   "cell_type": "code",
   "execution_count": 18,
   "metadata": {},
   "outputs": [
    {
     "data": {
      "text/plain": [
       "0                  아 더빙.. 진짜 짜증나네요 목소리\n",
       "1    흠...포스터보고 초딩영화줄....오버연기조차 가볍지 않구나\n",
       "2                    너무재밓었다그래서보는것을추천한다\n",
       "Name: document, dtype: object"
      ]
     },
     "execution_count": 18,
     "metadata": {},
     "output_type": "execute_result"
    }
   ],
   "source": [
    "X_train[:3]"
   ]
  },
  {
   "cell_type": "code",
   "execution_count": 19,
   "metadata": {},
   "outputs": [
    {
     "data": {
      "text/plain": [
       "{'더빙': 2,\n",
       " '진짜': 6,\n",
       " '짜증나네요': 7,\n",
       " '목소리': 3,\n",
       " '포스터보고': 9,\n",
       " '초딩영화줄': 8,\n",
       " '오버연기조차': 5,\n",
       " '가볍지': 0,\n",
       " '않구나': 4,\n",
       " '너무재밓었다그래서보는것을추천한다': 1}"
      ]
     },
     "execution_count": 19,
     "metadata": {},
     "output_type": "execute_result"
    }
   ],
   "source": [
    "tfidf.vocabulary_"
   ]
  },
  {
   "cell_type": "code",
   "execution_count": 20,
   "metadata": {},
   "outputs": [],
   "source": [
    "kkma= Kkma()"
   ]
  },
  {
   "cell_type": "code",
   "execution_count": 21,
   "metadata": {},
   "outputs": [],
   "source": [
    "# 문장단위 토큰화 : sentences()\n",
    "# 명사단위 토큰화 : nouns()\n",
    "# 형태소단위 토큰화: morphs()"
   ]
  },
  {
   "cell_type": "code",
   "execution_count": 24,
   "metadata": {},
   "outputs": [
    {
     "data": {
      "text/plain": [
       "'아 더빙.. 진짜 짜증나네요 목소리'"
      ]
     },
     "execution_count": 24,
     "metadata": {},
     "output_type": "execute_result"
    }
   ],
   "source": [
    "X_train[0]"
   ]
  },
  {
   "cell_type": "code",
   "execution_count": 22,
   "metadata": {},
   "outputs": [
    {
     "data": {
      "text/plain": [
       "['아', '아', '더빙', '..', '진짜', '짜증나', '네요', '목소리']"
      ]
     },
     "execution_count": 22,
     "metadata": {},
     "output_type": "execute_result"
    }
   ],
   "source": [
    "kkma.morphs(X_train[0])"
   ]
  },
  {
   "cell_type": "code",
   "execution_count": 25,
   "metadata": {},
   "outputs": [
    {
     "data": {
      "text/plain": [
       "['더빙', '목소리']"
      ]
     },
     "execution_count": 25,
     "metadata": {},
     "output_type": "execute_result"
    }
   ],
   "source": [
    "kkma.nouns(X_train[0])"
   ]
  },
  {
   "cell_type": "code",
   "execution_count": 26,
   "metadata": {},
   "outputs": [
    {
     "data": {
      "text/plain": [
       "[('아', 'VV'),\n",
       " ('아', 'ECS'),\n",
       " ('더빙', 'NNG'),\n",
       " ('..', 'SW'),\n",
       " ('진짜', 'MAG'),\n",
       " ('짜증나', 'VV'),\n",
       " ('네요', 'EFN'),\n",
       " ('목소리', 'NNG')]"
      ]
     },
     "execution_count": 26,
     "metadata": {},
     "output_type": "execute_result"
    }
   ],
   "source": [
    "kkma.pos(X_train[0])"
   ]
  },
  {
   "cell_type": "code",
   "execution_count": 29,
   "metadata": {},
   "outputs": [],
   "source": [
    "d=pd.DataFrame(kkma.pos(X_train[0]),columns=['morphs','tag'])"
   ]
  },
  {
   "cell_type": "code",
   "execution_count": 34,
   "metadata": {},
   "outputs": [
    {
     "data": {
      "text/html": [
       "<div>\n",
       "<style scoped>\n",
       "    .dataframe tbody tr th:only-of-type {\n",
       "        vertical-align: middle;\n",
       "    }\n",
       "\n",
       "    .dataframe tbody tr th {\n",
       "        vertical-align: top;\n",
       "    }\n",
       "\n",
       "    .dataframe thead th {\n",
       "        text-align: right;\n",
       "    }\n",
       "</style>\n",
       "<table border=\"1\" class=\"dataframe\">\n",
       "  <thead>\n",
       "    <tr style=\"text-align: right;\">\n",
       "      <th></th>\n",
       "      <th>morphs</th>\n",
       "    </tr>\n",
       "    <tr>\n",
       "      <th>tag</th>\n",
       "      <th></th>\n",
       "    </tr>\n",
       "  </thead>\n",
       "  <tbody>\n",
       "    <tr>\n",
       "      <th>VV</th>\n",
       "      <td>아</td>\n",
       "    </tr>\n",
       "    <tr>\n",
       "      <th>ECS</th>\n",
       "      <td>아</td>\n",
       "    </tr>\n",
       "    <tr>\n",
       "      <th>NNG</th>\n",
       "      <td>더빙</td>\n",
       "    </tr>\n",
       "    <tr>\n",
       "      <th>SW</th>\n",
       "      <td>..</td>\n",
       "    </tr>\n",
       "    <tr>\n",
       "      <th>MAG</th>\n",
       "      <td>진짜</td>\n",
       "    </tr>\n",
       "    <tr>\n",
       "      <th>VV</th>\n",
       "      <td>짜증나</td>\n",
       "    </tr>\n",
       "    <tr>\n",
       "      <th>EFN</th>\n",
       "      <td>네요</td>\n",
       "    </tr>\n",
       "    <tr>\n",
       "      <th>NNG</th>\n",
       "      <td>목소리</td>\n",
       "    </tr>\n",
       "  </tbody>\n",
       "</table>\n",
       "</div>"
      ],
      "text/plain": [
       "    morphs\n",
       "tag       \n",
       "VV       아\n",
       "ECS      아\n",
       "NNG     더빙\n",
       "SW      ..\n",
       "MAG     진짜\n",
       "VV     짜증나\n",
       "EFN     네요\n",
       "NNG    목소리"
      ]
     },
     "execution_count": 34,
     "metadata": {},
     "output_type": "execute_result"
    }
   ],
   "source": [
    "d"
   ]
  },
  {
   "cell_type": "code",
   "execution_count": 31,
   "metadata": {},
   "outputs": [],
   "source": [
    "d.set_index('tag',inplace=True)"
   ]
  },
  {
   "cell_type": "code",
   "execution_count": 33,
   "metadata": {},
   "outputs": [
    {
     "data": {
      "text/html": [
       "<div>\n",
       "<style scoped>\n",
       "    .dataframe tbody tr th:only-of-type {\n",
       "        vertical-align: middle;\n",
       "    }\n",
       "\n",
       "    .dataframe tbody tr th {\n",
       "        vertical-align: top;\n",
       "    }\n",
       "\n",
       "    .dataframe thead th {\n",
       "        text-align: right;\n",
       "    }\n",
       "</style>\n",
       "<table border=\"1\" class=\"dataframe\">\n",
       "  <thead>\n",
       "    <tr style=\"text-align: right;\">\n",
       "      <th></th>\n",
       "      <th>morphs</th>\n",
       "    </tr>\n",
       "    <tr>\n",
       "      <th>tag</th>\n",
       "      <th></th>\n",
       "    </tr>\n",
       "  </thead>\n",
       "  <tbody>\n",
       "    <tr>\n",
       "      <th>VV</th>\n",
       "      <td>아</td>\n",
       "    </tr>\n",
       "    <tr>\n",
       "      <th>VV</th>\n",
       "      <td>짜증나</td>\n",
       "    </tr>\n",
       "    <tr>\n",
       "      <th>NNG</th>\n",
       "      <td>더빙</td>\n",
       "    </tr>\n",
       "    <tr>\n",
       "      <th>NNG</th>\n",
       "      <td>목소리</td>\n",
       "    </tr>\n",
       "  </tbody>\n",
       "</table>\n",
       "</div>"
      ],
      "text/plain": [
       "    morphs\n",
       "tag       \n",
       "VV       아\n",
       "VV     짜증나\n",
       "NNG     더빙\n",
       "NNG    목소리"
      ]
     },
     "execution_count": 33,
     "metadata": {},
     "output_type": "execute_result"
    }
   ],
   "source": [
    "d.loc[['VV','NNG']]"
   ]
  },
  {
   "cell_type": "code",
   "execution_count": 35,
   "metadata": {},
   "outputs": [],
   "source": [
    "# tfidf의 토근화 방법변경"
   ]
  },
  {
   "cell_type": "code",
   "execution_count": 45,
   "metadata": {},
   "outputs": [],
   "source": [
    "# 명사 단위로 토큰화\n",
    "def myTokenizer(text):\n",
    "    return kkma.nouns(text)"
   ]
  },
  {
   "cell_type": "code",
   "execution_count": 46,
   "metadata": {},
   "outputs": [],
   "source": [
    "# tfidf 내가 만든 토큰방법 적용\n",
    "tfidf = TfidfVectorizer(tokenizer=myTokenizer)"
   ]
  },
  {
   "cell_type": "code",
   "execution_count": 47,
   "metadata": {},
   "outputs": [
    {
     "data": {
      "text/plain": [
       "TfidfVectorizer(tokenizer=<function myTokenizer at 0x0000021737E4FE50>)"
      ]
     },
     "execution_count": 47,
     "metadata": {},
     "output_type": "execute_result"
    }
   ],
   "source": [
    "tfidf.fit(X_train[:3])"
   ]
  },
  {
   "cell_type": "code",
   "execution_count": 48,
   "metadata": {},
   "outputs": [
    {
     "data": {
      "text/plain": [
       "{'더빙': 0,\n",
       " '목소리': 2,\n",
       " '흠': 17,\n",
       " '포스터': 15,\n",
       " '포스터보고': 16,\n",
       " '보고': 4,\n",
       " '초': 12,\n",
       " '초딩영화줄': 13,\n",
       " '딩': 1,\n",
       " '영화': 6,\n",
       " '줄': 11,\n",
       " '오버': 7,\n",
       " '오버연기': 8,\n",
       " '연기': 5,\n",
       " '재': 9,\n",
       " '재밓': 10,\n",
       " '밓': 3,\n",
       " '추천': 14}"
      ]
     },
     "execution_count": 48,
     "metadata": {},
     "output_type": "execute_result"
    }
   ],
   "source": [
    "tfidf.vocabulary_"
   ]
  },
  {
   "cell_type": "code",
   "execution_count": 49,
   "metadata": {},
   "outputs": [],
   "source": [
    "# VV,VA,NNG의 형태소만 토큰화\n",
    "def myTokenizer2(text):\n",
    "    d = pd.DataFrame(kkma.pos(text), columns=['morph','tag'])\n",
    "    d.set_index('tag', inplace=True)\n",
    "    if ('VV' in d.index) | ('VA' in d.index) | ('NNG' in d.index):\n",
    "        labels = ['VV','VA','NNG']\n",
    "        return d.loc[d.index.intersection(labels)].dropna()['morph'].values\n",
    "    else :\n",
    "        return []"
   ]
  },
  {
   "cell_type": "code",
   "execution_count": 50,
   "metadata": {},
   "outputs": [
    {
     "name": "stderr",
     "output_type": "stream",
     "text": [
      "C:\\Users\\smhrd\\Anaconda3\\lib\\site-packages\\sklearn\\feature_extraction\\text.py:484: UserWarning: The parameter 'token_pattern' will not be used since 'tokenizer' is not None'\n",
      "  warnings.warn(\"The parameter 'token_pattern' will not be used\"\n"
     ]
    },
    {
     "data": {
      "text/plain": [
       "{'아': 5,\n",
       " '짜증나': 12,\n",
       " '더빙': 1,\n",
       " '목소리': 2,\n",
       " '흠': 15,\n",
       " '포스터': 14,\n",
       " '보고': 4,\n",
       " '영화': 8,\n",
       " '줄': 11,\n",
       " '오버': 9,\n",
       " '연기': 7,\n",
       " '가볍': 0,\n",
       " '재': 10,\n",
       " '추천': 13,\n",
       " '어': 6,\n",
       " '보': 3}"
      ]
     },
     "execution_count": 50,
     "metadata": {},
     "output_type": "execute_result"
    }
   ],
   "source": [
    "tfidf= TfidfVectorizer(tokenizer=myTokenizer2)\n",
    "tfidf.fit(X_train[:3])\n",
    "tfidf.vocabulary_"
   ]
  },
  {
   "cell_type": "code",
   "execution_count": 51,
   "metadata": {},
   "outputs": [],
   "source": [
    "from sklearn.pipeline import make_pipeline\n",
    "from sklearn.svm import LinearSVC"
   ]
  },
  {
   "cell_type": "code",
   "execution_count": 53,
   "metadata": {},
   "outputs": [],
   "source": [
    "pipe= make_pipeline(TfidfVectorizer(tokenizer=myTokenizer2),LinearSVC())"
   ]
  },
  {
   "cell_type": "code",
   "execution_count": 55,
   "metadata": {},
   "outputs": [
    {
     "data": {
      "text/plain": [
       "Pipeline(steps=[('tfidfvectorizer',\n",
       "                 TfidfVectorizer(tokenizer=<function myTokenizer2 at 0x0000021736CBDF70>)),\n",
       "                ('linearsvc', LinearSVC())])"
      ]
     },
     "execution_count": 55,
     "metadata": {},
     "output_type": "execute_result"
    }
   ],
   "source": [
    "pipe.fit(X_train[:100],y_train[:100])"
   ]
  },
  {
   "cell_type": "code",
   "execution_count": 70,
   "metadata": {},
   "outputs": [],
   "source": [
    "# tfidf\n",
    "pipe_tfidf=pipe.steps[0][1]\n",
    "# svm\n",
    "pipe_svm=pipe.steps[1][1]"
   ]
  },
  {
   "cell_type": "code",
   "execution_count": 71,
   "metadata": {},
   "outputs": [],
   "source": [
    "voc=pd.DataFrame(pipe_tfidf.vocabulary_.keys(),\n",
    "            index= pipe_tfidf.vocabulary_.values())"
   ]
  },
  {
   "cell_type": "code",
   "execution_count": 72,
   "metadata": {
    "collapsed": true
   },
   "outputs": [
    {
     "data": {
      "text/html": [
       "<div>\n",
       "<style scoped>\n",
       "    .dataframe tbody tr th:only-of-type {\n",
       "        vertical-align: middle;\n",
       "    }\n",
       "\n",
       "    .dataframe tbody tr th {\n",
       "        vertical-align: top;\n",
       "    }\n",
       "\n",
       "    .dataframe thead th {\n",
       "        text-align: right;\n",
       "    }\n",
       "</style>\n",
       "<table border=\"1\" class=\"dataframe\">\n",
       "  <thead>\n",
       "    <tr style=\"text-align: right;\">\n",
       "      <th></th>\n",
       "      <th>0</th>\n",
       "    </tr>\n",
       "  </thead>\n",
       "  <tbody>\n",
       "    <tr>\n",
       "      <th>0</th>\n",
       "      <td>ㄱ</td>\n",
       "    </tr>\n",
       "    <tr>\n",
       "      <th>1</th>\n",
       "      <td>ㅇ</td>\n",
       "    </tr>\n",
       "    <tr>\n",
       "      <th>2</th>\n",
       "      <td>ㅈ</td>\n",
       "    </tr>\n",
       "    <tr>\n",
       "      <th>3</th>\n",
       "      <td>가</td>\n",
       "    </tr>\n",
       "    <tr>\n",
       "      <th>4</th>\n",
       "      <td>가볍</td>\n",
       "    </tr>\n",
       "    <tr>\n",
       "      <th>...</th>\n",
       "      <td>...</td>\n",
       "    </tr>\n",
       "    <tr>\n",
       "      <th>495</th>\n",
       "      <td>활력</td>\n",
       "    </tr>\n",
       "    <tr>\n",
       "      <th>496</th>\n",
       "      <td>횡단보도</td>\n",
       "    </tr>\n",
       "    <tr>\n",
       "      <th>497</th>\n",
       "      <td>흠</td>\n",
       "    </tr>\n",
       "    <tr>\n",
       "      <th>498</th>\n",
       "      <td>흥행</td>\n",
       "    </tr>\n",
       "    <tr>\n",
       "      <th>499</th>\n",
       "      <td>희</td>\n",
       "    </tr>\n",
       "  </tbody>\n",
       "</table>\n",
       "<p>500 rows × 1 columns</p>\n",
       "</div>"
      ],
      "text/plain": [
       "        0\n",
       "0       ㄱ\n",
       "1       ㅇ\n",
       "2       ㅈ\n",
       "3       가\n",
       "4      가볍\n",
       "..    ...\n",
       "495    활력\n",
       "496  횡단보도\n",
       "497     흠\n",
       "498    흥행\n",
       "499     희\n",
       "\n",
       "[500 rows x 1 columns]"
      ]
     },
     "execution_count": 72,
     "metadata": {},
     "output_type": "execute_result"
    }
   ],
   "source": [
    "voc.sort_index()"
   ]
  },
  {
   "cell_type": "code",
   "execution_count": 73,
   "metadata": {
    "collapsed": true
   },
   "outputs": [
    {
     "data": {
      "text/plain": [
       "0         ㄱ\n",
       "1         ㅇ\n",
       "2         ㅈ\n",
       "3         가\n",
       "4        가볍\n",
       "       ... \n",
       "495      활력\n",
       "496    횡단보도\n",
       "497       흠\n",
       "498      흥행\n",
       "499       희\n",
       "Name: 0, Length: 500, dtype: object"
      ]
     },
     "execution_count": 73,
     "metadata": {},
     "output_type": "execute_result"
    }
   ],
   "source": [
    "# Series로 확인\n",
    "voc.sort_index()[0]"
   ]
  },
  {
   "cell_type": "code",
   "execution_count": 74,
   "metadata": {},
   "outputs": [],
   "source": [
    "# 토큰들과 가중치를 연결해서 ㄴ\n",
    "# 각각의 토큰들이 긍정/ 부정에 얼마나 영향을 끼쳤는지 확인"
   ]
  },
  {
   "cell_type": "code",
   "execution_count": 76,
   "metadata": {
    "collapsed": true
   },
   "outputs": [
    {
     "data": {
      "text/plain": [
       "array([[ 4.36017486e-01],\n",
       "       [-6.03074424e-01],\n",
       "       [-3.75530419e-01],\n",
       "       [-6.69215644e-02],\n",
       "       [ 7.64265810e-02],\n",
       "       [ 2.71455297e-01],\n",
       "       [ 4.73608190e-01],\n",
       "       [-1.57267857e-01],\n",
       "       [-1.04483941e-01],\n",
       "       [-4.04421182e-01],\n",
       "       [-1.57267857e-01],\n",
       "       [-6.93495843e-02],\n",
       "       [-2.30529985e-01],\n",
       "       [ 2.04477084e-01],\n",
       "       [ 4.73608190e-01],\n",
       "       [ 3.65072508e-01],\n",
       "       [ 1.61070967e-01],\n",
       "       [-2.26963567e-01],\n",
       "       [-2.01024808e-01],\n",
       "       [ 1.25193261e-01],\n",
       "       [ 3.28338726e-01],\n",
       "       [-2.30374557e-01],\n",
       "       [ 7.06687643e-02],\n",
       "       [-2.67124537e-01],\n",
       "       [ 2.33206564e-01],\n",
       "       [-2.72702564e-01],\n",
       "       [-3.68656145e-01],\n",
       "       [-1.57267857e-01],\n",
       "       [-1.34807061e-01],\n",
       "       [-3.02066217e-01],\n",
       "       [ 2.70643885e-01],\n",
       "       [-3.49121623e-01],\n",
       "       [ 5.63364575e-01],\n",
       "       [-2.75556362e-01],\n",
       "       [-2.58285304e-01],\n",
       "       [ 2.60282955e-01],\n",
       "       [-8.79508045e-01],\n",
       "       [-3.53319231e-01],\n",
       "       [-1.40947064e-01],\n",
       "       [ 2.05895265e-01],\n",
       "       [ 3.64306471e-01],\n",
       "       [-3.45889501e-01],\n",
       "       [ 1.73521970e-01],\n",
       "       [-1.96895050e-01],\n",
       "       [-1.15827945e-01],\n",
       "       [-2.02482203e-01],\n",
       "       [ 1.51388192e-01],\n",
       "       [ 7.44295993e-02],\n",
       "       [-2.53814726e-02],\n",
       "       [ 1.51388192e-01],\n",
       "       [ 2.17879676e-01],\n",
       "       [ 2.95258258e-01],\n",
       "       [ 4.36017486e-01],\n",
       "       [-4.50474590e-01],\n",
       "       [-3.16609738e-01],\n",
       "       [ 1.95660035e-01],\n",
       "       [-1.87765210e-01],\n",
       "       [-6.04132435e-02],\n",
       "       [ 5.93394932e-01],\n",
       "       [ 7.77355214e-02],\n",
       "       [ 4.11790531e-01],\n",
       "       [ 6.53639027e-02],\n",
       "       [-3.02066217e-01],\n",
       "       [ 2.33206564e-01],\n",
       "       [-5.90685151e-01],\n",
       "       [-2.16862320e-01],\n",
       "       [ 2.57910666e-01],\n",
       "       [ 4.58224447e-03],\n",
       "       [-1.81239730e-01],\n",
       "       [ 1.51388192e-01],\n",
       "       [ 2.43823964e-01],\n",
       "       [-2.63639379e-01],\n",
       "       [-2.40249898e-01],\n",
       "       [-5.48249477e-02],\n",
       "       [-8.20559186e-02],\n",
       "       [-1.34807061e-01],\n",
       "       [-1.57267857e-01],\n",
       "       [-3.28158417e-02],\n",
       "       [-2.99557824e-02],\n",
       "       [-4.53781643e-01],\n",
       "       [ 5.93088843e-01],\n",
       "       [-2.52514151e-01],\n",
       "       [ 2.50940044e-01],\n",
       "       [-3.16669473e-01],\n",
       "       [-2.02482203e-01],\n",
       "       [ 3.80655338e-01],\n",
       "       [ 6.61584137e-01],\n",
       "       [ 7.06687643e-02],\n",
       "       [-2.02482203e-01],\n",
       "       [-2.77759639e-01],\n",
       "       [ 9.62310526e-02],\n",
       "       [-1.84728913e-01],\n",
       "       [ 1.04495985e-01],\n",
       "       [ 1.51388192e-01],\n",
       "       [ 2.73346021e-01],\n",
       "       [ 2.04477084e-01],\n",
       "       [ 1.16830568e-01],\n",
       "       [-1.05216610e-01],\n",
       "       [-5.16570608e-02],\n",
       "       [ 5.80863181e-01],\n",
       "       [ 2.12955029e-01],\n",
       "       [-6.91779003e-02],\n",
       "       [ 1.51388192e-01],\n",
       "       [ 2.68470608e-01],\n",
       "       [ 2.17879676e-01],\n",
       "       [ 4.65809820e-02],\n",
       "       [ 9.62310526e-02],\n",
       "       [ 5.16328405e-01],\n",
       "       [ 2.04477084e-01],\n",
       "       [ 1.56461530e-01],\n",
       "       [-3.32542004e-01],\n",
       "       [-1.25889597e-01],\n",
       "       [ 2.37981237e-01],\n",
       "       [ 2.48447534e-01],\n",
       "       [-4.66411222e-01],\n",
       "       [ 7.06687643e-02],\n",
       "       [ 7.06687643e-02],\n",
       "       [-4.77744197e-01],\n",
       "       [ 2.12955029e-01],\n",
       "       [ 1.60886256e-01],\n",
       "       [ 2.92117609e-01],\n",
       "       [-2.28854342e-01],\n",
       "       [ 3.92350754e-01],\n",
       "       [ 3.64306471e-01],\n",
       "       [-3.45889501e-01],\n",
       "       [ 2.18639662e-01],\n",
       "       [ 7.25355503e-01],\n",
       "       [ 1.51388192e-01],\n",
       "       [-5.75936393e-02],\n",
       "       [ 3.86955569e-01],\n",
       "       [ 6.53639027e-02],\n",
       "       [ 7.06687643e-02],\n",
       "       [-2.55284114e-01],\n",
       "       [ 1.63118194e-01],\n",
       "       [ 2.82983119e-01],\n",
       "       [-3.33905672e-02],\n",
       "       [-1.14815151e-02],\n",
       "       [-2.30374557e-01],\n",
       "       [ 2.43823964e-01],\n",
       "       [ 1.51388192e-01],\n",
       "       [-2.28433253e-01],\n",
       "       [ 1.76027380e-02],\n",
       "       [-2.28433253e-01],\n",
       "       [-2.72702564e-01],\n",
       "       [ 1.51388192e-01],\n",
       "       [-1.37778181e-01],\n",
       "       [-3.29555314e-01],\n",
       "       [-3.78151369e-02],\n",
       "       [-2.93742393e-01],\n",
       "       [-2.64280874e-01],\n",
       "       [-2.81894128e-01],\n",
       "       [ 1.13213003e-02],\n",
       "       [-1.67257942e-01],\n",
       "       [ 9.62310526e-02],\n",
       "       [ 4.05688468e-01],\n",
       "       [-1.62116834e-01],\n",
       "       [ 2.54713050e-01],\n",
       "       [-2.77759639e-01],\n",
       "       [-1.38879819e-01],\n",
       "       [-4.77801982e-01],\n",
       "       [ 5.16328405e-01],\n",
       "       [-2.72702564e-01],\n",
       "       [ 2.48447534e-01],\n",
       "       [ 1.27096891e-01],\n",
       "       [-1.62116834e-01],\n",
       "       [-1.41327692e-01],\n",
       "       [ 1.51388192e-01],\n",
       "       [ 4.42185740e-02],\n",
       "       [ 1.51388192e-01],\n",
       "       [ 2.50940044e-01],\n",
       "       [ 2.04477084e-01],\n",
       "       [ 2.33206564e-01],\n",
       "       [-1.57267857e-01],\n",
       "       [ 2.70675065e-01],\n",
       "       [-2.58285304e-01],\n",
       "       [-4.66411222e-01],\n",
       "       [-1.70695645e-02],\n",
       "       [ 8.71518703e-02],\n",
       "       [-9.13749128e-02],\n",
       "       [-2.26963567e-01],\n",
       "       [ 3.72835047e-01],\n",
       "       [ 8.99420637e-02],\n",
       "       [-4.38954466e-02],\n",
       "       [ 1.69462522e-01],\n",
       "       [ 9.62310526e-02],\n",
       "       [-2.28433253e-01],\n",
       "       [-2.44153072e-01],\n",
       "       [-2.22341966e-01],\n",
       "       [ 1.60886256e-01],\n",
       "       [-2.77759639e-01],\n",
       "       [-3.89431558e-01],\n",
       "       [-3.14535715e-01],\n",
       "       [ 4.57091488e-01],\n",
       "       [-4.80372494e-01],\n",
       "       [ 1.69462522e-01],\n",
       "       [ 2.54713050e-01],\n",
       "       [ 1.69462522e-01],\n",
       "       [ 4.99298418e-01],\n",
       "       [ 2.60282955e-01],\n",
       "       [-2.87968197e-01],\n",
       "       [-2.81894128e-01],\n",
       "       [-3.66229608e-01],\n",
       "       [ 3.27959492e-01],\n",
       "       [-3.60565483e-02],\n",
       "       [ 4.87577415e-01],\n",
       "       [ 2.21370366e-01],\n",
       "       [ 9.62310526e-02],\n",
       "       [ 2.42213809e-01],\n",
       "       [-9.09008545e-02],\n",
       "       [-1.24326734e-01],\n",
       "       [-3.49121623e-01],\n",
       "       [ 4.99298418e-01],\n",
       "       [ 1.64007612e-01],\n",
       "       [-2.16520860e-01],\n",
       "       [-2.28433253e-01],\n",
       "       [-2.93742393e-01],\n",
       "       [ 2.42213809e-01],\n",
       "       [-1.37778181e-01],\n",
       "       [-3.29555314e-01],\n",
       "       [-1.37778181e-01],\n",
       "       [ 3.28338726e-01],\n",
       "       [-3.29555314e-01],\n",
       "       [-3.32542004e-01],\n",
       "       [-1.21911639e-01],\n",
       "       [ 8.99420637e-02],\n",
       "       [ 3.12923061e-01],\n",
       "       [-1.34807061e-01],\n",
       "       [-1.38879819e-01],\n",
       "       [-2.16520860e-01],\n",
       "       [ 4.09599362e-01],\n",
       "       [-3.65700631e-01],\n",
       "       [ 9.62310526e-02],\n",
       "       [-3.29555314e-01],\n",
       "       [-2.16520860e-01],\n",
       "       [-2.25237295e-01],\n",
       "       [ 9.62310526e-02],\n",
       "       [ 9.62310526e-02],\n",
       "       [ 1.51388192e-01],\n",
       "       [ 2.17879676e-01],\n",
       "       [-1.37778181e-01],\n",
       "       [ 1.50564027e-01],\n",
       "       [ 2.88234737e-01],\n",
       "       [-2.67124537e-01],\n",
       "       [-1.57267857e-01],\n",
       "       [ 4.19638561e-01],\n",
       "       [ 1.21435490e-01],\n",
       "       [ 1.51388192e-01],\n",
       "       [ 1.51388192e-01],\n",
       "       [ 2.43823964e-01],\n",
       "       [ 2.50940044e-01],\n",
       "       [-4.41147075e-01],\n",
       "       [-2.72702564e-01],\n",
       "       [ 2.92117609e-01],\n",
       "       [ 2.62080783e-01],\n",
       "       [ 3.65072508e-01],\n",
       "       [-2.58285304e-01],\n",
       "       [ 1.51388192e-01],\n",
       "       [-3.31827541e-01],\n",
       "       [-2.26890821e-01],\n",
       "       [-1.87765210e-01],\n",
       "       [-2.30374557e-01],\n",
       "       [ 4.05688468e-01],\n",
       "       [-2.93742393e-01],\n",
       "       [ 2.82983119e-01],\n",
       "       [ 4.44659533e-02],\n",
       "       [ 2.48447534e-01],\n",
       "       [ 6.20366411e-01],\n",
       "       [-5.64278968e-01],\n",
       "       [ 1.35727648e-01],\n",
       "       [-2.47166485e-01],\n",
       "       [-2.16520860e-01],\n",
       "       [ 2.60880047e-01],\n",
       "       [-3.49121623e-01],\n",
       "       [ 2.95258258e-01],\n",
       "       [-1.37778181e-01],\n",
       "       [-2.77759639e-01],\n",
       "       [-6.75713380e-01],\n",
       "       [ 2.43823964e-01],\n",
       "       [-9.13749128e-02],\n",
       "       [ 1.64007612e-01],\n",
       "       [-6.86036012e-01],\n",
       "       [ 3.85354969e-01],\n",
       "       [-2.70232648e-01],\n",
       "       [ 4.68156189e-01],\n",
       "       [ 7.06687643e-02],\n",
       "       [ 4.23656305e-02],\n",
       "       [ 1.60886256e-01],\n",
       "       [-3.82926172e-01],\n",
       "       [ 6.19092324e-01],\n",
       "       [ 1.60886256e-01],\n",
       "       [ 8.99420637e-02],\n",
       "       [-1.25889597e-01],\n",
       "       [-2.01024808e-01],\n",
       "       [-3.02066217e-01],\n",
       "       [ 4.94786605e-01],\n",
       "       [-2.72702564e-01],\n",
       "       [ 3.27959492e-01],\n",
       "       [-5.46586535e-01],\n",
       "       [-4.04964407e-01],\n",
       "       [ 8.34621741e-02],\n",
       "       [-3.68656145e-01],\n",
       "       [-1.81239730e-01],\n",
       "       [ 8.99420637e-02],\n",
       "       [-4.37657102e-01],\n",
       "       [-2.26963567e-01],\n",
       "       [ 3.15837815e-02],\n",
       "       [-1.38168971e-01],\n",
       "       [-1.87765210e-01],\n",
       "       [ 9.62310526e-02],\n",
       "       [ 2.62080783e-01],\n",
       "       [ 7.06687643e-02],\n",
       "       [ 7.06687643e-02],\n",
       "       [ 3.29581828e-01],\n",
       "       [-1.57267857e-01],\n",
       "       [ 2.92117609e-01],\n",
       "       [-2.99679727e-01],\n",
       "       [-2.16520860e-01],\n",
       "       [-1.87765210e-01],\n",
       "       [-3.82926172e-01],\n",
       "       [ 4.38773766e-01],\n",
       "       [ 5.34986067e-01],\n",
       "       [ 2.43823964e-01],\n",
       "       [-2.28433253e-01],\n",
       "       [ 1.27096891e-01],\n",
       "       [ 3.71526560e-01],\n",
       "       [-2.28433253e-01],\n",
       "       [-1.57267857e-01],\n",
       "       [-2.29630302e-02],\n",
       "       [-1.06202151e-01],\n",
       "       [ 1.51388192e-01],\n",
       "       [-1.57267857e-01],\n",
       "       [ 2.60880047e-01],\n",
       "       [-4.99663522e-02],\n",
       "       [-4.77801982e-01],\n",
       "       [ 9.62310526e-02],\n",
       "       [-2.30374557e-01],\n",
       "       [ 3.28338726e-01],\n",
       "       [ 9.73241301e-02],\n",
       "       [ 1.51388192e-01],\n",
       "       [-4.50474590e-01],\n",
       "       [-3.02066217e-01],\n",
       "       [ 3.72835047e-01],\n",
       "       [ 4.72478474e-01],\n",
       "       [ 2.33206564e-01],\n",
       "       [ 2.36988777e-01],\n",
       "       [ 4.31620291e-01],\n",
       "       [-4.62541024e-01],\n",
       "       [ 1.69462522e-01],\n",
       "       [-2.58285304e-01],\n",
       "       [-4.22841192e-01],\n",
       "       [ 1.69462522e-01],\n",
       "       [-4.08558146e-01],\n",
       "       [ 3.21772513e-01],\n",
       "       [-3.08360682e-01],\n",
       "       [ 1.35727648e-01],\n",
       "       [-2.75556362e-01],\n",
       "       [ 5.80481437e-01],\n",
       "       [-4.53549346e-01],\n",
       "       [-1.57267857e-01],\n",
       "       [ 9.62310526e-02],\n",
       "       [-2.16520860e-01],\n",
       "       [ 8.99420637e-02],\n",
       "       [-3.45889501e-01],\n",
       "       [ 1.88655413e-01],\n",
       "       [ 2.48447534e-01],\n",
       "       [ 7.61270030e-01],\n",
       "       [ 4.34998424e-01],\n",
       "       [ 2.68470608e-01],\n",
       "       [ 9.62310526e-02],\n",
       "       [ 2.05895265e-01],\n",
       "       [-4.62541024e-01],\n",
       "       [ 2.17879676e-01],\n",
       "       [-5.54186738e-01],\n",
       "       [ 1.69462522e-01],\n",
       "       [ 2.47754365e-01],\n",
       "       [-1.87765210e-01],\n",
       "       [ 6.12618457e-01],\n",
       "       [ 8.34621741e-02],\n",
       "       [ 1.96838839e-01],\n",
       "       [ 4.65809820e-02],\n",
       "       [ 2.04477084e-01],\n",
       "       [ 2.17879676e-01],\n",
       "       [ 3.31625964e-01],\n",
       "       [-3.03002848e-02],\n",
       "       [ 4.31620291e-01],\n",
       "       [-2.16520860e-01],\n",
       "       [ 3.96245511e-02],\n",
       "       [ 4.65809820e-02],\n",
       "       [-5.67345123e-01],\n",
       "       [ 1.93002947e-01],\n",
       "       [ 4.47036168e-04],\n",
       "       [-8.63031323e-02],\n",
       "       [ 9.28473663e-01],\n",
       "       [ 8.95684009e-01],\n",
       "       [-2.02482203e-01],\n",
       "       [-9.09008545e-02],\n",
       "       [ 5.45968595e-01],\n",
       "       [-2.34970734e-01],\n",
       "       [ 3.27959492e-01],\n",
       "       [ 2.04477084e-01],\n",
       "       [-7.71343849e-02],\n",
       "       [-7.23303034e-02],\n",
       "       [ 1.69462522e-01],\n",
       "       [-1.37778181e-01],\n",
       "       [ 3.72835047e-01],\n",
       "       [ 1.79884127e-01],\n",
       "       [-1.37778181e-01],\n",
       "       [-3.53319231e-01],\n",
       "       [-2.02482203e-01],\n",
       "       [-2.28854342e-01],\n",
       "       [-6.75716532e-01],\n",
       "       [ 3.41665967e-01],\n",
       "       [ 1.24278349e-01],\n",
       "       [-6.33338946e-01],\n",
       "       [ 2.54193783e-01],\n",
       "       [-9.80910816e-02],\n",
       "       [-4.86615530e-01],\n",
       "       [ 6.13431251e-02],\n",
       "       [ 5.79218358e-01],\n",
       "       [-3.32542004e-01],\n",
       "       [-6.45213022e-01],\n",
       "       [-1.37778181e-01],\n",
       "       [ 1.51388192e-01],\n",
       "       [ 2.17879676e-01],\n",
       "       [-2.28854342e-01],\n",
       "       [ 4.72478474e-01],\n",
       "       [-1.77759285e-01],\n",
       "       [-6.26051628e-02],\n",
       "       [ 2.73346021e-01],\n",
       "       [-1.96895050e-01],\n",
       "       [-2.58285304e-01],\n",
       "       [-4.66411222e-01],\n",
       "       [ 5.36941216e-01],\n",
       "       [ 1.79884127e-01],\n",
       "       [ 8.71518703e-02],\n",
       "       [-1.40947064e-01],\n",
       "       [ 1.09319831e-01],\n",
       "       [ 1.60886256e-01],\n",
       "       [-2.26963567e-01],\n",
       "       [-1.37778181e-01],\n",
       "       [-2.67124537e-01],\n",
       "       [-2.98725593e-01],\n",
       "       [-1.68061426e-02],\n",
       "       [-4.41147075e-01],\n",
       "       [-6.73391328e-01],\n",
       "       [ 2.17879676e-01],\n",
       "       [-2.02482203e-01],\n",
       "       [-2.44153072e-01],\n",
       "       [-3.82926172e-01],\n",
       "       [-3.25112394e-01],\n",
       "       [ 4.29424852e-01],\n",
       "       [ 2.48447534e-01],\n",
       "       [-2.58285304e-01],\n",
       "       [-1.34807061e-01],\n",
       "       [-2.72702564e-01],\n",
       "       [-1.14815151e-02],\n",
       "       [-3.49121623e-01],\n",
       "       [-2.40249898e-01],\n",
       "       [ 1.51388192e-01],\n",
       "       [-2.16520860e-01],\n",
       "       [ 1.51388192e-01],\n",
       "       [ 5.67643238e-01],\n",
       "       [ 1.51388192e-01],\n",
       "       [ 3.29581828e-01],\n",
       "       [-2.40249898e-01],\n",
       "       [-1.37778181e-01],\n",
       "       [-2.29630302e-02],\n",
       "       [ 3.29581828e-01],\n",
       "       [ 6.11741951e-01],\n",
       "       [ 4.57091488e-01],\n",
       "       [ 1.74800230e-01],\n",
       "       [-2.72702564e-01],\n",
       "       [ 2.33206564e-01],\n",
       "       [-1.80326730e-01],\n",
       "       [-2.28433253e-01],\n",
       "       [-3.45889501e-01],\n",
       "       [-1.40947064e-01],\n",
       "       [-1.40947064e-01],\n",
       "       [ 4.42187287e-01],\n",
       "       [-1.37778181e-01],\n",
       "       [-2.67124537e-01],\n",
       "       [ 9.62310526e-02],\n",
       "       [ 2.43823964e-01],\n",
       "       [-1.34807061e-01],\n",
       "       [-2.28433253e-01],\n",
       "       [ 2.92117609e-01],\n",
       "       [ 4.28123498e-01],\n",
       "       [ 2.04477084e-01],\n",
       "       [ 1.95660035e-01],\n",
       "       [ 2.84164914e-01],\n",
       "       [ 9.62310526e-02],\n",
       "       [-3.02066217e-01],\n",
       "       [-1.34807061e-01],\n",
       "       [ 2.60880047e-01],\n",
       "       [-2.77759639e-01],\n",
       "       [ 2.17879676e-01],\n",
       "       [-2.87968197e-01],\n",
       "       [-1.76189479e-02],\n",
       "       [-2.69614121e-01],\n",
       "       [-5.16570608e-02]])"
      ]
     },
     "execution_count": 76,
     "metadata": {},
     "output_type": "execute_result"
    }
   ],
   "source": [
    "pipe_svm.coef_.T"
   ]
  },
  {
   "cell_type": "code",
   "execution_count": 78,
   "metadata": {},
   "outputs": [],
   "source": [
    "result=pd.DataFrame(pipe_svm.coef_.T,index=voc.sort_index()[0],\n",
    "            columns=['w'])"
   ]
  },
  {
   "cell_type": "code",
   "execution_count": 80,
   "metadata": {
    "collapsed": true
   },
   "outputs": [
    {
     "data": {
      "text/html": [
       "<div>\n",
       "<style scoped>\n",
       "    .dataframe tbody tr th:only-of-type {\n",
       "        vertical-align: middle;\n",
       "    }\n",
       "\n",
       "    .dataframe tbody tr th {\n",
       "        vertical-align: top;\n",
       "    }\n",
       "\n",
       "    .dataframe thead th {\n",
       "        text-align: right;\n",
       "    }\n",
       "</style>\n",
       "<table border=\"1\" class=\"dataframe\">\n",
       "  <thead>\n",
       "    <tr style=\"text-align: right;\">\n",
       "      <th></th>\n",
       "      <th>w</th>\n",
       "    </tr>\n",
       "    <tr>\n",
       "      <th>0</th>\n",
       "      <th></th>\n",
       "    </tr>\n",
       "  </thead>\n",
       "  <tbody>\n",
       "    <tr>\n",
       "      <th>재미있</th>\n",
       "      <td>0.928474</td>\n",
       "    </tr>\n",
       "    <tr>\n",
       "      <th>재밌</th>\n",
       "      <td>0.895684</td>\n",
       "    </tr>\n",
       "    <tr>\n",
       "      <th>인상적</th>\n",
       "      <td>0.761270</td>\n",
       "    </tr>\n",
       "    <tr>\n",
       "      <th>드라마</th>\n",
       "      <td>0.725356</td>\n",
       "    </tr>\n",
       "    <tr>\n",
       "      <th>내일</th>\n",
       "      <td>0.661584</td>\n",
       "    </tr>\n",
       "    <tr>\n",
       "      <th>...</th>\n",
       "      <td>...</td>\n",
       "    </tr>\n",
       "    <tr>\n",
       "      <th>추천</th>\n",
       "      <td>-0.673391</td>\n",
       "    </tr>\n",
       "    <tr>\n",
       "      <th>실망</th>\n",
       "      <td>-0.675713</td>\n",
       "    </tr>\n",
       "    <tr>\n",
       "      <th>졸작</th>\n",
       "      <td>-0.675717</td>\n",
       "    </tr>\n",
       "    <tr>\n",
       "      <th>쓰레기</th>\n",
       "      <td>-0.686036</td>\n",
       "    </tr>\n",
       "    <tr>\n",
       "      <th>관객</th>\n",
       "      <td>-0.879508</td>\n",
       "    </tr>\n",
       "  </tbody>\n",
       "</table>\n",
       "<p>500 rows × 1 columns</p>\n",
       "</div>"
      ],
      "text/plain": [
       "            w\n",
       "0            \n",
       "재미있  0.928474\n",
       "재밌   0.895684\n",
       "인상적  0.761270\n",
       "드라마  0.725356\n",
       "내일   0.661584\n",
       "..        ...\n",
       "추천  -0.673391\n",
       "실망  -0.675713\n",
       "졸작  -0.675717\n",
       "쓰레기 -0.686036\n",
       "관객  -0.879508\n",
       "\n",
       "[500 rows x 1 columns]"
      ]
     },
     "execution_count": 80,
     "metadata": {},
     "output_type": "execute_result"
    }
   ],
   "source": [
    "result.sort_values(by='w',ascending=False)"
   ]
  },
  {
   "cell_type": "code",
   "execution_count": null,
   "metadata": {},
   "outputs": [],
   "source": []
  },
  {
   "cell_type": "code",
   "execution_count": null,
   "metadata": {},
   "outputs": [],
   "source": []
  }
 ],
 "metadata": {
  "kernelspec": {
   "display_name": "Python 3",
   "language": "python",
   "name": "python3"
  },
  "language_info": {
   "codemirror_mode": {
    "name": "ipython",
    "version": 3
   },
   "file_extension": ".py",
   "mimetype": "text/x-python",
   "name": "python",
   "nbconvert_exporter": "python",
   "pygments_lexer": "ipython3",
   "version": "3.8.5"
  }
 },
 "nbformat": 4,
 "nbformat_minor": 4
}
