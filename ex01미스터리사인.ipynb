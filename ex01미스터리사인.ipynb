{
 "cells": [
  {
   "cell_type": "markdown",
   "metadata": {},
   "source": [
    "# Question1\n",
    "- 22?7=37\n",
    "- 큰수+두수의 차\n",
    "- 22+(33-7)\n"
   ]
  },
  {
   "cell_type": "code",
   "execution_count": 4,
   "metadata": {},
   "outputs": [],
   "source": [
    "import pandas as pd"
   ]
  },
  {
   "cell_type": "code",
   "execution_count": 11,
   "metadata": {},
   "outputs": [],
   "source": [
    "#문제와 정답 만들기\n",
    "#1.문제와 정답을 담을 공간 만들기- 리스트\n",
    "list1=[]\n",
    "\n",
    "# 1부터 199까지 동작하는 for문 만들기(변수 a)\n",
    "for a in range(1,200):\n",
    "    #1부터 199까지 동작하는 for문 만들기(변수 b)\n",
    "    for b in range(1,200):\n",
    "        #규칙을  통해 a와b를 연산한 결과 만들기(변수 result)\n",
    "        if a>b:\n",
    "            result=a+(a-b)\n",
    "        else :\n",
    "            result= b+(b-a)\n",
    "        #리스트에 문제(a,b)와 정답(result)담기\n",
    "        list1.append([a,b,result])\n",
    "        \n",
    "        "
   ]
  },
  {
   "cell_type": "code",
   "execution_count": 16,
   "metadata": {},
   "outputs": [],
   "source": [
    "#list1을 DataFrame으로 만드는데\n",
    "#컬럼이름을 A,B,Result\n",
    "# DataFrame(자료,colum=[])\n",
    "data=pd.DataFrame(list1,columns=[\"A\",\"B\",\"Result\"])\n",
    "#데이터 준비 완료!"
   ]
  },
  {
   "cell_type": "code",
   "execution_count": 18,
   "metadata": {},
   "outputs": [],
   "source": [
    "#데이터를 문제와 정답으로 분리\n",
    "#문제 =x\n",
    "#정답=y\n",
    "#loc[행:열]\n",
    "x=data.loc[:,[\"A\",\"B\"]]\n",
    "y=data.loc[:,\"Result\"]\n"
   ]
  },
  {
   "cell_type": "markdown",
   "metadata": {},
   "source": [
    "머신러닝모델에 학습시키기"
   ]
  },
  {
   "cell_type": "code",
   "execution_count": 27,
   "metadata": {},
   "outputs": [
    {
     "data": {
      "text/plain": [
       "RandomForestRegressor()"
      ]
     },
     "execution_count": 27,
     "metadata": {},
     "output_type": "execute_result"
    }
   ],
   "source": [
    "#머신러닝 모델 받아오기\n",
    "from sklearn.ensemble import RandomForestRegressor\n",
    "random_forest= RandomForestRegressor()\n",
    "\n",
    "#모델에 학습(fit)시키기\n",
    "#fit(문제데이터, 정답데이터)\n",
    "random_forest.fit(x,y)"
   ]
  },
  {
   "cell_type": "code",
   "execution_count": 28,
   "metadata": {},
   "outputs": [
    {
     "data": {
      "text/html": [
       "<div>\n",
       "<style scoped>\n",
       "    .dataframe tbody tr th:only-of-type {\n",
       "        vertical-align: middle;\n",
       "    }\n",
       "\n",
       "    .dataframe tbody tr th {\n",
       "        vertical-align: top;\n",
       "    }\n",
       "\n",
       "    .dataframe thead th {\n",
       "        text-align: right;\n",
       "    }\n",
       "</style>\n",
       "<table border=\"1\" class=\"dataframe\">\n",
       "  <thead>\n",
       "    <tr style=\"text-align: right;\">\n",
       "      <th></th>\n",
       "      <th>A</th>\n",
       "      <th>B</th>\n",
       "      <th>Result</th>\n",
       "    </tr>\n",
       "  </thead>\n",
       "  <tbody>\n",
       "    <tr>\n",
       "      <th>0</th>\n",
       "      <td>1</td>\n",
       "      <td>1</td>\n",
       "      <td>1</td>\n",
       "    </tr>\n",
       "    <tr>\n",
       "      <th>1</th>\n",
       "      <td>1</td>\n",
       "      <td>2</td>\n",
       "      <td>3</td>\n",
       "    </tr>\n",
       "    <tr>\n",
       "      <th>2</th>\n",
       "      <td>1</td>\n",
       "      <td>3</td>\n",
       "      <td>5</td>\n",
       "    </tr>\n",
       "    <tr>\n",
       "      <th>3</th>\n",
       "      <td>1</td>\n",
       "      <td>4</td>\n",
       "      <td>7</td>\n",
       "    </tr>\n",
       "    <tr>\n",
       "      <th>4</th>\n",
       "      <td>1</td>\n",
       "      <td>5</td>\n",
       "      <td>9</td>\n",
       "    </tr>\n",
       "    <tr>\n",
       "      <th>...</th>\n",
       "      <td>...</td>\n",
       "      <td>...</td>\n",
       "      <td>...</td>\n",
       "    </tr>\n",
       "    <tr>\n",
       "      <th>39596</th>\n",
       "      <td>199</td>\n",
       "      <td>195</td>\n",
       "      <td>203</td>\n",
       "    </tr>\n",
       "    <tr>\n",
       "      <th>39597</th>\n",
       "      <td>199</td>\n",
       "      <td>196</td>\n",
       "      <td>202</td>\n",
       "    </tr>\n",
       "    <tr>\n",
       "      <th>39598</th>\n",
       "      <td>199</td>\n",
       "      <td>197</td>\n",
       "      <td>201</td>\n",
       "    </tr>\n",
       "    <tr>\n",
       "      <th>39599</th>\n",
       "      <td>199</td>\n",
       "      <td>198</td>\n",
       "      <td>200</td>\n",
       "    </tr>\n",
       "    <tr>\n",
       "      <th>39600</th>\n",
       "      <td>199</td>\n",
       "      <td>199</td>\n",
       "      <td>199</td>\n",
       "    </tr>\n",
       "  </tbody>\n",
       "</table>\n",
       "<p>39601 rows × 3 columns</p>\n",
       "</div>"
      ],
      "text/plain": [
       "         A    B  Result\n",
       "0        1    1       1\n",
       "1        1    2       3\n",
       "2        1    3       5\n",
       "3        1    4       7\n",
       "4        1    5       9\n",
       "...    ...  ...     ...\n",
       "39596  199  195     203\n",
       "39597  199  196     202\n",
       "39598  199  197     201\n",
       "39599  199  198     200\n",
       "39600  199  199     199\n",
       "\n",
       "[39601 rows x 3 columns]"
      ]
     },
     "execution_count": 28,
     "metadata": {},
     "output_type": "execute_result"
    }
   ],
   "source": [
    "data"
   ]
  },
  {
   "cell_type": "markdown",
   "metadata": {},
   "source": [
    "#머신러닝 모델이 규칙을 찾았는지 확인"
   ]
  },
  {
   "cell_type": "code",
   "execution_count": 36,
   "metadata": {},
   "outputs": [
    {
     "data": {
      "text/plain": [
       "array([37.06])"
      ]
     },
     "execution_count": 36,
     "metadata": {},
     "output_type": "execute_result"
    }
   ],
   "source": [
    "#머신러닝 모델이 규칙을 찾는지 확인해 보자\n",
    "# 찾은 규칙을 통해 새로운 문제에 규칙 적용\n",
    "\n",
    "#predict(문제데이터-2차원데이터)\n",
    "random_forest.predict([[22,7]])"
   ]
  },
  {
   "cell_type": "code",
   "execution_count": 37,
   "metadata": {},
   "outputs": [
    {
     "data": {
      "text/plain": [
       "0.9999976123690878"
      ]
     },
     "execution_count": 37,
     "metadata": {},
     "output_type": "execute_result"
    }
   ],
   "source": [
    "random_forest.score(x,y)"
   ]
  },
  {
   "cell_type": "raw",
   "metadata": {},
   "source": []
  }
 ],
 "metadata": {
  "kernelspec": {
   "display_name": "Python 3",
   "language": "python",
   "name": "python3"
  },
  "language_info": {
   "codemirror_mode": {
    "name": "ipython",
    "version": 3
   },
   "file_extension": ".py",
   "mimetype": "text/x-python",
   "name": "python",
   "nbconvert_exporter": "python",
   "pygments_lexer": "ipython3",
   "version": "3.8.5"
  }
 },
 "nbformat": 4,
 "nbformat_minor": 4
}
